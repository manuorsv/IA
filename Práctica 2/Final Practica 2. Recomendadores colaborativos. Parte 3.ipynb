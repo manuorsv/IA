{
 "cells": [
  {
   "cell_type": "markdown",
   "metadata": {},
   "source": [
    "Grupo 12\n",
    "\n",
    "Francisco de Borja Lozano del Moral\n",
    "\n",
    "Manuel Ortega Salvador"
   ]
  },
  {
   "cell_type": "markdown",
   "metadata": {},
   "source": [
    "## Tercera parte.  Recomendacion basada en filtrado colaborativo."
   ]
  },
  {
   "cell_type": "markdown",
   "metadata": {},
   "source": [
    "En esta tercera parte utilizaremos la librería SURPRISE Se puede consultar la documentacion en http://surpriselib.com/\n",
    "\n",
    "Para instalarla: conda install -c conda-forge scikit-surprise o pip install numpy pip install scikit-surprise\n",
    "\n",
    "La librería SurPRISE (Simple Python RecommendatIon System Engine) tiene algoritmos de predición de ratings incluidos: baseline algorithms, neighborhood methods, matrix factorization-based ( SVD, PMF, SVD++, NMF) y otros. También tiene predefinidas las medidas de similitud mas comunes sobre vectores (cosine, MSD, pearson…) Una de las cosas más utiles es que proporciona herramientas para evaluar, analizar y comparar el rendimiento de distitnos algoritmos. Lo que vamos a hacer en esta parte de la práctica es probar varios procedimientos de evaluación cruzada midiendo datos sobre errores entre el valor real (conocido) y la predicción del recomendador. Las siglas corresponden a las siguientes medidas:\n",
    "\n",
    "MAE: Mean Absolute Error\n",
    "RMSE: Root mean square error (RMSE)\n",
    "MSE: mean square error is defined as the expected value of the square of the difference between the estimator and the parameter. -square root of the mean square error.\n",
    "\n",
    "Vamos a ejecutar algunos recomendadores y evaluarlos para poder comentar los resultados.\n"
   ]
  },
  {
   "cell_type": "code",
   "execution_count": 1,
   "metadata": {},
   "outputs": [],
   "source": [
    "from collections import defaultdict\n",
    "import numpy as np\n",
    "\n",
    "from surprise import KNNBasic\n",
    "from surprise import KNNWithMeans\n",
    "from surprise import KNNWithZScore\n",
    "from surprise import KNNBaseline\n",
    "\n",
    "from surprise import Dataset\n",
    "from surprise import accuracy\n",
    "from surprise.model_selection import train_test_split"
   ]
  },
  {
   "cell_type": "code",
   "execution_count": 2,
   "metadata": {},
   "outputs": [
    {
     "name": "stdout",
     "output_type": "stream",
     "text": [
      "Evaluating RMSE, MAE of algorithm SVD on 5 split(s).\n",
      "\n",
      "                  Fold 1  Fold 2  Fold 3  Fold 4  Fold 5  Mean    Std     \n",
      "RMSE (testset)    0.9343  0.9332  0.9410  0.9352  0.9370  0.9361  0.0027  \n",
      "MAE (testset)     0.7388  0.7359  0.7398  0.7367  0.7395  0.7381  0.0016  \n",
      "Fit time          3.69    3.68    3.67    3.68    3.63    3.67    0.02    \n",
      "Test time         0.14    0.10    0.13    0.13    0.13    0.13    0.01    \n"
     ]
    },
    {
     "data": {
      "text/plain": [
       "{'test_rmse': array([0.9343429 , 0.93316258, 0.94102922, 0.93515543, 0.93702904]),\n",
       " 'test_mae': array([0.73877524, 0.73593063, 0.7398088 , 0.73666124, 0.73947574]),\n",
       " 'fit_time': (3.692274570465088,\n",
       "  3.679579019546509,\n",
       "  3.674455404281616,\n",
       "  3.6821165084838867,\n",
       "  3.633521318435669),\n",
       " 'test_time': (0.13609910011291504,\n",
       "  0.10202169418334961,\n",
       "  0.13121891021728516,\n",
       "  0.130112886428833,\n",
       "  0.12912511825561523)}"
      ]
     },
     "execution_count": 2,
     "metadata": {},
     "output_type": "execute_result"
    }
   ],
   "source": [
    "## Ejemplo getting started de la documentación de SURPRISE\n",
    "##http://surpriselib.com/\n",
    "\n",
    "from surprise import SVD\n",
    "from surprise import Dataset\n",
    "from surprise.model_selection import cross_validate\n",
    "\n",
    "# Load the movielens-100k dataset (download it if needed).\n",
    "data = Dataset.load_builtin('ml-100k')\n",
    "\n",
    "# Use the famous SVD algorithm.\n",
    "algo = SVD()\n",
    "\n",
    "# Run 5-fold cross-validation and print results.\n",
    "cross_validate(algo, data, measures=['RMSE', 'MAE'], cv=5, verbose=True)\n",
    "\n"
   ]
  },
  {
   "cell_type": "markdown",
   "metadata": {},
   "source": []
  },
  {
   "cell_type": "code",
   "execution_count": 3,
   "metadata": {},
   "outputs": [],
   "source": [
    "# Evaluacion extracted from surprise: \n",
    "# https://surprise.readthedocs.io/en/stable/FAQ.html#how-to-compute-precision-k-and-recall-k\n",
    "def measures_at_k(predictions, k, th_recom, th_relev):\n",
    "    '''Return precision and recall at k metrics for each user.'''\n",
    "\n",
    "    # First map the predictions to each user.\n",
    "    user_est_true = defaultdict(list)\n",
    "    for uid, _, true_r, est, _ in predictions:\n",
    "        user_est_true[uid].append((est, true_r))\n",
    "\n",
    "    precisions = dict()\n",
    "    recalls = dict()\n",
    "    onehits = dict()\n",
    "    mrr = dict()\n",
    "    \n",
    "    for uid, user_ratings in user_est_true.items():\n",
    "        \n",
    "        # Sort user ratings by estimated value\n",
    "        user_ratings.sort(key=lambda x: x[0], reverse=True)\n",
    "\n",
    "        # Number of relevant items\n",
    "        n_rel = sum((true_r >= th_relev) for (_, true_r) in user_ratings)\n",
    "\n",
    "        # Number of recommended items in top k\n",
    "        n_rec_k = sum((est >= th_recom) for (est, _) in user_ratings[:k])\n",
    "\n",
    "        # Number of relevant and recommended items in top k\n",
    "        n_rel_and_rec_k = sum(((true_r >= th_relev) and (est >= th_recom))\n",
    "                              for (est, true_r) in user_ratings[:k])\n",
    "\n",
    "        # Precision@K: Proportion of recommended items that are relevant\n",
    "        precisions[uid] = n_rel_and_rec_k / n_rec_k if n_rec_k != 0 else 0\n",
    "\n",
    "        # Recall@K: Proportion of relevant items that are recommended\n",
    "        recalls[uid] = n_rel_and_rec_k / n_rel if n_rel != 0 else 0\n",
    "       \n",
    "        \n",
    "    return precisions, recalls\n"
   ]
  },
  {
   "cell_type": "code",
   "execution_count": 4,
   "metadata": {},
   "outputs": [],
   "source": [
    "def f1(precision, recall):\n",
    "    \"\"\"\n",
    "        Funcion que calcula el f1 (media armónica) en funcion de precision y recall\n",
    "    \"\"\"\n",
    "    denominador = precision + recall\n",
    "    \n",
    "    if denominador == 0:\n",
    "        return 0\n",
    "    else:\n",
    "        return (2 * precision * recall) / denominador"
   ]
  },
  {
   "cell_type": "code",
   "execution_count": 5,
   "metadata": {},
   "outputs": [],
   "source": [
    "def get_results(recommendations, k, knn):\n",
    "    \"\"\"\n",
    "        Function to get the measures results \n",
    "    \"\"\"\n",
    "    # threshold = 4 --> solo se tienen en cuenta peliculas que hayan \n",
    "    # sido puntuadas con 4 o 5 estrellas\n",
    "    precisions, recalls  = measures_at_k(recommendations, k, th_recom=4, th_relev=1)\n",
    "    \n",
    "    # Measures can then be averaged over all users\n",
    "    precision_result = sum(prec for prec in precisions.values()) / len(precisions)\n",
    "    recall_result = sum(rec for rec in recalls.values()) / len(recalls)\n",
    "    # Media armónica  \n",
    "    f1_result = f1(precision_result, recall_result)\n",
    "    # En este archivo se volcarán los resultados de las métricas. Tiene que existir. \n",
    "    f = open(\"./results_user_cf.csv\", 'a')\n",
    "    #f = open(\"C:/hlocal/results_user_cf.csv\", 'a')\n",
    "    f.write(str(k) + ',' + knn + \",\" + str(precision_result) + ',' + str(recall_result) + ',' +  str(f1_result) +  '\\n') \n",
    "    f.close()\n",
    "    "
   ]
  },
  {
   "cell_type": "code",
   "execution_count": 6,
   "metadata": {},
   "outputs": [],
   "source": [
    "# Hemos cargado antes los datos de movieLens para 100K\n",
    "# data = Dataset.load_builtin('ml-100k')"
   ]
  },
  {
   "cell_type": "code",
   "execution_count": 7,
   "metadata": {},
   "outputs": [],
   "source": [
    "# creo dos conjuntos de datos, el training set y el evaluation set\n",
    "# cada uno contendra la mitad de los datos\n",
    "training_set, evaluation_set = train_test_split(data, test_size=.5)"
   ]
  },
  {
   "cell_type": "code",
   "execution_count": 8,
   "metadata": {},
   "outputs": [],
   "source": [
    "# Ahora determino cual es el algoritmo que voy a usar de recomendacion\n",
    "# en este caso voy a usar el algoritmo KNN para encontrar las similitudes entre items\n",
    "recommendation_algorithm = KNNBasic(k=100, sim_options={'name': 'pearson_baseline', 'user_based': True})\n",
    "#print(recommendation_algorithm)"
   ]
  },
  {
   "cell_type": "code",
   "execution_count": 9,
   "metadata": {},
   "outputs": [
    {
     "name": "stdout",
     "output_type": "stream",
     "text": [
      "Estimating biases using als...\n",
      "Computing the pearson_baseline similarity matrix...\n",
      "Done computing similarity matrix.\n"
     ]
    },
    {
     "data": {
      "text/plain": [
       "<surprise.prediction_algorithms.knns.KNNBasic at 0x2745d4e15e0>"
      ]
     },
     "execution_count": 9,
     "metadata": {},
     "output_type": "execute_result"
    }
   ],
   "source": [
    "# aplico el algoritmo sobre el training_set\n",
    "recommendation_algorithm.fit(training_set)\n",
    "#print(recommendation_algorithm)"
   ]
  },
  {
   "cell_type": "code",
   "execution_count": 10,
   "metadata": {},
   "outputs": [],
   "source": [
    "# aplico el algoritmo sobre el evaluation set y obtengo las predicciones en las recomendaciones\n",
    "recommendations = recommendation_algorithm.test(evaluation_set)\n",
    "#print(recommendations)"
   ]
  },
  {
   "cell_type": "code",
   "execution_count": 11,
   "metadata": {},
   "outputs": [],
   "source": [
    "K = 10\n",
    "for k in range(K):\n",
    "    get_results(recommendations, k+1, \"knn_basic\")"
   ]
  },
  {
   "cell_type": "code",
   "execution_count": 12,
   "metadata": {},
   "outputs": [
    {
     "name": "stdout",
     "output_type": "stream",
     "text": [
      "Estimating biases using als...\n",
      "Computing the pearson_baseline similarity matrix...\n",
      "Done computing similarity matrix.\n"
     ]
    }
   ],
   "source": [
    "##########################################################\n",
    "# Hacer distintas pruebas con el resto de tipos KNN\n",
    "recommendation_algorithm = KNNWithMeans(k=100, sim_options={'name': 'pearson_baseline', 'user_based': True})\n",
    "\n",
    "# aplico el algoritmo sobre el training_set\n",
    "recommendation_algorithm.fit(training_set)\n",
    "\n",
    "# aplico el algoritmo sobre el evaluation set y obtengo las predicciones en las recomendaciones\n",
    "recommendations = recommendation_algorithm.test(evaluation_set)\n",
    "\n",
    "K = 10\n",
    "for k in range(K):\n",
    "    get_results(recommendations, k+1, \"knn_withmeans\")"
   ]
  },
  {
   "cell_type": "code",
   "execution_count": 13,
   "metadata": {
    "scrolled": true
   },
   "outputs": [
    {
     "name": "stdout",
     "output_type": "stream",
     "text": [
      "Estimating biases using als...\n",
      "Computing the pearson_baseline similarity matrix...\n",
      "Done computing similarity matrix.\n"
     ]
    }
   ],
   "source": [
    "##########################################################\n",
    "# Hago lo mismo con el resto de tipos KNN\n",
    "recommendation_algorithm = KNNWithZScore(k=100, sim_options={'name': 'pearson_baseline', 'user_based': True})\n",
    "\n",
    "# aplico el algoritmo sobre el training_set\n",
    "recommendation_algorithm.fit(training_set)\n",
    "\n",
    "# aplico el algoritmo sobre el evaluation set y obtengo las predicciones en las recomendaciones\n",
    "recommendations = recommendation_algorithm.test(evaluation_set)\n",
    "\n",
    "K = 10\n",
    "for k in range(K):\n",
    "    get_results(recommendations, k+1, \"knn_withzscore\")"
   ]
  },
  {
   "cell_type": "code",
   "execution_count": 14,
   "metadata": {},
   "outputs": [
    {
     "name": "stdout",
     "output_type": "stream",
     "text": [
      "Estimating biases using als...\n",
      "Computing the pearson_baseline similarity matrix...\n",
      "Done computing similarity matrix.\n"
     ]
    }
   ],
   "source": [
    "##########################################################\n",
    "# Hago lo mismo con el resto de tipos KNN\n",
    "recommendation_algorithm = KNNBaseline(k=100, sim_options={'name': 'pearson_baseline', 'user_based': True})\n",
    "\n",
    "# aplico el algoritmo sobre el training_set\n",
    "recommendation_algorithm.fit(training_set)\n",
    "\n",
    "# aplico el algoritmo sobre el evaluation set y obtengo las predicciones en las recomendaciones\n",
    "recommendations = recommendation_algorithm.test(evaluation_set)\n",
    "\n",
    "K = 10\n",
    "for k in range(K):\n",
    "    get_results(recommendations, k+1, \"knn_baseline\")"
   ]
  },
  {
   "cell_type": "markdown",
   "metadata": {},
   "source": [
    "## Ejercicio:  se pide ejecutar, comprender y escribir comentarios razonados sobre la evaluación de distintos recomendadores.\n",
    "    \n",
    "Prueba otros algoritmos de predicción de ratings basados en la estimación de los vecinos más próximos y realiza evaluaciones de su comportamiento. Comenta los resultados.¶\n",
    "Puedes consultar la documentación en https://surprise.readthedocs.io/en/stable/knn_inspired.html#"
   ]
  },
  {
   "cell_type": "markdown",
   "metadata": {},
   "source": [
    "### Resultados de lo anterior\n",
    "\n",
    "De mejor a peor, parecemos tener:\n",
    "\n",
    "1. baseline\n",
    "\n",
    "2. wth zscore\n",
    "\n",
    "3. wth means\n",
    "\n",
    "4. basic\n",
    "\n",
    "Esto, a primera vista tiene sentido. Cada usuario tiene un estilo de puntuación distinto, algunos siendo mucho más críticos que otros y solo dando notas entre 3-7, con otros dando 8-10 a todas las películas. Por ello, no tener en cuenta la media o distribución de notas va a funcionar peor.\n",
    "\n",
    "Entre zscore y means, es predecible que funcione mejor asumir que los usuarios ponen notas que se asemejen a distribuciones normales, y que así tenga un peso correcto la distancia a la media. Que se tenga en cuenta de manera especial cuando un usuario le ha dado muchos puntos mayor a lo que suele poner es intuitivo.\n",
    "\n",
    "Lo que es sorprendente es que una simple baseline funcione aun mejor. Asumimos que es porque al ser un parámetro aprendido, se ha encontrado una serie de baselines $b_u$ que funcionan aun mejor que asumiendo zscores a traves de experimentación, aprendiendo a disminuir la relevancia de algunos usuarios y aumentando la relevancia de otros, y de esta manera creando de alguna manera una calificación de como de fácil de satisfacer son algunos usuarios, y cómo de en serio hay que tomarlos.\n",
    "\n",
    "Aunque el entrenamiento sería más lento, probablemente se lograría unos resultados aun mejores si se aprendiera la también un parámetro parecido a $\\sigma_u$, para dar distinto valor según la distancia de $b_u$, pero este algoritmo no existe en Surprise.\n",
    "\n",
    "|k |type                |P   |   R|  F1|\n",
    "|--|--------------------|----|----|----|\n",
    "|01|           knn_basic|0.95|0.04|0.07|\n",
    "|02|           knn_basic|0.95|0.06|0.12|\n",
    "|03|           knn_basic|0.95|0.09|0.16|\n",
    "|04|           knn_basic|0.95|0.11|0.19|\n",
    "|05|           knn_basic|0.95|0.12|0.22|\n",
    "|06|           knn_basic|0.95|0.14|0.24|\n",
    "|07|           knn_basic|0.95|0.15|0.26|\n",
    "|08|           knn_basic|0.95|0.16|0.27|\n",
    "|09|           knn_basic|0.95|0.17|0.28|\n",
    "|10|           knn_basic|0.95|0.17|0.29|\n",
    "\n",
    "|k |type                |P   |   R|  F1|\n",
    "|--|--------------------|----|----|----|\n",
    "|01|       knn_withmeans|0.86|0.03|0.06|\n",
    "|02|       knn_withmeans|0.86|0.06|0.11|\n",
    "|03|       knn_withmeans|0.86|0.08|0.15|\n",
    "|04|       knn_withmeans|0.86|0.11|0.19|\n",
    "|05|       knn_withmeans|0.86|0.13|0.22|\n",
    "|06|       knn_withmeans|0.86|0.15|0.25|\n",
    "|07|       knn_withmeans|0.86|0.16|0.27|\n",
    "|08|       knn_withmeans|0.86|0.18|0.29|\n",
    "|09|       knn_withmeans|0.86|0.19|0.31|\n",
    "|10|       knn_withmeans|0.86|0.20|0.33|\n",
    "\n",
    "|k |type                |P   |   R|  F1|\n",
    "|--|--------------------|----|----|----|\n",
    "|01|      knn_withzscore|0.85|0.03|0.06|\n",
    "|02|      knn_withzscore|0.85|0.06|0.11|\n",
    "|03|      knn_withzscore|0.85|0.08|0.15|\n",
    "|04|      knn_withzscore|0.85|0.11|0.19|\n",
    "|05|      knn_withzscore|0.85|0.13|0.22|\n",
    "|06|      knn_withzscore|0.85|0.14|0.25|\n",
    "|07|      knn_withzscore|0.85|0.16|0.27|\n",
    "|08|      knn_withzscore|0.85|0.18|0.29|\n",
    "|09|      knn_withzscore|0.85|0.19|0.31|\n",
    "|10|      knn_withzscore|0.85|0.20|0.32|\n",
    "\n",
    "|k |type                |P   |   R|  F1|\n",
    "|--|--------------------|----|----|----|\n",
    "|01|        knn_baseline|0.92|0.04|0.07|\n",
    "|02|        knn_baseline|0.92|0.07|0.12|\n",
    "|03|        knn_baseline|0.92|0.09|0.17|\n",
    "|04|        knn_baseline|0.92|0.11|0.20|\n",
    "|05|        knn_baseline|0.92|0.13|0.23|\n",
    "|06|        knn_baseline|0.92|0.15|0.26|\n",
    "|07|        knn_baseline|0.92|0.16|0.28|\n",
    "|08|        knn_baseline|0.92|0.18|0.30|\n",
    "|09|        knn_baseline|0.92|0.19|0.31|\n",
    "|10|        knn_baseline|0.92|0.20|0.32|"
   ]
  },
  {
   "cell_type": "markdown",
   "metadata": {},
   "source": [
    "### Pruebas con cosine\n",
    "La comparación entre los algoritmos la haremos sobre los resultados obtenidos para el valor k=10, puesto que en todos ellos se aprecia claramente que desde k=1 hasta k=10 va aumentando el resultado de recall y por tanto la media, lo cual tiene sentido puesto que se están teniendo en cuenta un tamaño mayor de elementos en el set de recomendados y relevantes."
   ]
  },
  {
   "cell_type": "markdown",
   "metadata": {},
   "source": [
    "Primero, vamos a ver cómo afecta el computar las similitudes entre items en lugar de entre usuarios."
   ]
  },
  {
   "cell_type": "code",
   "execution_count": 15,
   "metadata": {},
   "outputs": [
    {
     "name": "stdout",
     "output_type": "stream",
     "text": [
      "Estimating biases using als...\n",
      "Computing the pearson_baseline similarity matrix...\n",
      "Done computing similarity matrix.\n"
     ]
    }
   ],
   "source": [
    "##########################################################\n",
    "# Hago lo mismo con el resto de tipos KNN\n",
    "recommendation_algorithm = KNNBasic(k=100, sim_options={'name': 'pearson_baseline', 'user_based': False})\n",
    "\n",
    "# aplico el algoritmo sobre el training_set\n",
    "recommendation_algorithm.fit(training_set)\n",
    "\n",
    "# aplico el algoritmo sobre el evaluation set y obtengo las predicciones en las recomendaciones\n",
    "recommendations = recommendation_algorithm.test(evaluation_set)\n",
    "\n",
    "K = 10\n",
    "for k in range(K):\n",
    "    get_results(recommendations, k+1, \"knn_basic\")"
   ]
  },
  {
   "cell_type": "code",
   "execution_count": 16,
   "metadata": {},
   "outputs": [
    {
     "name": "stdout",
     "output_type": "stream",
     "text": [
      "Estimating biases using als...\n",
      "Computing the pearson_baseline similarity matrix...\n",
      "Done computing similarity matrix.\n"
     ]
    }
   ],
   "source": [
    "##########################################################\n",
    "# Hago lo mismo con el resto de tipos KNN\n",
    "recommendation_algorithm = KNNWithMeans(k=100, sim_options={'name': 'pearson_baseline', 'user_based': False})\n",
    "\n",
    "# aplico el algoritmo sobre el training_set\n",
    "recommendation_algorithm.fit(training_set)\n",
    "\n",
    "# aplico el algoritmo sobre el evaluation set y obtengo las predicciones en las recomendaciones\n",
    "recommendations = recommendation_algorithm.test(evaluation_set)\n",
    "\n",
    "K = 10\n",
    "for k in range(K):\n",
    "    get_results(recommendations, k+1, \"knn_withmeans\")"
   ]
  },
  {
   "cell_type": "code",
   "execution_count": 17,
   "metadata": {},
   "outputs": [
    {
     "name": "stdout",
     "output_type": "stream",
     "text": [
      "Estimating biases using als...\n",
      "Computing the pearson_baseline similarity matrix...\n",
      "Done computing similarity matrix.\n"
     ]
    }
   ],
   "source": [
    "##########################################################\n",
    "# Hago lo mismo con el resto de tipos KNN\n",
    "recommendation_algorithm = KNNWithZScore(k=100, sim_options={'name': 'pearson_baseline', 'user_based': False})\n",
    "\n",
    "# aplico el algoritmo sobre el training_set\n",
    "recommendation_algorithm.fit(training_set)\n",
    "\n",
    "# aplico el algoritmo sobre el evaluation set y obtengo las predicciones en las recomendaciones\n",
    "recommendations = recommendation_algorithm.test(evaluation_set)\n",
    "\n",
    "K = 10\n",
    "for k in range(K):\n",
    "    get_results(recommendations, k+1, \"knn_withzscore\")"
   ]
  },
  {
   "cell_type": "code",
   "execution_count": 18,
   "metadata": {},
   "outputs": [
    {
     "name": "stdout",
     "output_type": "stream",
     "text": [
      "Estimating biases using als...\n",
      "Computing the pearson_baseline similarity matrix...\n",
      "Done computing similarity matrix.\n"
     ]
    }
   ],
   "source": [
    "##########################################################\n",
    "# Hago lo mismo con el resto de tipos KNN\n",
    "recommendation_algorithm = KNNBaseline(k=100, sim_options={'name': 'pearson_baseline', 'user_based': False})\n",
    "\n",
    "# aplico el algoritmo sobre el training_set\n",
    "recommendation_algorithm.fit(training_set)\n",
    "\n",
    "# aplico el algoritmo sobre el evaluation set y obtengo las predicciones en las recomendaciones\n",
    "recommendations = recommendation_algorithm.test(evaluation_set)\n",
    "\n",
    "K = 10\n",
    "for k in range(K):\n",
    "    get_results(recommendations, k+1, \"knn_baseline\")"
   ]
  },
  {
   "cell_type": "markdown",
   "metadata": {},
   "source": [
    "En KNNBasic y KNNWithMeans no ha habido mucha diferencia, mientras que en KNNWithZScore tenemos 0.3094456300468 de media con users y 0.32695845982079, y de nuevo en KNNBaseline la diferencia es muy pequeña. De todos modos en todas ellas, la similitud entre items nos ha dado una media mayor."
   ]
  },
  {
   "cell_type": "markdown",
   "metadata": {},
   "source": [
    "Ahora vamos a ver los mismos cuatro algoritmos empleando la similitud del coseno y viendo similitud entre users:"
   ]
  },
  {
   "cell_type": "code",
   "execution_count": 19,
   "metadata": {},
   "outputs": [
    {
     "name": "stdout",
     "output_type": "stream",
     "text": [
      "Computing the cosine similarity matrix...\n",
      "Done computing similarity matrix.\n"
     ]
    }
   ],
   "source": [
    "##########################################################\n",
    "# Hago lo mismo con el resto de tipos KNN\n",
    "recommendation_algorithm = KNNBasic(k=100, sim_options={'name': 'cosine', 'user_based': True})\n",
    "\n",
    "# aplico el algoritmo sobre el training_set\n",
    "recommendation_algorithm.fit(training_set)\n",
    "\n",
    "# aplico el algoritmo sobre el evaluation set y obtengo las predicciones en las recomendaciones\n",
    "recommendations = recommendation_algorithm.test(evaluation_set)\n",
    "\n",
    "K = 10\n",
    "for k in range(K):\n",
    "    get_results(recommendations, k+1, \"knn_basic\")"
   ]
  },
  {
   "cell_type": "code",
   "execution_count": 20,
   "metadata": {},
   "outputs": [
    {
     "name": "stdout",
     "output_type": "stream",
     "text": [
      "Computing the cosine similarity matrix...\n",
      "Done computing similarity matrix.\n"
     ]
    }
   ],
   "source": [
    "##########################################################\n",
    "# Hago lo mismo con el resto de tipos KNN\n",
    "recommendation_algorithm = KNNWithMeans(k=100, sim_options={'name': 'cosine', 'user_based': True})\n",
    "\n",
    "# aplico el algoritmo sobre el training_set\n",
    "recommendation_algorithm.fit(training_set)\n",
    "\n",
    "# aplico el algoritmo sobre el evaluation set y obtengo las predicciones en las recomendaciones\n",
    "recommendations = recommendation_algorithm.test(evaluation_set)\n",
    "\n",
    "K = 10\n",
    "for k in range(K):\n",
    "    get_results(recommendations, k+1, \"knn_withmeans\")"
   ]
  },
  {
   "cell_type": "code",
   "execution_count": 21,
   "metadata": {},
   "outputs": [
    {
     "name": "stdout",
     "output_type": "stream",
     "text": [
      "Computing the cosine similarity matrix...\n",
      "Done computing similarity matrix.\n"
     ]
    }
   ],
   "source": [
    "##########################################################\n",
    "# Hago lo mismo con el resto de tipos KNN\n",
    "recommendation_algorithm = KNNWithZScore(k=100, sim_options={'name': 'cosine', 'user_based': True})\n",
    "\n",
    "# aplico el algoritmo sobre el training_set\n",
    "recommendation_algorithm.fit(training_set)\n",
    "\n",
    "# aplico el algoritmo sobre el evaluation set y obtengo las predicciones en las recomendaciones\n",
    "recommendations = recommendation_algorithm.test(evaluation_set)\n",
    "\n",
    "K = 10\n",
    "for k in range(K):\n",
    "    get_results(recommendations, k+1, \"knn_withzscore\")"
   ]
  },
  {
   "cell_type": "code",
   "execution_count": 22,
   "metadata": {},
   "outputs": [
    {
     "name": "stdout",
     "output_type": "stream",
     "text": [
      "Estimating biases using als...\n",
      "Computing the cosine similarity matrix...\n",
      "Done computing similarity matrix.\n"
     ]
    }
   ],
   "source": [
    "##########################################################\n",
    "# Hago lo mismo con el resto de tipos KNN\n",
    "recommendation_algorithm = KNNBaseline(k=100, sim_options={'name': 'cosine', 'user_based': True})\n",
    "\n",
    "# aplico el algoritmo sobre el training_set\n",
    "recommendation_algorithm.fit(training_set)\n",
    "\n",
    "# aplico el algoritmo sobre el evaluation set y obtengo las predicciones en las recomendaciones\n",
    "recommendations = recommendation_algorithm.test(evaluation_set)\n",
    "\n",
    "K = 10\n",
    "for k in range(K):\n",
    "    get_results(recommendations, k+1, \"knn_baseline\")"
   ]
  },
  {
   "cell_type": "markdown",
   "metadata": {},
   "source": [
    "Por último. vamos a ver los mismos cuatro algoritmos empleando la similitud de la distancia euclídea y viendo similitud entre users:"
   ]
  },
  {
   "cell_type": "code",
   "execution_count": 23,
   "metadata": {},
   "outputs": [
    {
     "name": "stdout",
     "output_type": "stream",
     "text": [
      "Computing the msd similarity matrix...\n",
      "Done computing similarity matrix.\n"
     ]
    }
   ],
   "source": [
    "##########################################################\n",
    "# Hago lo mismo con el resto de tipos KNN\n",
    "recommendation_algorithm = KNNBasic(k=100, sim_options={'name': 'msd', 'user_based': True})\n",
    "\n",
    "# aplico el algoritmo sobre el training_set\n",
    "recommendation_algorithm.fit(training_set)\n",
    "\n",
    "# aplico el algoritmo sobre el evaluation set y obtengo las predicciones en las recomendaciones\n",
    "recommendations = recommendation_algorithm.test(evaluation_set)\n",
    "\n",
    "K = 10\n",
    "for k in range(K):\n",
    "    get_results(recommendations, k+1, \"knn_basic\")"
   ]
  },
  {
   "cell_type": "code",
   "execution_count": 24,
   "metadata": {},
   "outputs": [
    {
     "name": "stdout",
     "output_type": "stream",
     "text": [
      "Computing the msd similarity matrix...\n",
      "Done computing similarity matrix.\n"
     ]
    }
   ],
   "source": [
    "##########################################################\n",
    "# Hago lo mismo con el resto de tipos KNN\n",
    "recommendation_algorithm = KNNWithMeans(k=100, sim_options={'name': 'msd', 'user_based': True})\n",
    "\n",
    "# aplico el algoritmo sobre el training_set\n",
    "recommendation_algorithm.fit(training_set)\n",
    "\n",
    "# aplico el algoritmo sobre el evaluation set y obtengo las predicciones en las recomendaciones\n",
    "recommendations = recommendation_algorithm.test(evaluation_set)\n",
    "\n",
    "K = 10\n",
    "for k in range(K):\n",
    "    get_results(recommendations, k+1, \"knn_withmeans\")"
   ]
  },
  {
   "cell_type": "code",
   "execution_count": 25,
   "metadata": {},
   "outputs": [
    {
     "name": "stdout",
     "output_type": "stream",
     "text": [
      "Computing the msd similarity matrix...\n",
      "Done computing similarity matrix.\n"
     ]
    }
   ],
   "source": [
    "##########################################################\n",
    "# Hago lo mismo con el resto de tipos KNN\n",
    "recommendation_algorithm = KNNWithZScore(k=100, sim_options={'name': 'msd', 'user_based': True})\n",
    "\n",
    "# aplico el algoritmo sobre el training_set\n",
    "recommendation_algorithm.fit(training_set)\n",
    "\n",
    "# aplico el algoritmo sobre el evaluation set y obtengo las predicciones en las recomendaciones\n",
    "recommendations = recommendation_algorithm.test(evaluation_set)\n",
    "\n",
    "K = 10\n",
    "for k in range(K):\n",
    "    get_results(recommendations, k+1, \"knn_withzscore\")"
   ]
  },
  {
   "cell_type": "code",
   "execution_count": 26,
   "metadata": {},
   "outputs": [
    {
     "name": "stdout",
     "output_type": "stream",
     "text": [
      "Estimating biases using als...\n",
      "Computing the msd similarity matrix...\n",
      "Done computing similarity matrix.\n"
     ]
    }
   ],
   "source": [
    "##########################################################\n",
    "# Hago lo mismo con el resto de tipos KNN\n",
    "recommendation_algorithm = KNNBaseline(k=100, sim_options={'name': 'msd', 'user_based': True})\n",
    "\n",
    "# aplico el algoritmo sobre el training_set\n",
    "recommendation_algorithm.fit(training_set)\n",
    "\n",
    "# aplico el algoritmo sobre el evaluation set y obtengo las predicciones en las recomendaciones\n",
    "recommendations = recommendation_algorithm.test(evaluation_set)\n",
    "\n",
    "K = 10\n",
    "for k in range(K):\n",
    "    get_results(recommendations, k+1, \"knn_baseline\")"
   ]
  },
  {
   "cell_type": "markdown",
   "metadata": {},
   "source": [
    "Puesto que los datos del fichero son muchos no comentaremos todos aquí uno por uno, y simplemente haremos comentarios generales de los resultados más remarcables que se han obtenido con estas pruebas.\n",
    "\n",
    "Primero de todo, no ha habido diferencias remarcables al variar la similitud empleada para el mismo algoritmo KNN, por lo que dentro del mismo algoritmo no hay mucha diferencia entre aplicar uno que otro. Parece que los vecinos escogidos acaban siendo los mismos o muy parecidos independientemente de la similitud usada.\n",
    "\n",
    "Por último, KNNWithMeans y KNNBaseline, de nuevo nos dan mejores resultados respecto a la media entre precision y recall. Explicable de nuevo con los razonamientos del apartado anterior."
   ]
  },
  {
   "cell_type": "code",
   "execution_count": null,
   "metadata": {},
   "outputs": [],
   "source": []
  }
 ],
 "metadata": {
  "kernelspec": {
   "display_name": "Python 3",
   "language": "python",
   "name": "python3"
  },
  "language_info": {
   "codemirror_mode": {
    "name": "ipython",
    "version": 3
   },
   "file_extension": ".py",
   "mimetype": "text/x-python",
   "name": "python",
   "nbconvert_exporter": "python",
   "pygments_lexer": "ipython3",
   "version": "3.8.3"
  }
 },
 "nbformat": 4,
 "nbformat_minor": 2
}
