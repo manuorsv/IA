{
 "cells": [
  {
   "cell_type": "markdown",
   "metadata": {},
   "source": [
    "# Práctica 1C - Inteligencia Artificial\n",
    "## Belén Díaz Agudo -  Facultad de Informática UCM\n",
    "## Búsqueda local\n",
    "En esta primera parte usaremos ejercicios paso a paso para familiarizarnos con la resolución de problemas sencillos de optimización, como la maximización o minimización de una función, o el problema de la mochila o del viajante, problemas conocidos cuya resolución se ha abordado con técnicas algorítmicas y que vamos a resolver utilizando algoritmos de búsqueda local. En la segunda parte de la práctica se pide resolver el problema de la organización de jornadas informáticas dado en el enunciado."
   ]
  },
  {
   "cell_type": "markdown",
   "metadata": {},
   "source": [
    "## Parte 1. Algoritmo de escalada\n",
    "Hill Climbing es un algoritmo de búsqueda local heurística utilizada para problemas de optimización.\n",
    "Esta solución puede o no ser el óptimo global. El algoritmo es una variante del algoritmo de generación y prueba.\n",
    "<br>\n",
    "En general, el algoritmo funciona de la siguiente manera:\n",
    "- Evaluar el estado inicial.\n",
    "- Si es igual al estado del objetivo, terminamos.\n",
    "- Encuentra un estado vecino al estado actual\n",
    "- Evaluar este estado. Si está más cerca del estado objetivo que antes, reemplace el estado inicial con este estado y repita estos pasos.\n",
    "<br>\n",
    "Usaremos la implementación de AIMA que está en el módulo search.py\n",
    "\n",
    "    def hill_climbing(problem):\n",
    "        \"\"\"From the initial node, keep choosing the neighbor with highest value,\n",
    "        stopping when no neighbor is better. [Figure 4.2]\"\"\"\n",
    "        current = Node(problem.initial)\n",
    "        while True:\n",
    "            neighbors = current.expand(problem)\n",
    "            if not neighbors:\n",
    "                break\n",
    "            neighbor = argmax_random_tie(neighbors,\n",
    "                                     key=lambda node: problem.value(node.state))\n",
    "            if problem.value(neighbor.state) <= problem.value(current.state):\n",
    "                break\n",
    "            current = neighbor\n",
    "        return current.state\n"
   ]
  },
  {
   "cell_type": "markdown",
   "metadata": {},
   "source": [
    "### TSP (Travelling Salesman Problem): el problema del viajante\n",
    "Dado un conjunto de ciudades y la distancia entre cada par de ciudades, el problema es encontrar la ruta más corta posible que visite cada ciudad exactamente una vez y regrese al punto de partida. Es un problema NP hard. No existen una solución de coste polinomial. "
   ]
  },
  {
   "cell_type": "code",
   "execution_count": 33,
   "metadata": {},
   "outputs": [],
   "source": [
    "##Resolvereremos el problema del viajante TSP para encontrar una solución aproximada.\n",
    "from search import *\n",
    "\n",
    "class TSP_problem(Problem):\n",
    "\n",
    "    def two_opt(self, state):\n",
    "        \"\"\" Neighbour generating function for Traveling Salesman Problem \"\"\"\n",
    "        neighbour_state = state[:]\n",
    "        left = random.randint(0, len(neighbour_state) - 1)\n",
    "        right = random.randint(0, len(neighbour_state) - 1)\n",
    "        if left > right:\n",
    "            left, right = right, left\n",
    "        neighbour_state[left: right + 1] = reversed(neighbour_state[left: right + 1])\n",
    "        return neighbour_state\n",
    "\n",
    "    def actions(self, state):\n",
    "        \"\"\" action that can be excuted in given state \"\"\"\n",
    "        return [self.two_opt]\n",
    "\n",
    "    def result(self, state, action):\n",
    "        \"\"\"  result after applying the given action on the given state \"\"\"\n",
    "        return action(state)\n",
    "\n",
    "    def path_cost(self, c, state1, action, state2):\n",
    "        \"\"\" total distance for the Traveling Salesman to be covered if in state2  \"\"\"\n",
    "        cost = 0\n",
    "        for i in range(len(state2) - 1):\n",
    "            cost += distances[state2[i]][state2[i + 1]]\n",
    "        cost += distances[state2[0]][state2[-1]]\n",
    "        return cost\n",
    "\n",
    "    def value(self, state):\n",
    "        \"\"\" value of path cost given negative for the given state \"\"\"\n",
    "        return -1 * self.path_cost(None, None, None, state)"
   ]
  },
  {
   "cell_type": "code",
   "execution_count": 34,
   "metadata": {},
   "outputs": [],
   "source": [
    "## Resolveremos el TSP para las ciudades de la lista de ciudades de Rumanía.\n",
    "## ['Arad', 'Bucharest', 'Craiova', 'Drobeta', 'Eforie', 'Fagaras', 'Giurgiu', 'Hirsova', 'Iasi', 'Lugoj', 'Mehadia', 'Neamt', 'Oradea', 'Pitesti', 'Rimnicu', 'Sibiu', 'Timisoara', 'Urziceni', 'Vaslui', 'Zerind']"
   ]
  },
  {
   "cell_type": "code",
   "execution_count": 35,
   "metadata": {},
   "outputs": [],
   "source": [
    "# Usaremos la siguiente representacion del libro AIMA para el mapa de Rumanía.\n",
    "\n",
    "romania_map = UndirectedGraph(dict(\n",
    "    Arad=dict(Zerind=75, Sibiu=140, Timisoara=118),\n",
    "    Bucharest=dict(Urziceni=85, Pitesti=101, Giurgiu=90, Fagaras=211),\n",
    "    Craiova=dict(Drobeta=120, Rimnicu=146, Pitesti=138),\n",
    "    Drobeta=dict(Mehadia=75),\n",
    "    Eforie=dict(Hirsova=86),\n",
    "    Fagaras=dict(Sibiu=99),\n",
    "    Hirsova=dict(Urziceni=98),\n",
    "    Iasi=dict(Vaslui=92, Neamt=87),\n",
    "    Lugoj=dict(Timisoara=111, Mehadia=70),\n",
    "    Oradea=dict(Zerind=71, Sibiu=151),\n",
    "    Pitesti=dict(Rimnicu=97),\n",
    "    Rimnicu=dict(Sibiu=80),\n",
    "    Urziceni=dict(Vaslui=142)))\n",
    "\n",
    "romania_map.locations = dict(\n",
    "    Arad=(91, 492), Bucharest=(400, 327), Craiova=(253, 288),\n",
    "    Drobeta=(165, 299), Eforie=(562, 293), Fagaras=(305, 449),\n",
    "    Giurgiu=(375, 270), Hirsova=(534, 350), Iasi=(473, 506),\n",
    "    Lugoj=(165, 379), Mehadia=(168, 339), Neamt=(406, 537),\n",
    "    Oradea=(131, 571), Pitesti=(320, 368), Rimnicu=(233, 410),\n",
    "    Sibiu=(207, 457), Timisoara=(94, 410), Urziceni=(456, 350),\n",
    "    Vaslui=(509, 444), Zerind=(108, 531))"
   ]
  },
  {
   "cell_type": "markdown",
   "metadata": {},
   "source": [
    "Es bastante sencillo entender este `romania_map`. El primer nodo ** Arad ** tiene tres vecinos llamados ** Zerind **, ** Sibiu **, ** Timisoara **. Cada uno de estos nodos son 75, 140, 118 unidades aparte de ** Arad ** respectivamente. Y lo mismo ocurre con otros nodos.\n",
    "\n",
    "Y `romania_map.locations` contiene las posiciones de cada uno de los nodos. \n",
    "Como heurística se puede usar la distancia en línea recta o la distancia manhattan (que es diferente de la proporcionada en `romania_map`) entre dos ciudades."
   ]
  },
  {
   "cell_type": "code",
   "execution_count": 36,
   "metadata": {},
   "outputs": [
    {
     "name": "stdout",
     "output_type": "stream",
     "text": [
      "{'Arad': (91, 492), 'Bucharest': (400, 327), 'Craiova': (253, 288), 'Drobeta': (165, 299), 'Eforie': (562, 293), 'Fagaras': (305, 449), 'Giurgiu': (375, 270), 'Hirsova': (534, 350), 'Iasi': (473, 506), 'Lugoj': (165, 379), 'Mehadia': (168, 339), 'Neamt': (406, 537), 'Oradea': (131, 571), 'Pitesti': (320, 368), 'Rimnicu': (233, 410), 'Sibiu': (207, 457), 'Timisoara': (94, 410), 'Urziceni': (456, 350), 'Vaslui': (509, 444), 'Zerind': (108, 531)}\n"
     ]
    }
   ],
   "source": [
    "romania_locations = romania_map.locations\n",
    "print(romania_locations)"
   ]
  },
  {
   "cell_type": "code",
   "execution_count": 37,
   "metadata": {},
   "outputs": [],
   "source": [
    "# node colors, node positions and node label positions\n",
    "node_colors = {node: 'white' for node in romania_map.locations.keys()}\n",
    "node_positions = romania_map.locations\n",
    "node_label_pos = { k:[v[0],v[1]-10]  for k,v in romania_map.locations.items() }\n",
    "edge_weights = {(k, k2) : v2 for k, v in romania_map.graph_dict.items() for k2, v2 in v.items()}\n",
    "\n",
    "romania_graph_data = {  'graph_dict' : romania_map.graph_dict,\n",
    "                        'node_colors': node_colors,\n",
    "                        'node_positions': node_positions,\n",
    "                        'node_label_positions': node_label_pos,\n",
    "                         'edge_weights': edge_weights\n",
    "                     }"
   ]
  },
  {
   "cell_type": "code",
   "execution_count": 38,
   "metadata": {},
   "outputs": [
    {
     "ename": "ImportError",
     "evalue": "cannot import name 'show_map' from 'notebook' (C:\\Users\\Usuario\\anaconda3\\lib\\site-packages\\notebook\\__init__.py)",
     "output_type": "error",
     "traceback": [
      "\u001b[1;31m---------------------------------------------------------------------------\u001b[0m",
      "\u001b[1;31mImportError\u001b[0m                               Traceback (most recent call last)",
      "\u001b[1;32m<ipython-input-38-3af2a3163718>\u001b[0m in \u001b[0;36m<module>\u001b[1;34m\u001b[0m\n\u001b[1;32m----> 1\u001b[1;33m \u001b[1;32mfrom\u001b[0m \u001b[0mnotebook\u001b[0m \u001b[1;32mimport\u001b[0m \u001b[0mshow_map\u001b[0m\u001b[1;33m,\u001b[0m \u001b[0mfinal_path_colors\u001b[0m\u001b[1;33m,\u001b[0m \u001b[0mdisplay_visual\u001b[0m\u001b[1;33m\u001b[0m\u001b[1;33m\u001b[0m\u001b[0m\n\u001b[0m\u001b[0;32m      2\u001b[0m \u001b[1;32mimport\u001b[0m \u001b[0mmatplotlib\u001b[0m\u001b[1;33m\u001b[0m\u001b[1;33m\u001b[0m\u001b[0m\n\u001b[0;32m      3\u001b[0m \u001b[1;33m\u001b[0m\u001b[0m\n\u001b[0;32m      4\u001b[0m \u001b[0mshow_map\u001b[0m\u001b[1;33m(\u001b[0m\u001b[0mromania_graph_data\u001b[0m\u001b[1;33m)\u001b[0m\u001b[1;33m\u001b[0m\u001b[1;33m\u001b[0m\u001b[0m\n",
      "\u001b[1;31mImportError\u001b[0m: cannot import name 'show_map' from 'notebook' (C:\\Users\\Usuario\\anaconda3\\lib\\site-packages\\notebook\\__init__.py)"
     ]
    }
   ],
   "source": [
    "from notebook import show_map, final_path_colors, display_visual\n",
    "import matplotlib\n",
    "\n",
    "show_map(romania_graph_data)"
   ]
  },
  {
   "cell_type": "code",
   "execution_count": 39,
   "metadata": {},
   "outputs": [
    {
     "name": "stdout",
     "output_type": "stream",
     "text": [
      "['Arad', 'Bucharest', 'Craiova', 'Drobeta', 'Eforie', 'Fagaras', 'Giurgiu', 'Hirsova', 'Iasi', 'Lugoj', 'Mehadia', 'Neamt', 'Oradea', 'Pitesti', 'Rimnicu', 'Sibiu', 'Timisoara', 'Urziceni', 'Vaslui', 'Zerind']\n"
     ]
    }
   ],
   "source": [
    "## el siguiente código crea un diccionario y calcula y añade al diccionario la distancia manhattan entre las ciudades. \n",
    "import numpy as np\n",
    "\n",
    "distances = {}\n",
    "all_cities = []\n",
    "\n",
    "for city in romania_map.locations.keys():\n",
    "    distances[city] = {}\n",
    "    all_cities.append(city)\n",
    "    \n",
    "all_cities.sort()\n",
    "print(all_cities)\n",
    "\n",
    "for name_1, coordinates_1 in romania_map.locations.items():\n",
    "        for name_2, coordinates_2 in romania_map.locations.items():\n",
    "            distances[name_1][name_2] = np.linalg.norm(\n",
    "                [coordinates_1[0] - coordinates_2[0], coordinates_1[1] - coordinates_2[1]])\n",
    "            distances[name_2][name_1] = np.linalg.norm(\n",
    "                [coordinates_1[0] - coordinates_2[0], coordinates_1[1] - coordinates_2[1]])"
   ]
  },
  {
   "cell_type": "code",
   "execution_count": 40,
   "metadata": {},
   "outputs": [],
   "source": [
    "# Creamos una instancia del problema TSP con la lista de ciudades anterior que se na extraido del mapa.\n",
    "# En el mapa hay informacion de las distancias que se utilizan en la clase TSP_problem para calcular el coste y las heurísticas.\n",
    "tsp = TSP_problem(all_cities)"
   ]
  },
  {
   "cell_type": "code",
   "execution_count": 41,
   "metadata": {},
   "outputs": [],
   "source": [
    "## Redefinimos el hill climbing de AIMA para que el método de generacion de vecinos sea acceder al grafo que hemos definido para el TSP\n",
    "\n",
    "def hill_climbing(problem):\n",
    "    \n",
    "    \"\"\"From the initial node, keep choosing the neighbor with highest value,\n",
    "    stopping when no neighbor is better. [Figure 4.2]\"\"\"\n",
    "    \n",
    "    def find_neighbors(state, number_of_neighbors=100):\n",
    "        \"\"\" finds neighbors using two_opt method \"\"\"\n",
    "        \n",
    "        neighbors = []\n",
    "        \n",
    "        for i in range(number_of_neighbors):\n",
    "            new_state = problem.two_opt(state)\n",
    "            neighbors.append(Node(new_state))\n",
    "            state = new_state\n",
    "            \n",
    "        return neighbors\n",
    "\n",
    "    # as this is a stochastic algorithm, we will set a cap on the number of iterations\n",
    "    iterations = 10000\n",
    "    \n",
    "    current = Node(problem.initial)\n",
    "    while iterations:\n",
    "        neighbors = find_neighbors(current.state)\n",
    "        if not neighbors:\n",
    "            break\n",
    "        neighbor = argmax_random_tie(neighbors,\n",
    "                                     key=lambda node: problem.value(node.state))\n",
    "        if problem.value(neighbor.state) >= problem.value(current.state):\n",
    "            current.state = neighbor.state\n",
    "        iterations -= 1\n",
    "        \n",
    "    return current.state"
   ]
  },
  {
   "cell_type": "code",
   "execution_count": 46,
   "metadata": {},
   "outputs": [
    {
     "data": {
      "text/plain": [
       "['Rimnicu',\n",
       " 'Fagaras',\n",
       " 'Neamt',\n",
       " 'Iasi',\n",
       " 'Vaslui',\n",
       " 'Hirsova',\n",
       " 'Eforie',\n",
       " 'Urziceni',\n",
       " 'Bucharest',\n",
       " 'Giurgiu',\n",
       " 'Pitesti',\n",
       " 'Craiova',\n",
       " 'Drobeta',\n",
       " 'Mehadia',\n",
       " 'Lugoj',\n",
       " 'Timisoara',\n",
       " 'Arad',\n",
       " 'Zerind',\n",
       " 'Oradea',\n",
       " 'Sibiu']"
      ]
     },
     "execution_count": 46,
     "metadata": {},
     "output_type": "execute_result"
    }
   ],
   "source": [
    "# Y lo resolvemos con escalada. \n",
    "solucion1 = hill_climbing(tsp)\n",
    "solucion1"
   ]
  },
  {
   "cell_type": "code",
   "execution_count": 54,
   "metadata": {},
   "outputs": [
    {
     "data": {
      "text/plain": [
       "['Fagaras',\n",
       " 'Neamt',\n",
       " 'Iasi',\n",
       " 'Vaslui',\n",
       " 'Hirsova',\n",
       " 'Eforie',\n",
       " 'Urziceni',\n",
       " 'Bucharest',\n",
       " 'Giurgiu',\n",
       " 'Pitesti',\n",
       " 'Craiova',\n",
       " 'Drobeta',\n",
       " 'Mehadia',\n",
       " 'Lugoj',\n",
       " 'Timisoara',\n",
       " 'Arad',\n",
       " 'Zerind',\n",
       " 'Oradea',\n",
       " 'Sibiu',\n",
       " 'Rimnicu']"
      ]
     },
     "execution_count": 54,
     "metadata": {},
     "output_type": "execute_result"
    }
   ],
   "source": [
    "# Y lo resolvemos con escalada. \n",
    "solucion2 = hill_climbing(tsp)\n",
    "solucion2"
   ]
  },
  {
   "cell_type": "code",
   "execution_count": 52,
   "metadata": {},
   "outputs": [
    {
     "data": {
      "text/plain": [
       "['Timisoara',\n",
       " 'Mehadia',\n",
       " 'Drobeta',\n",
       " 'Craiova',\n",
       " 'Giurgiu',\n",
       " 'Bucharest',\n",
       " 'Urziceni',\n",
       " 'Eforie',\n",
       " 'Hirsova',\n",
       " 'Vaslui',\n",
       " 'Iasi',\n",
       " 'Neamt',\n",
       " 'Fagaras',\n",
       " 'Pitesti',\n",
       " 'Rimnicu',\n",
       " 'Lugoj',\n",
       " 'Sibiu',\n",
       " 'Oradea',\n",
       " 'Zerind',\n",
       " 'Arad']"
      ]
     },
     "execution_count": 52,
     "metadata": {},
     "output_type": "execute_result"
    }
   ],
   "source": [
    "# Y lo resolvemos con escalada. \n",
    "solucion3 = hill_climbing(tsp)\n",
    "solucion3"
   ]
  },
  {
   "cell_type": "code",
   "execution_count": 55,
   "metadata": {},
   "outputs": [
    {
     "name": "stdout",
     "output_type": "stream",
     "text": [
      "Distancia de la solución 1: 1589.8433308050924\n",
      "Distancia de la solución 2: 1589.8433308050924\n",
      "Distancia de la solución 3: 1688.112533462133\n"
     ]
    }
   ],
   "source": [
    "print(\"Distancia de la solución 1: \" + str(tsp.path_cost(None, None, None, solucion1)))\n",
    "print(\"Distancia de la solución 2: \" + str(tsp.path_cost(None, None, None, solucion2)))\n",
    "print(\"Distancia de la solución 3: \" + str(tsp.path_cost(None, None, None, solucion3)))"
   ]
  },
  {
   "cell_type": "markdown",
   "metadata": {},
   "source": [
    "### Ejercicio 1. Resuelve el problema TSP con el algoritmo de escalada por máxima pendiente en el mapa de ciudades de Rumanía y explica el resultado obtenido. \n",
    "\n",
    "Realiza un análisis razonado de las propiedades del algoritmo: eficiencia y optimalidad en base a la ejecución. \n",
    "\n",
    "¿Ha encontrado el algoritmo el óptimo global? \n",
    "¿Ha encontrado la misma solución en distintas ejecuciones?\n",
    "\n",
    "Sólo se pide hacer una comparativa teórica (breve) con cómo se comporta este algoritmo y relacionarlo con otros algoritmos vistos en clase. \n",
    "\n",
    "Opcionalmente se puede hacer la comparativa real con algún algoritmo de búsqueda exhaustiva. \n",
    "\n",
    "#### Comentario\n",
    "\n",
    "Primero de todo, vemos que en las tres soluciones que hemos obtenido, las ciudades obtenidas no son necesariamente adyacentes ni forman un ciclo. \n",
    "\n",
    "Además, vemos que para un mismo estado inicial, el algoritmo de escalada por máxima pendiente nos ha dado soluciones distintas en las tres llamadas que hemos hecho al algoritmo, en las que además una de ellas tiene un coste distinto. Por ello se ve claro que este algoritmo no encuentra necesariamente el óptimo global, ya las tres soluciones tienen un valor distinto y perfectamente podría haber otra solución más óptima que las obtenidas.\n",
    "\n",
    "Que el algoritmo encuentre distintas soluciones en distintas ejecuciones debe deberse a que se generan solo algunos de los nodos vecinos de forma aleatoria, lo que daría lugar a que el algoritmo encuentre distintas soluciones en cada ejecución, aun teniendo el mismo estado inicial.\n",
    "\n",
    "La principal diferencia entre este tipo de algoritmos y otros algoritmos como los de búsqueda ciega y heurística, es el no determinsmo. En búsqueda ciega aseguramos recorrer todo o gran parte del árbol de búsqueda. En búsqueda heurística podemos descartar nodos y solo explorar los que se consideran más prometedores, ahorrándonos explorar parte del árbol. En ambas gastamos más tiempo de ejecución, pero nos garantizan llegar a una solución óptima. En búsqueda local, sin embargo, ahorramos tiempo de ejcución a cambio de no garantizar de llegar a la solución óptima. Simplemente queda esperar que nos lleven a una solución que consideremos suficientemente buena."
   ]
  },
  {
   "cell_type": "markdown",
   "metadata": {},
   "source": [
    "## Parte 2. Enfriamiento simulado ( simulated annealing) \n",
    "El algoritmo de enfriamiento simulado puede manejar las situaciones de óptimo local o mesetas típicas en algoritmos de escalada.\n",
    "<br>\n",
    "El enfriamiento simulado es bastante similar a la escalada pero en lugar de elegir el mejor movimiento en cada iteración, elige un movimiento aleatorio. Si este movimiento aleatorio nos acerca al óptimo global, será aceptado,\n",
    "pero si no lo hace, el algoritmo puede aceptar o rechazar el movimiento en función de una probabilidad dictada por la temperatura.  Cuando la `temperatura` es alta, es más probable que el algoritmo acepte un movimiento aleatorio incluso si es malo. A bajas temperaturas, solo se aceptan buenos movimientos, con alguna excepción ocasional.\n",
    "Esto permite la exploración del espacio de estado y evita que el algoritmo se atasque en el óptimo local.\n",
    "\n",
    "    Usaremos la implementación de AIMA del modulo search.py\n",
    "    \n",
    "    def simulated_annealing(problem, schedule=exp_schedule()):\n",
    "    \"\"\"[Figure 4.5] CAUTION: This differs from the pseudocode as it\n",
    "    returns a state instead of a Node.\"\"\"\n",
    "    current = Node(problem.initial)\n",
    "    for t in range(sys.maxsize):\n",
    "        T = schedule(t)\n",
    "        if T == 0:\n",
    "            return current.state\n",
    "        neighbors = current.expand(problem)\n",
    "        if not neighbors:\n",
    "            return current.state\n",
    "        next_choice = random.choice(neighbors)\n",
    "        delta_e = problem.value(next_choice.state) - problem.value(current.state)\n",
    "        if delta_e > 0 or probability(math.exp(delta_e / T)):\n",
    "            current = next_choice"
   ]
  },
  {
   "cell_type": "markdown",
   "metadata": {},
   "source": [
    "Como hemos visto en clase hay varios métodos de enfriamiento (scheduling routine) \n",
    "Se puede variar el método de enfriamiento. En la implementación actual estamos usando el método de enfriamiento exponencial (que se pasa como parámetro). \n",
    "\n",
    "    def exp_schedule(k=20, lam=0.005, limit=100):\n",
    "        \"\"\"One possible schedule function for simulated annealing\"\"\"\n",
    "        return lambda t: (k * math.exp(-lam * t) if t < limit else 0)"
   ]
  },
  {
   "cell_type": "markdown",
   "metadata": {},
   "source": [
    "Como ejemplo, vamos a definir un problema sencillo de encontrar el punto más alto en una rejilla. Este problema está definido en el módulo search.py como PeakFindingProblem. Lo reproducimos aquí y creamos una rejilla simple."
   ]
  },
  {
   "cell_type": "code",
   "execution_count": 109,
   "metadata": {},
   "outputs": [],
   "source": [
    "initial = (0, 0)\n",
    "grid = [[3, 7, 2, 8], [5, 2, 9, 1], [5, 3, 3, 1]]"
   ]
  },
  {
   "cell_type": "code",
   "execution_count": 110,
   "metadata": {},
   "outputs": [],
   "source": [
    "# Pre-defined actions for PeakFindingProblem\n",
    "directions4 = { 'W':(-1, 0), 'N':(0, 1), 'E':(1, 0), 'S':(0, -1) }\n",
    "directions8 = dict(directions4) \n",
    "directions8.update({'NW':(-1, 1), 'NE':(1, 1), 'SE':(1, -1), 'SW':(-1, -1) })\n",
    "\n",
    "class PeakFindingProblem(Problem):\n",
    "    \"\"\"Problem of finding the highest peak in a limited grid\"\"\"\n",
    "\n",
    "    def __init__(self, initial, grid, defined_actions=directions4):\n",
    "        \"\"\"The grid is a 2 dimensional array/list whose state is specified by tuple of indices\"\"\"\n",
    "        Problem.__init__(self, initial)\n",
    "        self.grid = grid\n",
    "        self.defined_actions = defined_actions\n",
    "        self.n = len(grid)\n",
    "        assert self.n > 0\n",
    "        self.m = len(grid[0])\n",
    "        assert self.m > 0\n",
    "\n",
    "    def actions(self, state):\n",
    "        \"\"\"Returns the list of actions which are allowed to be taken from the given state\"\"\"\n",
    "        allowed_actions = []\n",
    "        for action in self.defined_actions:\n",
    "            next_state = vector_add(state, self.defined_actions[action])\n",
    "            if next_state[0] >= 0 and next_state[1] >= 0 and next_state[0] <= self.n - 1 and next_state[1] <= self.m - 1:\n",
    "                allowed_actions.append(action)\n",
    "\n",
    "        return allowed_actions\n",
    "\n",
    "    def result(self, state, action):\n",
    "        \"\"\"Moves in the direction specified by action\"\"\"\n",
    "        return vector_add(state, self.defined_actions[action])\n",
    "\n",
    "    def value(self, state):\n",
    "        \"\"\"Value of a state is the value it is the index to\"\"\"\n",
    "        x, y = state\n",
    "        assert 0 <= x < self.n\n",
    "        assert 0 <= y < self.m\n",
    "        return self.grid[x][y]\n"
   ]
  },
  {
   "cell_type": "code",
   "execution_count": 111,
   "metadata": {},
   "outputs": [],
   "source": [
    "problem = PeakFindingProblem(initial, grid, directions4)"
   ]
  },
  {
   "cell_type": "code",
   "execution_count": 112,
   "metadata": {},
   "outputs": [
    {
     "data": {
      "text/plain": [
       "9"
      ]
     },
     "execution_count": 112,
     "metadata": {},
     "output_type": "execute_result"
    }
   ],
   "source": [
    "# Lo resolvemos con enfriamiento simulado\n",
    "\n",
    "solutions = {problem.value(simulated_annealing(problem)) for i in range(100)}\n",
    "max(solutions)"
   ]
  },
  {
   "cell_type": "code",
   "execution_count": 113,
   "metadata": {},
   "outputs": [],
   "source": [
    "def hill_climbing(problem):\n",
    "    \"\"\"From the initial node, keep choosing the neighbor with highest value,\n",
    "    stopping when no neighbor is better. [Figure 4.2]\"\"\"\n",
    "    current = Node(problem.initial)\n",
    "    while True:\n",
    "        neighbors = current.expand(problem)\n",
    "        if not neighbors:\n",
    "            break\n",
    "        neighbor = argmax_random_tie(neighbors,\n",
    "                                     key=lambda node: problem.value(node.state))\n",
    "        if problem.value(neighbor.state) <= problem.value(current.state):\n",
    "            break\n",
    "        current = neighbor\n",
    "    return current.state"
   ]
  },
  {
   "cell_type": "code",
   "execution_count": 115,
   "metadata": {},
   "outputs": [
    {
     "data": {
      "text/plain": [
       "7"
      ]
     },
     "execution_count": 115,
     "metadata": {},
     "output_type": "execute_result"
    }
   ],
   "source": [
    "solution = problem.value(hill_climbing(problem))\n",
    "solution"
   ]
  },
  {
   "cell_type": "markdown",
   "metadata": {},
   "source": [
    "### Ejercicio 2.  Resuelve el problema anterior de encontrar el punto máximo en una rejilla. Comenta y razona los resultados obtenidos en distintas rejjillas con los algoritmos de enfriamiento simulado y escalada por máxima pendiente. \n",
    " \n",
    " \n",
    "Ejemplo de rejilla para pruebas\n",
    "\n",
    "grid = [[0.00, 0.00, 0.00, 0.00, 0.00, 0.00, 0.00, 0.00, 0.00],\n",
    "        [0.00, 0.00, 0.00, 0.00, 0.00, 0.00, 0.00, 0.00, 0.00],\n",
    "        [0.00, 0.00, 0.00, 0.40, 0.40, 0.00, 0.00, 0.00, 0.00],\n",
    "        [0.00, 0.00, 0.00, 0.00, 0.00, 0.00, 0.00, 0.70, 1.40],\n",
    "        [2.20, 1.80, 0.70, 0.00, 0.00, 0.00, 0.00, 0.00, 0.00],\n",
    "        [2.20, 1.80, 4.70, 6.50, 4.30, 1.80, 0.70, 0.00, 0.00],\n",
    "        [0.00, 0.00, 0.00, 0.00, 0.00, 0.00, 11.2, 0.70, 1.40],\n",
    "        [2.20, 1.80, 0.70, 0.00, 0.00, 9.00, 0.00, 0.00, 0.00],\n",
    "        [2.20, 1.80, 4.70, 6.50, 4.30, 1.80, 0.70, 0.00, 0.00],\n",
    "        [0.00, 0.00, 0.00, 0.00, 0.00, 0.00, 0.00, 0.70, 1.40],\n",
    "        [2.20, 1.80, 0.70, 0.00, 0.00, 0.00, 0.00, 0.00, 0.00],\n",
    "        [2.20, 1.80, 4.70, 8.50, 4.30, 1.80, 0.70, 0.00, 0.00]]\n"
   ]
  },
  {
   "cell_type": "markdown",
   "metadata": {},
   "source": [
    "### Grid1"
   ]
  },
  {
   "cell_type": "code",
   "execution_count": 149,
   "metadata": {},
   "outputs": [],
   "source": [
    "grid1 = [[0.00, 0.00, 0.00, 0.00, 0.00, 0.00, 0.00, 0.00, 0.00],\n",
    "        [0.00, 0.00, 0.00, 0.00, 0.00, 0.00, 0.00, 0.00, 0.00],\n",
    "        [0.00, 0.00, 0.00, 0.40, 0.40, 0.00, 0.00, 0.00, 0.00],\n",
    "        [0.00, 0.00, 0.00, 0.00, 0.00, 0.00, 0.00, 0.70, 1.40],\n",
    "        [2.20, 1.80, 0.70, 0.00, 0.00, 0.00, 0.00, 0.00, 0.00],\n",
    "        [2.20, 1.80, 4.70, 6.50, 4.30, 1.80, 0.70, 0.00, 0.00],\n",
    "        [0.00, 0.00, 0.00, 0.00, 0.00, 0.00, 11.2, 0.70, 1.40],\n",
    "        [2.20, 1.80, 0.70, 0.00, 0.00, 9.00, 0.00, 0.00, 0.00],\n",
    "        [2.20, 1.80, 4.70, 6.50, 4.30, 1.80, 0.70, 0.00, 0.00],\n",
    "        [0.00, 0.00, 0.00, 0.00, 0.00, 0.00, 0.00, 0.70, 1.40],\n",
    "        [2.20, 1.80, 0.70, 0.00, 0.00, 0.00, 0.00, 0.00, 0.00],\n",
    "        [2.20, 1.80, 4.70, 8.50, 4.30, 1.80, 0.70, 0.00, 0.00]]\n"
   ]
  },
  {
   "cell_type": "code",
   "execution_count": 150,
   "metadata": {},
   "outputs": [
    {
     "data": {
      "text/plain": [
       "11.2"
      ]
     },
     "execution_count": 150,
     "metadata": {},
     "output_type": "execute_result"
    }
   ],
   "source": [
    "problem = PeakFindingProblem(initial, grid1, directions4)\n",
    "solutions = {problem.value(simulated_annealing(problem)) for i in range(100)}\n",
    "max(solutions)"
   ]
  },
  {
   "cell_type": "code",
   "execution_count": 151,
   "metadata": {},
   "outputs": [
    {
     "data": {
      "text/plain": [
       "0.0"
      ]
     },
     "execution_count": 151,
     "metadata": {},
     "output_type": "execute_result"
    }
   ],
   "source": [
    "problem.value(hill_climbing(problem))"
   ]
  },
  {
   "cell_type": "markdown",
   "metadata": {},
   "source": [
    "En esta rejilla nuestro nodo inicial se encuentra en un terrerno llano. Por ello el aloritmo de escalada no consigue salir de ella (todos los vecinos tienen mismo valor que él) y por eso nos devuelve 0. En cambio, podemos apreciar que el algoritmo de enfriamiento sí que logra llegar al óptimo global."
   ]
  },
  {
   "cell_type": "markdown",
   "metadata": {},
   "source": [
    "### Grid2"
   ]
  },
  {
   "cell_type": "code",
   "execution_count": 161,
   "metadata": {},
   "outputs": [],
   "source": [
    "grid2 = [[0.00, 0.00, 0.00, 0.00, 0.00, 0.00, 0.00, 0.00, 0.00],\n",
    "        [0.20, 0.20, 0.20, 0.20, 0.00, 0.00, 0.00, 0.00, 0.00],\n",
    "        [0.20, 0.20, 0.20, 0.40, 0.40, 0.00, 0.00, 0.00, 0.00],\n",
    "        [0.00, 0.00, 0.00, 0.00, 0.00, 0.00, 0.00, 0.70, 1.40],\n",
    "        [2.20, 1.80, 0.70, 0.00, 0.00, 0.00, 0.00, 0.00, 0.00],\n",
    "        [2.20, 1.80, 4.70, 6.50, 4.30, 1.80, 0.70, 0.00, 0.00],\n",
    "        [0.00, 0.00, 0.00, 0.00, 0.00, 0.00, 11.2, 0.70, 1.40],\n",
    "        [2.20, 1.80, 0.70, 0.00, 0.00, 9.00, 0.00, 0.00, 0.00],\n",
    "        [2.20, 1.80, 4.70, 6.50, 4.30, 1.80, 0.70, 0.00, 0.00],\n",
    "        [0.00, 0.00, 0.00, 0.00, 0.00, 0.00, 0.00, 0.70, 1.40],\n",
    "        [2.20, 1.80, 0.70, 0.00, 0.00, 0.00, 0.00, 0.00, 0.00],\n",
    "        [2.20, 1.80, 4.70, 8.50, 4.30, 1.80, 0.70, 0.00, 0.00]]"
   ]
  },
  {
   "cell_type": "code",
   "execution_count": 164,
   "metadata": {},
   "outputs": [
    {
     "data": {
      "text/plain": [
       "8.5"
      ]
     },
     "execution_count": 164,
     "metadata": {},
     "output_type": "execute_result"
    }
   ],
   "source": [
    "problem = PeakFindingProblem(initial, grid2, directions4)\n",
    "solutions = {problem.value(simulated_annealing(problem)) for i in range(100)}\n",
    "max(solutions)"
   ]
  },
  {
   "cell_type": "code",
   "execution_count": 170,
   "metadata": {},
   "outputs": [
    {
     "data": {
      "text/plain": [
       "11.2"
      ]
     },
     "execution_count": 170,
     "metadata": {},
     "output_type": "execute_result"
    }
   ],
   "source": [
    "problem = PeakFindingProblem(initial, grid2, directions4)\n",
    "solutions = {problem.value(simulated_annealing(problem)) for i in range(100)}\n",
    "max(solutions)"
   ]
  },
  {
   "cell_type": "code",
   "execution_count": 169,
   "metadata": {},
   "outputs": [
    {
     "data": {
      "text/plain": [
       "0.2"
      ]
     },
     "execution_count": 169,
     "metadata": {},
     "output_type": "execute_result"
    }
   ],
   "source": [
    "problem.value(hill_climbing(problem))"
   ]
  },
  {
   "cell_type": "markdown",
   "metadata": {},
   "source": [
    "En este caso vemos que, como el algoritmo de enfriamiento puede de forma aleatoria dada una probabilidad moverse a un nodo aunque este no mejore la solución, llegamos a una solución que no es la óptima global. Podemos ver en la segunda ejecución de ese mismo algoritmo que sí que llega al óptimo.\n",
    "\n",
    "Por otro lado, del mismo modo que en el grid1, el algoritmo de escalada de máxima pendiente queda atascado si el nodo está rodeado por otros con el mismo valor ya que ninguno mejora la solución, por lo que nos da 0.2 como solución."
   ]
  },
  {
   "cell_type": "markdown",
   "metadata": {},
   "source": [
    "### Grid3"
   ]
  },
  {
   "cell_type": "code",
   "execution_count": 229,
   "metadata": {},
   "outputs": [],
   "source": [
    "grid3 = [[0.00, 0.00, 0.00, 0.00, 0.00, 0.00, 0.00, 0.00, 0.00],\n",
    "        [0.20, 0.20, 0.20, 0.20, 0.00, 0.00, 0.00, 0.00, 0.00],\n",
    "        [0.30, 0.30, 0.30, 0.40, 0.40, 0.00, 0.00, 0.00, 0.00],\n",
    "        [0.50, 0.50, 0.60, 0.70, 0.80, 0.90, 0.00, 0.70, 1.40],\n",
    "        [2.20, 3.30, 4.00, 0.70, 0.70, 0.70, 0.00, 0.00, 0.00],\n",
    "        [2.20, 1.80, 4.70, 6.50, 7.30, 7.80, 9.70, 0.00, 0.00],\n",
    "        [0.00, 0.00, 0.00, 7.30, 7.80, 0.00, 11.2, 0.70, 1.40],\n",
    "        [2.20, 1.80, 0.70, 0.00, 0.00, 9.00, 0.00, 0.00, 0.00],\n",
    "        [2.20, 1.80, 4.70, 6.50, 4.30, 1.80, 0.70, 0.00, 0.00],\n",
    "        [0.00, 0.00, 0.00, 0.00, 0.00, 0.00, 0.00, 0.70, 1.40],\n",
    "        [2.20, 1.80, 0.70, 0.00, 0.00, 0.00, 0.00, 0.00, 0.00],\n",
    "        [2.20, 1.80, 4.70, 8.50, 4.30, 1.80, 0.70, 0.00, 0.00]]"
   ]
  },
  {
   "cell_type": "code",
   "execution_count": 236,
   "metadata": {},
   "outputs": [
    {
     "data": {
      "text/plain": [
       "11.2"
      ]
     },
     "execution_count": 236,
     "metadata": {},
     "output_type": "execute_result"
    }
   ],
   "source": [
    "problem = PeakFindingProblem(initial, grid3, directions4)\n",
    "solutions = {problem.value(simulated_annealing(problem)) for i in range(100)}\n",
    "max(solutions)"
   ]
  },
  {
   "cell_type": "code",
   "execution_count": 237,
   "metadata": {},
   "outputs": [
    {
     "data": {
      "text/plain": [
       "9.7"
      ]
     },
     "execution_count": 237,
     "metadata": {},
     "output_type": "execute_result"
    }
   ],
   "source": [
    "problem = PeakFindingProblem(initial, grid3, directions4)\n",
    "solutions = {problem.value(simulated_annealing(problem)) for i in range(100)}\n",
    "max(solutions)"
   ]
  },
  {
   "cell_type": "code",
   "execution_count": 232,
   "metadata": {},
   "outputs": [
    {
     "data": {
      "text/plain": [
       "11.2"
      ]
     },
     "execution_count": 232,
     "metadata": {},
     "output_type": "execute_result"
    }
   ],
   "source": [
    "problem.value(hill_climbing(problem))"
   ]
  },
  {
   "cell_type": "code",
   "execution_count": 233,
   "metadata": {},
   "outputs": [
    {
     "data": {
      "text/plain": [
       "7.8"
      ]
     },
     "execution_count": 233,
     "metadata": {},
     "output_type": "execute_result"
    }
   ],
   "source": [
    "problem.value(hill_climbing(problem))"
   ]
  },
  {
   "cell_type": "markdown",
   "metadata": {},
   "source": [
    "Aquí vemos que si establecemos un camino que lleve al máximo, el algoritmo de máxima pendiente sí que logra llegar al óptimo global, aunque igualmente puede llegar a una solución no óptima. \n",
    "\n",
    "Del mismo modo que hemos visto antes, como el algoritmo de enfriamiento simulado puede visitar nodos que no mejoran la solución, podemos llegar a soluciónes que no son el óptimo global."
   ]
  },
  {
   "cell_type": "markdown",
   "metadata": {},
   "source": [
    "## Parte 3. Algoritmos genéticos\n"
   ]
  },
  {
   "cell_type": "markdown",
   "metadata": {},
   "source": [
    "Se define una clase ProblemaGenetico que incluye los elementos necesarios para la representación de un problema de optimización que se va a resolver con un algoritmo genético. Los elementos son los que hemos visto en clase:\n",
    "\n",
    " - genes: lista de genes usados en el genotipo de los estados.\n",
    " - longitud_individuos: longitud de los cromosomas\n",
    " - decodifica: función de obtiene el fenotipo a partir del genotipo.\n",
    " - fitness: función de valoración.\n",
    " - muta: función de mutación de un cromosoma \n",
    " - cruza: función de cruce de un par de cromosomas"
   ]
  },
  {
   "cell_type": "code",
   "execution_count": 111,
   "metadata": {},
   "outputs": [],
   "source": [
    "import random"
   ]
  },
  {
   "cell_type": "code",
   "execution_count": 119,
   "metadata": {},
   "outputs": [],
   "source": [
    "class ProblemaGenetico(object):\n",
    "        def __init__(self, genes,fun_dec,fun_muta , fun_cruza, fun_fitness,longitud_individuos):\n",
    "            self.genes = genes\n",
    "            self.fun_dec = fun_dec\n",
    "            self.fun_cruza = fun_cruza\n",
    "            self.fun_muta = fun_muta\n",
    "            self.fun_fitness = fun_fitness\n",
    "            self.longitud_individuos = longitud_individuos\n",
    "            \"\"\"Constructor de la clase\"\"\"\n",
    "                \n",
    "        def decodifica(self, genotipo):\n",
    "            \"\"\"Devuelve el fenotipo a partir del genotipo\"\"\"\n",
    "            fenotipo = self.fun_dec(genotipo)\n",
    "            return fenotipo\n",
    "        def muta(self, cromosoma,prob):\n",
    "            \"\"\"Devuelve el cromosoma mutado\"\"\"   \n",
    "            mutante = self.fun_muta(cromosoma,prob)\n",
    "            return mutante\n",
    "        def cruza(self, cromosoma1, cromosoma2):         \n",
    "            \"\"\"Devuelve el cruce de un par de cromosomas\"\"\"\n",
    "            cruce = self.fun_cruza(cromosoma1,cromosoma2)\n",
    "            return cruce \n",
    "        def fitness(self, cromosoma):    \n",
    "            \"\"\"Función de valoración\"\"\"\n",
    "            valoracion = self.fun_fitness(cromosoma)\n",
    "            return valoracion"
   ]
  },
  {
   "cell_type": "markdown",
   "metadata": {},
   "source": [
    "En primer lugar vamos a definir una instancia de la clase anterior correspondiente al problema de optimizar (maximizar o minimizar) la función cuadrado x^2 en el conjunto de los números naturales menores que 2^{10}.\n",
    "Se usa este ejemplo (del que sabemos la solución) para ver todos los elementos y poder observar el comportamiento. \n"
   ]
  },
  {
   "cell_type": "code",
   "execution_count": 3,
   "metadata": {},
   "outputs": [],
   "source": [
    "# Será necesaria la siguiente función que interpreta una lista de 0's y 1's como un número natural:  \n",
    "# La siguiente función que interpreta una lista de 0's y 1's como\n",
    "# un número natural:  \n",
    "\n",
    "def binario_a_decimal(x):\n",
    "    return sum(b*(2**i) for (i,b) in enumerate(x)) "
   ]
  },
  {
   "cell_type": "code",
   "execution_count": 4,
   "metadata": {},
   "outputs": [
    {
     "data": {
      "text/plain": [
       "[(0, 1), (1, 0), (2, 0)]"
      ]
     },
     "execution_count": 4,
     "metadata": {},
     "output_type": "execute_result"
    }
   ],
   "source": [
    "list(enumerate([1, 0, 0]))"
   ]
  },
  {
   "cell_type": "code",
   "execution_count": 4,
   "metadata": {},
   "outputs": [],
   "source": [
    "# En primer luegar usaremos la clase anterior para representar el problema de optimizar (maximizar o minimizar)\n",
    "# la función cuadrado en el conjunto de los números naturales menores que\n",
    "# 2^{10}.\n",
    "\n",
    "# Tenemos que definir funciones de cruce, mutación y fitness para este problema.\n",
    "\n",
    "def fun_cruzar(cromosoma1, cromosoma2):\n",
    "    \"\"\"Cruza los cromosomas por la mitad\"\"\"\n",
    "    l1 = len(cromosoma1)\n",
    "    l2 = len(cromosoma2)\n",
    "    cruce1 = cromosoma1[0:l1//2]+cromosoma2[l1//2:l2]\n",
    "    cruce2 = cromosoma2[0:l2//2]+cromosoma1[l2//2:l1]\n",
    "    return [cruce1,cruce2]\n",
    "\n",
    "def fun_mutar(cromosoma,prob):\n",
    "    \"\"\"Elige un elemento al azar del cromosoma y lo modifica con una probabilidad igual a prob\"\"\"\n",
    "    l = len(cromosoma)\n",
    "    p = random.randint(0,l-1)\n",
    "    if prob > random.uniform(0,1):\n",
    "        cromosoma[p] =  (cromosoma[p]+1)%2\n",
    "    return cromosoma\n",
    "\n",
    "def fun_fitness_cuad(cromosoma):\n",
    "    \"\"\"Función de valoración que eleva al cuadrado el número recibido en binario\"\"\"\n",
    "    n = binario_a_decimal(cromosoma)**2\n",
    "    return n\n",
    "\n",
    "cuadrados = ProblemaGenetico([0,1],binario_a_decimal,fun_mutar, fun_cruzar, fun_fitness_cuad,10)"
   ]
  },
  {
   "cell_type": "markdown",
   "metadata": {},
   "source": [
    "Una vez definida la instancia cuadrados que representa el problema genético, probar alguna de las funciones definidas en la clase anterior, para esta instancia concreta. Por ejemplo:"
   ]
  },
  {
   "cell_type": "code",
   "execution_count": 6,
   "metadata": {},
   "outputs": [
    {
     "data": {
      "text/plain": [
       "1329"
      ]
     },
     "execution_count": 6,
     "metadata": {},
     "output_type": "execute_result"
    }
   ],
   "source": [
    "cuadrados.decodifica([1,0,0,0,1,1,0,0,1,0,1])\n",
    "# Salida esperada: 1329"
   ]
  },
  {
   "cell_type": "code",
   "execution_count": 7,
   "metadata": {},
   "outputs": [
    {
     "data": {
      "text/plain": [
       "1766241"
      ]
     },
     "execution_count": 7,
     "metadata": {},
     "output_type": "execute_result"
    }
   ],
   "source": [
    "cuadrados.fitness([1,0,0,0,1,1,0,0,1,0,1])\n",
    "# Salida esperada: 1766241"
   ]
  },
  {
   "cell_type": "code",
   "execution_count": 17,
   "metadata": {},
   "outputs": [
    {
     "data": {
      "text/plain": [
       "[1, 0, 0, 0, 1, 1, 0, 0, 1, 0, 1]"
      ]
     },
     "execution_count": 17,
     "metadata": {},
     "output_type": "execute_result"
    }
   ],
   "source": [
    "cuadrados.muta([1,0,0,0,1,1,0,0,1,0,1],0.1)\n",
    "# Posible salida: [1, 0, 0, 0, 1, 1, 0, 0, 1, 0, 1]"
   ]
  },
  {
   "cell_type": "code",
   "execution_count": 21,
   "metadata": {},
   "outputs": [
    {
     "data": {
      "text/plain": [
       "[1, 0, 0, 0, 1, 0, 0, 0, 1, 0, 1]"
      ]
     },
     "execution_count": 21,
     "metadata": {},
     "output_type": "execute_result"
    }
   ],
   "source": [
    "cuadrados.muta([1,0,0,0,1,1,0,0,1,0,1],0.1)\n",
    "# Posible salida: [0, 0, 0, 0, 1, 1, 0, 0, 1, 0, 1]"
   ]
  },
  {
   "cell_type": "code",
   "execution_count": 22,
   "metadata": {},
   "outputs": [
    {
     "data": {
      "text/plain": [
       "[[1, 0, 0, 0, 1, 0, 0, 1, 1, 1], [0, 1, 1, 0, 1, 1, 0, 0, 1, 0, 1]]"
      ]
     },
     "execution_count": 22,
     "metadata": {},
     "output_type": "execute_result"
    }
   ],
   "source": [
    "cuadrados.cruza([1,0,0,0,1,1,0,0,1,0,1],[0,1,1,0,1,0,0,1,1,1])\n",
    "# Posible salida: [[1, 0, 0, 0, 1, 0, 0, 1, 1, 1], [0, 1, 1, 0, 1, 1, 0, 0, 1, 0, 1]]"
   ]
  },
  {
   "cell_type": "markdown",
   "metadata": {},
   "source": [
    "### Ejercicio 3\n",
    "\n",
    "   - Definir una función poblacion_inicial(problema_genetico,tamaño), para definir una población inicial de un tamaño dado, para una instancia dada de la clase anterior ProblemaGenetico\n",
    "\n",
    "sugerencia: usar random.choice\n",
    "\n",
    "   - Definir una función de cruce que recibe una instancia de Problema_Genetico y una población de padres (supondremos que hay un número par de padres), obtiene la población resultante de cruzarlos de dos en dos (en el orden en que aparecen)\n",
    "\n",
    "cruza_padres(problema_genetico,padres)\n",
    "\n",
    "   - Definir la función de mutación que recibe una instancia de Problema_Genetico, una población y una probabilidad de mutación, obtiene la población resultante de aplicar operaciones de mutación a cada individuo llamando a la función muta definida para el problema genético.\n",
    "muta_individuos(problema_genetico, poblacion, prob)"
   ]
  },
  {
   "cell_type": "code",
   "execution_count": 126,
   "metadata": {},
   "outputs": [],
   "source": [
    "def poblacion_inicial(problema_genetico, size):\n",
    "    l = list()\n",
    "    for i in range(size):\n",
    "        indv = list()\n",
    "        for j in range(problema_genetico.longitud_individuos):\n",
    "            num = random.choice([0,1])\n",
    "            indv.append(num)\n",
    "        l.append(indv)\n",
    "        \n",
    "    return l"
   ]
  },
  {
   "cell_type": "code",
   "execution_count": 36,
   "metadata": {},
   "outputs": [
    {
     "data": {
      "text/plain": [
       "[[1, 0, 1, 0, 0, 1, 0, 0, 0, 0],\n",
       " [0, 0, 1, 0, 0, 0, 0, 1, 0, 0],\n",
       " [1, 0, 1, 0, 1, 0, 0, 1, 0, 1],\n",
       " [1, 0, 1, 1, 1, 0, 0, 1, 1, 1],\n",
       " [0, 0, 1, 0, 0, 1, 0, 1, 1, 1],\n",
       " [0, 1, 1, 1, 0, 0, 0, 0, 0, 0],\n",
       " [0, 1, 1, 1, 1, 1, 1, 1, 0, 0],\n",
       " [1, 0, 0, 0, 1, 1, 1, 1, 0, 0],\n",
       " [1, 0, 1, 1, 0, 1, 1, 0, 0, 0],\n",
       " [0, 1, 0, 0, 1, 0, 1, 0, 0, 1]]"
      ]
     },
     "execution_count": 36,
     "metadata": {},
     "output_type": "execute_result"
    }
   ],
   "source": [
    "poblacion_inicial(cuadrados,10)"
   ]
  },
  {
   "cell_type": "code",
   "execution_count": 127,
   "metadata": {},
   "outputs": [],
   "source": [
    "def cruza_padres(problema_genetico,padres):\n",
    "    l = list()\n",
    "    for i in range(len(padres)//2):\n",
    "        res_cruce = problema_genetico.cruza(padres[2*i],padres[2*i+1])\n",
    "        l.append(res_cruce[0])\n",
    "        l.append(res_cruce[1])\n",
    "    return l"
   ]
  },
  {
   "cell_type": "code",
   "execution_count": 46,
   "metadata": {},
   "outputs": [
    {
     "data": {
      "text/plain": [
       "[[1, 1, 0, 1, 0, 0, 1, 0, 1, 1],\n",
       " [0, 1, 0, 1, 0, 1, 0, 0, 0, 1],\n",
       " [0, 0, 1, 0, 0, 1, 1, 1, 1, 0],\n",
       " [0, 0, 1, 1, 1, 0, 1, 1, 1, 0],\n",
       " [0, 1, 1, 0, 0, 0, 1, 1, 0, 1],\n",
       " [1, 0, 1, 1, 1, 0, 0, 0, 0, 0]]"
      ]
     },
     "execution_count": 46,
     "metadata": {},
     "output_type": "execute_result"
    }
   ],
   "source": [
    "p1 = [[1, 1, 0, 1, 0, 1, 0, 0, 0, 1],\n",
    "      [0, 1, 0, 1, 0, 0, 1, 0, 1, 1],\n",
    "      [0, 0, 1, 0, 0, 0, 1, 1, 1, 0],\n",
    "      [0, 0, 1, 1, 1, 1, 1, 1, 1, 0],\n",
    "      [0, 1, 1, 0, 0, 0, 0, 0, 0, 0],\n",
    "      [1, 0, 1, 1, 1, 0, 1, 1, 0, 1]]\n",
    "\n",
    "cruza_padres(cuadrados,p1)\n",
    "# Posible salida\n",
    "# [[1, 1, 0, 1, 0, 0, 1, 0, 1, 1],\n",
    "#  [0, 1, 0, 1, 0, 1, 0, 0, 0, 1],\n",
    "#  [0, 0, 1, 1, 1, 1, 1, 1, 1, 0],\n",
    "#  [0, 0, 1, 0, 0, 0, 1, 1, 1, 0],\n",
    "#  [0, 1, 1, 1, 1, 0, 1, 1, 0, 1],\n",
    "#  [1, 0, 1, 0, 0, 0, 0, 0, 0, 0]]"
   ]
  },
  {
   "cell_type": "code",
   "execution_count": 128,
   "metadata": {},
   "outputs": [],
   "source": [
    "def muta_individuos(problema_genetico, poblacion, prob):\n",
    "    # hay que llamar a  problema_genetico.muta(x,prob) para todos los individuos de la poblacion.\n",
    "    l = list()\n",
    "    for i in range(len(poblacion)):\n",
    "        l.append(problema_genetico.muta(poblacion[i],prob))\n",
    "        \n",
    "    return l"
   ]
  },
  {
   "cell_type": "code",
   "execution_count": 48,
   "metadata": {
    "scrolled": true
   },
   "outputs": [
    {
     "data": {
      "text/plain": [
       "[[1, 1, 0, 1, 0, 1, 1, 0, 0, 1],\n",
       " [0, 1, 0, 1, 0, 0, 1, 0, 1, 1],\n",
       " [0, 1, 1, 0, 0, 0, 1, 1, 1, 0],\n",
       " [1, 0, 1, 1, 1, 1, 1, 1, 1, 0],\n",
       " [0, 1, 1, 0, 0, 0, 0, 0, 0, 0],\n",
       " [1, 0, 1, 1, 1, 0, 1, 1, 0, 0]]"
      ]
     },
     "execution_count": 48,
     "metadata": {},
     "output_type": "execute_result"
    }
   ],
   "source": [
    "muta_individuos(cuadrados,p1,0.5)\n",
    "# Posible salida:\n",
    "#  [[1, 1, 0, 1, 0, 1, 0, 0, 0, 1],\n",
    "#   [0, 1, 0, 1, 0, 0, 1, 0, 0, 1],\n",
    "#   [0, 0, 1, 0, 0, 0, 1, 0, 1, 0],\n",
    "#   [0, 0, 1, 1, 1, 1, 1, 1, 1, 0],\n",
    "#   [0, 1, 0, 0, 0, 0, 0, 0, 0, 0],\n",
    "#   [1, 0, 1, 1, 1, 0, 1, 1, 0, 1]]"
   ]
  },
  {
   "cell_type": "code",
   "execution_count": 49,
   "metadata": {},
   "outputs": [],
   "source": [
    "p1 = [[1, 1, 0, 1, 0, 1, 0, 0, 0, 1],\n",
    "      [0, 1, 0, 1, 0, 0, 1, 0, 1, 1],\n",
    "      [0, 0, 1, 0, 0, 0, 1, 1, 1, 0],\n",
    "      [0, 0, 1, 1, 1, 1, 1, 1, 1, 0],\n",
    "      [0, 1, 1, 0, 0, 0, 0, 0, 0, 0],\n",
    "      [1, 0, 1, 1, 1, 0, 1, 1, 0, 1]]"
   ]
  },
  {
   "cell_type": "code",
   "execution_count": 50,
   "metadata": {},
   "outputs": [
    {
     "data": {
      "text/plain": [
       "[[1, 1, 0, 1, 0, 1, 0, 0, 0, 1],\n",
       " [0, 1, 1, 1, 0, 0, 1, 0, 1, 1],\n",
       " [0, 0, 1, 0, 0, 0, 1, 1, 1, 0],\n",
       " [0, 0, 1, 1, 1, 0, 1, 1, 1, 0],\n",
       " [0, 1, 1, 0, 0, 0, 0, 0, 0, 0],\n",
       " [1, 0, 1, 1, 1, 0, 1, 1, 0, 1]]"
      ]
     },
     "execution_count": 50,
     "metadata": {},
     "output_type": "execute_result"
    }
   ],
   "source": [
    "muta_individuos(cuadrados,p1,0.5)"
   ]
  },
  {
   "cell_type": "markdown",
   "metadata": {},
   "source": [
    "### Ejercicio 4\n",
    "\n",
    "Se pide definir una función de selección mediante torneo de n individuos de una población.  \n",
    "La función recibe como entrada:\n",
    " - una instancia de la clase ProblemaGenetico\n",
    " - una población\n",
    " - el número n de individuos que vamos a seleccionar\n",
    " - el número k de participantes en el torneo\n",
    " - un valor opt que puede ser o la función max o la función min (dependiendo de si el problema es de maximización o de minimización, resp.).\n",
    "\n",
    "seleccion\\_por\\_torneo(problema_genetico,poblacion,n,k,opt) \n",
    "\n",
    "INDICACIÓN: Usar random.sample para seleccionar k elementos de una secuencia. \n",
    "Por ejemplo, random.sample(population=[2,5,7,8,9], k=3) devuelve [7,5,8]. "
   ]
  },
  {
   "cell_type": "code",
   "execution_count": 129,
   "metadata": {},
   "outputs": [],
   "source": [
    "def seleccion_por_torneo(problema_genetico, poblacion, n, k, opt):\n",
    "    \"\"\"Selección por torneo de n individuos de una población. Siendo k el nº de participantes\n",
    "        y opt la función max o min.\"\"\"\n",
    "    seleccionados = []\n",
    "    for i in range(n):\n",
    "        participantes = random.sample(poblacion,k)\n",
    "        seleccionado = opt(participantes, key=problema_genetico.fitness)\n",
    "        opt(poblacion, key=problema_genetico.fitness)\n",
    "        seleccionados.append(seleccionado)\n",
    "        # poblacion.remove(seleccionado)\n",
    "    return seleccionados  "
   ]
  },
  {
   "cell_type": "code",
   "execution_count": 18,
   "metadata": {},
   "outputs": [
    {
     "data": {
      "text/plain": [
       "[[0, 0, 0, 1, 1, 1, 0, 0, 1, 1],\n",
       " [0, 0, 0, 1, 1, 1, 0, 0, 1, 1],\n",
       " [0, 0, 0, 1, 1, 1, 0, 0, 1, 1]]"
      ]
     },
     "execution_count": 18,
     "metadata": {},
     "output_type": "execute_result"
    }
   ],
   "source": [
    "#Ejemplo\n",
    "seleccion_por_torneo(cuadrados, poblacion_inicial(cuadrados,8),3,6,max)\n",
    "# Posible salida: [[1, 1, 1, 1, 1, 0, 0, 0, 1, 1], [1, 0, 0, 1, 1, 1, 0, 1, 0, 1], [1, 1, 1, 1, 0, 1, 1, 1, 0, 1]]\n"
   ]
  },
  {
   "cell_type": "code",
   "execution_count": 20,
   "metadata": {},
   "outputs": [
    {
     "data": {
      "text/plain": [
       "[[0, 0, 1, 1, 0, 1, 0, 1, 0, 0],\n",
       " [0, 0, 1, 1, 0, 1, 0, 1, 0, 0],\n",
       " [1, 1, 0, 1, 0, 0, 0, 0, 0, 0]]"
      ]
     },
     "execution_count": 20,
     "metadata": {},
     "output_type": "execute_result"
    }
   ],
   "source": [
    "seleccion_por_torneo(cuadrados, poblacion_inicial(cuadrados,8),3,6,min)\n",
    "# [[0, 0, 1, 1, 0, 1, 1, 0, 0, 0], [1, 0, 1, 0, 1, 1, 1, 0, 0, 0], [1, 1, 0, 1, 0, 0, 1, 0, 1, 0]]"
   ]
  },
  {
   "cell_type": "code",
   "execution_count": 121,
   "metadata": {},
   "outputs": [],
   "source": [
    "# La siguiente función implementa una posibilidad para el algoritmo genético completo: \n",
    "# inicializa t = 0 \n",
    "# Generar y evaluar la Población P(t)\n",
    "# Mientras no hemos llegado al número de generaciones fijado:  t < nGen\n",
    "#    P1 = Selección por torneo de (1-size)·p individuos de P(t)\n",
    "#    P2 = Selección por torneo de (size·p) individuos de P(t)\n",
    "#    Aplicar cruce en la población P2\n",
    "#    P4 = Union de P1 y P3\n",
    "#    P(t+1) := Aplicar mutación P4 \n",
    "#    Evalua la población P(t+1) \n",
    "#    t:= t+1\n",
    "        \n",
    "# Sus argumentos son:\n",
    "# problema_genetico: una instancia de la clase ProblemaGenetico con la representación adecuada del problema de optimización \n",
    "# que se quiere resolver.\n",
    "# k: número de participantes en los torneos de selección.\n",
    "# opt: max ó min, dependiendo si el problema es de maximización o de minimización. \n",
    "# nGen: número de generaciones (que se usa como condición de terminación)\n",
    "# size: número de individuos en cada generación\n",
    "# prop_cruce: proporción del total de la población que serán padres. \n",
    "# prob_mutación: probabilidad de realizar una mutación de un gen.\n",
    "\n",
    "def algoritmo_genetico(problema_genetico,k,opt,ngen,size,prop_cruces,prob_mutar):\n",
    "    poblacion= poblacion_inicial(problema_genetico,size)\n",
    "    n_padres=round(size*prop_cruces)\n",
    "    n_padres= int (n_padres if n_padres%2==0 else n_padres-1)\n",
    "    n_directos = size-n_padres\n",
    "    for _ in range(ngen):\n",
    "        poblacion= nueva_generacion(problema_genetico,k,opt,poblacion,n_padres, n_directos,prob_mutar)\n",
    "\n",
    "    mejor_cr= opt(poblacion, key=problema_genetico.fitness)\n",
    "    mejor=problema_genetico.decodifica(mejor_cr)\n",
    "    return (mejor,problema_genetico.fitness(mejor_cr)) \n"
   ]
  },
  {
   "cell_type": "markdown",
   "metadata": {},
   "source": [
    "Necesitarás definir la función auxiliar nueva_generacion(problema_genetico,poblacion,n_padres,n_directos,prob_mutar) que dada una población calcula la siguiente generación."
   ]
  },
  {
   "cell_type": "code",
   "execution_count": 122,
   "metadata": {},
   "outputs": [],
   "source": [
    "#Definir la función nueva_generacion\n",
    "def nueva_generacion(problema_genetico, k,opt, poblacion, n_padres, n_directos, prob_mutar):\n",
    "    padres2 = seleccion_por_torneo(problema_genetico, poblacion, n_directos, k,opt) \n",
    "    padres1 = seleccion_por_torneo(problema_genetico, poblacion, n_padres , k, opt)\n",
    "    cruces =  cruza_padres(problema_genetico,padres1)\n",
    "    generacion = padres2+cruces\n",
    "    resultado_mutaciones = muta_individuos(problema_genetico, generacion, prob_mutar)\n",
    "    return resultado_mutaciones"
   ]
  },
  {
   "cell_type": "markdown",
   "metadata": {},
   "source": [
    "### Ejercicio 5.  Ejecutar el algoritmo genético anterior, para resolver el problema anterior (tanto en minimización como en maximización).  \n",
    "\n",
    "Hacer una valoración de resultados y comentarios sobre el comportamiento del algoritmmo. \n",
    "En la resolución del problema hay que tener en cuenta que el algoritmo genético devuelve un par con el mejor fenotipo encontrado y su valoración."
   ]
  },
  {
   "cell_type": "code",
   "execution_count": 32,
   "metadata": {},
   "outputs": [
    {
     "data": {
      "text/plain": [
       "(0, 0)"
      ]
     },
     "execution_count": 32,
     "metadata": {},
     "output_type": "execute_result"
    }
   ],
   "source": [
    "algoritmo_genetico(cuadrados,3,min,20,10,0.7,0.1)\n",
    "# Salida esperada: (0, 0)"
   ]
  },
  {
   "cell_type": "code",
   "execution_count": 28,
   "metadata": {},
   "outputs": [
    {
     "data": {
      "text/plain": [
       "(1023, 1046529)"
      ]
     },
     "execution_count": 28,
     "metadata": {},
     "output_type": "execute_result"
    }
   ],
   "source": [
    "algoritmo_genetico(cuadrados,3,max,20,10,0.7,0.1)\n",
    "# Salida esperada: (1023, 1046529)"
   ]
  },
  {
   "cell_type": "markdown",
   "metadata": {},
   "source": [
    "#### Número de generaciones"
   ]
  },
  {
   "cell_type": "markdown",
   "metadata": {},
   "source": [
    "Vamos a jugar primero con el número de generaciones, a ver cómo afecta a la solución obtenida."
   ]
  },
  {
   "cell_type": "code",
   "execution_count": 15,
   "metadata": {},
   "outputs": [
    {
     "name": "stdout",
     "output_type": "stream",
     "text": [
      "[(1, 1), (8, 64), (2, 4), (0, 0), (35, 1225), (8, 64), (224, 50176), (2, 4), (220, 48400), (0, 0)]\n"
     ]
    }
   ],
   "source": [
    "soluciones = list()\n",
    "for i in range(10):\n",
    "    solucion = algoritmo_genetico(cuadrados,3,min,5,10,0.7,0.1)\n",
    "    soluciones.append(solucion)\n",
    "    \n",
    "print(soluciones)"
   ]
  },
  {
   "cell_type": "code",
   "execution_count": 16,
   "metadata": {},
   "outputs": [
    {
     "name": "stdout",
     "output_type": "stream",
     "text": [
      "[(32, 1024), (50, 2500), (2, 4), (225, 50625), (2, 4), (6, 36), (65, 4225), (0, 0), (8, 64), (2, 4)]\n"
     ]
    }
   ],
   "source": [
    "soluciones = list()\n",
    "for i in range(10):\n",
    "    solucion = algoritmo_genetico(cuadrados,3,min,10,10,0.7,0.1)\n",
    "    soluciones.append(solucion)\n",
    "    \n",
    "print(soluciones)"
   ]
  },
  {
   "cell_type": "code",
   "execution_count": 17,
   "metadata": {},
   "outputs": [
    {
     "name": "stdout",
     "output_type": "stream",
     "text": [
      "[(0, 0), (0, 0), (0, 0), (2, 4), (0, 0), (0, 0), (0, 0), (32, 1024), (0, 0), (0, 0)]\n"
     ]
    }
   ],
   "source": [
    "soluciones = list()\n",
    "for i in range(10):\n",
    "    solucion = algoritmo_genetico(cuadrados,3,min,20,10,0.7,0.1)\n",
    "    soluciones.append(solucion)\n",
    "    \n",
    "print(soluciones)"
   ]
  },
  {
   "cell_type": "code",
   "execution_count": 18,
   "metadata": {},
   "outputs": [
    {
     "name": "stdout",
     "output_type": "stream",
     "text": [
      "[(0, 0), (0, 0), (0, 0), (0, 0), (0, 0), (0, 0), (0, 0), (0, 0), (0, 0), (0, 0)]\n"
     ]
    }
   ],
   "source": [
    "soluciones = list()\n",
    "for i in range(10):\n",
    "    solucion = algoritmo_genetico(cuadrados,3,min,50,10,0.7,0.1)\n",
    "    soluciones.append(solucion)\n",
    "    \n",
    "print(soluciones)"
   ]
  },
  {
   "cell_type": "code",
   "execution_count": 19,
   "metadata": {},
   "outputs": [
    {
     "name": "stdout",
     "output_type": "stream",
     "text": [
      "[(925, 855625), (1020, 1040400), (1022, 1044484), (979, 958441), (1021, 1042441), (1012, 1024144), (831, 690561), (1015, 1030225), (1010, 1020100), (765, 585225)]\n"
     ]
    }
   ],
   "source": [
    "soluciones = list()\n",
    "for i in range(10):\n",
    "    solucion = algoritmo_genetico(cuadrados,3,max,5,10,0.7,0.1)\n",
    "    soluciones.append(solucion)\n",
    "    \n",
    "print(soluciones)"
   ]
  },
  {
   "cell_type": "code",
   "execution_count": 20,
   "metadata": {},
   "outputs": [
    {
     "name": "stdout",
     "output_type": "stream",
     "text": [
      "[(1023, 1046529), (1009, 1018081), (1022, 1044484), (1023, 1046529), (891, 793881), (959, 919681), (862, 743044), (1022, 1044484), (975, 950625), (1015, 1030225)]\n"
     ]
    }
   ],
   "source": [
    "soluciones = list()\n",
    "for i in range(10):\n",
    "    solucion = algoritmo_genetico(cuadrados,3,max,10,10,0.7,0.1)\n",
    "    soluciones.append(solucion)\n",
    "    \n",
    "print(soluciones)"
   ]
  },
  {
   "cell_type": "code",
   "execution_count": 21,
   "metadata": {},
   "outputs": [
    {
     "name": "stdout",
     "output_type": "stream",
     "text": [
      "[(1023, 1046529), (1023, 1046529), (1021, 1042441), (1022, 1044484), (1023, 1046529), (1007, 1014049), (1023, 1046529), (975, 950625), (1023, 1046529), (1023, 1046529)]\n"
     ]
    }
   ],
   "source": [
    "soluciones = list()\n",
    "for i in range(10):\n",
    "    solucion = algoritmo_genetico(cuadrados,3,max,20,10,0.7,0.1)\n",
    "    soluciones.append(solucion)\n",
    "    \n",
    "print(soluciones)"
   ]
  },
  {
   "cell_type": "code",
   "execution_count": 22,
   "metadata": {},
   "outputs": [
    {
     "name": "stdout",
     "output_type": "stream",
     "text": [
      "[(1023, 1046529), (1023, 1046529), (1023, 1046529), (1023, 1046529), (1023, 1046529), (1023, 1046529), (1023, 1046529), (1023, 1046529), (1023, 1046529), (1023, 1046529)]\n"
     ]
    }
   ],
   "source": [
    "soluciones = list()\n",
    "for i in range(10):\n",
    "    solucion = algoritmo_genetico(cuadrados,3,max,50,10,0.7,0.1)\n",
    "    soluciones.append(solucion)\n",
    "    \n",
    "print(soluciones)"
   ]
  },
  {
   "cell_type": "markdown",
   "metadata": {},
   "source": [
    "Como se puede apreciar tanto en minimización como en maximización, cuanto mayor sea el número de generaciones, mejor solución obtenemos, llegando a la óptima. Con un número pequeño de generaciones hay mayor disparidad de soluciones entre cada iteración que llamamos al algoritmo, y según incrementamos ese número más cercanas son las soluciones entre sí y a la solución óptima."
   ]
  },
  {
   "cell_type": "markdown",
   "metadata": {},
   "source": [
    "#### Presión de selección"
   ]
  },
  {
   "cell_type": "code",
   "execution_count": 60,
   "metadata": {},
   "outputs": [
    {
     "name": "stdout",
     "output_type": "stream",
     "text": [
      "[(4, 16), (8, 64), (32, 1024), (0, 0), (0, 0), (0, 0), (1, 1), (1, 1), (0, 0), (2, 4)]\n"
     ]
    }
   ],
   "source": [
    "soluciones = list()\n",
    "for i in range(10):\n",
    "    solucion = algoritmo_genetico(cuadrados,2,min,20,20,0.7,0.1)\n",
    "    soluciones.append(solucion)\n",
    "    \n",
    "print(soluciones)"
   ]
  },
  {
   "cell_type": "code",
   "execution_count": 69,
   "metadata": {},
   "outputs": [
    {
     "name": "stdout",
     "output_type": "stream",
     "text": [
      "[(0, 0), (6, 36), (0, 0), (0, 0), (0, 0), (0, 0), (0, 0), (0, 0), (64, 4096), (0, 0)]\n"
     ]
    }
   ],
   "source": [
    "soluciones = list()\n",
    "for i in range(10):\n",
    "    solucion = algoritmo_genetico(cuadrados,10,min,20,20,0.7,0.1)\n",
    "    soluciones.append(solucion)\n",
    "    \n",
    "print(soluciones)"
   ]
  },
  {
   "cell_type": "code",
   "execution_count": 63,
   "metadata": {},
   "outputs": [
    {
     "name": "stdout",
     "output_type": "stream",
     "text": [
      "[(0, 0), (0, 0), (0, 0), (0, 0), (0, 0), (0, 0), (0, 0), (0, 0), (0, 0), (0, 0)]\n"
     ]
    }
   ],
   "source": [
    "soluciones = list()\n",
    "for i in range(10):\n",
    "    solucion = algoritmo_genetico(cuadrados,15,min,20,20,0.7,0.1)\n",
    "    soluciones.append(solucion)\n",
    "    \n",
    "print(soluciones)"
   ]
  },
  {
   "cell_type": "markdown",
   "metadata": {},
   "source": [
    "Vemos como cuanto mayor sea la presión de selección, mejores resultados obtenemos, ya que los peores individuos tienen menos posibilidades."
   ]
  },
  {
   "cell_type": "markdown",
   "metadata": {},
   "source": [
    "#### Proporción de cruce"
   ]
  },
  {
   "cell_type": "code",
   "execution_count": 86,
   "metadata": {},
   "outputs": [
    {
     "name": "stdout",
     "output_type": "stream",
     "text": [
      "[(810, 656100), (789, 622521), (820, 672400), (16, 256), (412, 169744), (417, 173889), (940, 883600), (353, 124609), (730, 532900), (975, 950625)]\n"
     ]
    }
   ],
   "source": [
    "soluciones = list()\n",
    "for i in range(10):\n",
    "    solucion = algoritmo_genetico(cuadrados,3,min,20,10,0.1,0.1)\n",
    "    soluciones.append(solucion)\n",
    "    \n",
    "print(soluciones)"
   ]
  },
  {
   "cell_type": "code",
   "execution_count": 85,
   "metadata": {},
   "outputs": [
    {
     "name": "stdout",
     "output_type": "stream",
     "text": [
      "[(0, 0), (16, 256), (0, 0), (2, 4), (0, 0), (68, 4624), (1, 1), (12, 144), (0, 0), (1, 1)]\n"
     ]
    }
   ],
   "source": [
    "soluciones = list()\n",
    "for i in range(10):\n",
    "    solucion = algoritmo_genetico(cuadrados,3,min,20,10,0.7,0.1)\n",
    "    soluciones.append(solucion)\n",
    "    \n",
    "print(soluciones)"
   ]
  },
  {
   "cell_type": "markdown",
   "metadata": {},
   "source": [
    "Se puede apreciar que cuanto menor sea la proporción de cruce, peores resultados obtenemos. Esto se debe a que con valores bajos de proporción de cruce, es mayor la cantidad de individuos que pasan directamente a torneo y apenas hay variación en cada generación, por lo que depende mucho de la población inicial que tengamos, que siendo aleatoria es más probable que no nos acerque al óptimo, como se puede apreciar claramente en el ejemplo."
   ]
  },
  {
   "cell_type": "markdown",
   "metadata": {},
   "source": [
    "#### Probabilidad de mutación"
   ]
  },
  {
   "cell_type": "code",
   "execution_count": 87,
   "metadata": {},
   "outputs": [
    {
     "name": "stdout",
     "output_type": "stream",
     "text": [
      "[(70, 4900), (130, 16900), (17, 289), (8, 64), (70, 4900), (72, 5184), (34, 1156), (363, 131769), (44, 1936), (194, 37636)]\n"
     ]
    }
   ],
   "source": [
    "soluciones = list()\n",
    "for i in range(10):\n",
    "    solucion = algoritmo_genetico(cuadrados,3,min,20,10,0.7,0.01)\n",
    "    soluciones.append(solucion)\n",
    "    \n",
    "print(soluciones)"
   ]
  },
  {
   "cell_type": "code",
   "execution_count": 88,
   "metadata": {},
   "outputs": [
    {
     "name": "stdout",
     "output_type": "stream",
     "text": [
      "[(36, 1296), (4, 16), (32, 1024), (2, 4), (128, 16384), (0, 0), (0, 0), (0, 0), (0, 0), (4, 16)]\n"
     ]
    }
   ],
   "source": [
    "soluciones = list()\n",
    "for i in range(10):\n",
    "    solucion = algoritmo_genetico(cuadrados,3,min,20,10,0.7,0.1)\n",
    "    soluciones.append(solucion)\n",
    "    \n",
    "print(soluciones)"
   ]
  },
  {
   "cell_type": "code",
   "execution_count": 91,
   "metadata": {},
   "outputs": [
    {
     "name": "stdout",
     "output_type": "stream",
     "text": [
      "[(0, 0), (0, 0), (0, 0), (0, 0), (1, 1), (0, 0), (0, 0), (0, 0), (2, 4), (0, 0)]\n"
     ]
    }
   ],
   "source": [
    "soluciones = list()\n",
    "for i in range(10):\n",
    "    solucion = algoritmo_genetico(cuadrados,3,min,20,10,0.7,0.3)\n",
    "    soluciones.append(solucion)\n",
    "    \n",
    "print(soluciones)"
   ]
  },
  {
   "cell_type": "markdown",
   "metadata": {},
   "source": [
    "De nuevo, vemos que introducir la posibilidad de alejarnos de la población inicial, en este caso por medio de mutaciones, vemos que mejora la solución obtenida. "
   ]
  },
  {
   "cell_type": "markdown",
   "metadata": {},
   "source": [
    "##  El problema de la mochila "
   ]
  },
  {
   "cell_type": "markdown",
   "metadata": {},
   "source": [
    "Se plantea el típico problema de la mochila en el que dados n objetos de pesos conocidos pi y valor vi (i=1,...,n) hay que elegir cuáles se meten en una mochila que soporta un peso P máximo. La selección debe hacerse de forma que se máximice el valor de los objetos introducidos sin superar el peso máximo."
   ]
  },
  {
   "cell_type": "markdown",
   "metadata": {},
   "source": [
    "### Ejercicio 6\n",
    "Se pide definir la representación del problema de la mochila usando genes [0,1] y longitud de los individuos n.\n",
    "\n",
    "Los valores 1 ó 0 representan, respectivamente, si el objeto se introduce o no en la mochila Tomados de izquerda a derecha, a partir del primero que no cabe, se consideran  todos fuera de la mochila,independientemente del gen en su posición. De esta manera, todos los individuos representan candidatos válidos.\n",
    "\n",
    "El numero de objetos n determina la longitud de los individuos de la población.\n",
    "En primer lugar es necesario definir una función de decodificación de la mochila que recibe como entrada:\n",
    "* un cromosoma (en este caso, una lista de 0s y 1s, de longitud igual a n_objetos) \n",
    "* n: número total de objetos de la mochila\n",
    "* pesos: una lista con los pesos de los objetos\n",
    "* capacidad: peso máximo de la mochila.\n",
    "La función decodifica recibe (cromosoma, n, pesos, capacidad) y devuelve una lista de 0s y 1s que indique qué objetos están en la mochila y cuáles no (el objeto i está en la mochila si y sólo si en la posición i-ésima de la lista hay un 1). Esta lista se obtendrá a partir del cromosoma, pero teniendo en cuenta que a partir del primer objeto que no quepa, éste y los siguientes se consideran fuera de la mochila, independientemente del valor que haya en su correspondiente posición de cromosoma. "
   ]
  },
  {
   "cell_type": "code",
   "execution_count": 112,
   "metadata": {},
   "outputs": [],
   "source": [
    "def decodifica_mochila(cromosoma, n, pesos, capacidad):\n",
    "    peso_en_mochila = 0\n",
    "    l = []\n",
    "    for i in range(n):\n",
    "        if cromosoma[i] == 1 and peso_en_mochila + pesos[i] <= capacidad:\n",
    "            l.append(1)\n",
    "            peso_en_mochila += pesos[i]\n",
    "        elif cromosoma[i]== 0 or peso_en_mochila + pesos[i] > capacidad:\n",
    "            l.append(0)\n",
    "    return l "
   ]
  },
  {
   "cell_type": "code",
   "execution_count": 113,
   "metadata": {},
   "outputs": [
    {
     "data": {
      "text/plain": [
       "[1, 1, 0, 0, 0]"
      ]
     },
     "execution_count": 113,
     "metadata": {},
     "output_type": "execute_result"
    }
   ],
   "source": [
    "decodifica_mochila([1,1,1,1,1], 5, [2,3,4,5,1], 5)"
   ]
  },
  {
   "cell_type": "markdown",
   "metadata": {},
   "source": [
    "Para definir la función de evaluación (fitness) necesitamos calcular el valor total de los objetos que están dentro de la mochila que representa el cromosoma según la codificación utilizada en la función anterior. \n",
    "\n",
    "Se pide la función fitness (cromosoma, n_objetos, pesos, capacidad, valores) donde los parámetros son los mismos que en la función anterior, y valores es la lista de los valores de cada objeto\n",
    "\n",
    "fitness(cromosoma, n_objetos, pesos, capacidad, valores)\n",
    "\n",
    "Ejemplo de uso:\n",
    "   fitness([1,1,1,1], 4, [2,3,4,5], 4, [7,1,4,5])\n",
    "   7"
   ]
  },
  {
   "cell_type": "code",
   "execution_count": 114,
   "metadata": {},
   "outputs": [],
   "source": [
    "def fitness_mochila(cromosoma, n_objetos, pesos, capacidad, valores):\n",
    "    dec = decodifica(cromosoma, n_objetos, pesos, capacidad)\n",
    "    valor = 0\n",
    "    for i in range(n_objetos):\n",
    "        valor += dec[i]*valores[i]\n",
    "        \n",
    "    return valor"
   ]
  },
  {
   "cell_type": "code",
   "execution_count": 115,
   "metadata": {},
   "outputs": [
    {
     "data": {
      "text/plain": [
       "7"
      ]
     },
     "execution_count": 115,
     "metadata": {},
     "output_type": "execute_result"
    }
   ],
   "source": [
    "fitness_mochila([1,1,1,1], 4, [2,3,4,5], 4, [7,1,4,5])"
   ]
  },
  {
   "cell_type": "markdown",
   "metadata": {},
   "source": [
    "Damos tres instancias concretas del problema de la mochila. Damos también sus soluciones optimas, para que se puedan comparar con los resultados obtenidos por el algoritmo genético:"
   ]
  },
  {
   "cell_type": "code",
   "execution_count": 116,
   "metadata": {},
   "outputs": [],
   "source": [
    "# Problema de la mochila 1:\n",
    "# 10 objetos, peso máximo 165\n",
    "pesos1 = [23,31,29,44,53,38,63,85,89,82]\n",
    "valores1 = [92,57,49,68,60,43,67,84,87,72]\n",
    "\n",
    "# Solución óptima= [1,1,1,1,0,1,0,0,0,0], con valor 309"
   ]
  },
  {
   "cell_type": "code",
   "execution_count": 117,
   "metadata": {},
   "outputs": [],
   "source": [
    "# Problema de la mochila 2:\n",
    "# 15 objetos, peso máximo 750\n",
    "\n",
    "pesos2 = [70,73,77,80,82,87,90,94,98,106,110,113,115,118,120]\n",
    "valores2 = [135,139,149,150,156,163,173,184,192,201,210,214,221,229,240]\n",
    "\n",
    "# Solución óptima= [1,0,1,0,1,0,1,1,1,0,0,0,0,1,1] con valor 1458"
   ]
  },
  {
   "cell_type": "code",
   "execution_count": 118,
   "metadata": {},
   "outputs": [],
   "source": [
    "# Problema de la mochila 3:\n",
    "# 24 objetos, peso máximo 6404180\n",
    "pesos3 = [382745,799601,909247,729069,467902, 44328,\n",
    "       34610,698150,823460,903959,853665,551830,610856,\n",
    "       670702,488960,951111,323046,446298,931161, 31385,496951,264724,224916,169684]\n",
    "valores3 = [825594,1677009,1676628,1523970, 943972,  97426,\n",
    "       69666,1296457,1679693,1902996,\n",
    "       1844992,1049289,1252836,1319836, 953277,2067538, 675367,\n",
    "       853655,1826027, 65731, 901489, 577243, 466257, 369261]\n",
    "\n",
    "# Solución óptima= [1,1,0,1,1,1,0,0,0,1,1,0,1,0,0,1,0,0,0,0,0,1,1,1] con valoración 13549094"
   ]
  },
  {
   "cell_type": "markdown",
   "metadata": {},
   "source": [
    "### Ejercicio 7\n",
    "\n",
    "Definir variables m1g, m2g y m3g, referenciando a instancias de Problema_Genetico que correspondan, respectivamente, a los problemas de la mochila anteriores. Resuelve los problemas y comentar los resultados obtenidos en cuanto a eficiencia y calidad de los resultados obtenidos."
   ]
  },
  {
   "cell_type": "markdown",
   "metadata": {},
   "source": [
    "Algunas de las salidas posibles variando los parámetros."
   ]
  },
  {
   "cell_type": "code",
   "execution_count": null,
   "metadata": {},
   "outputs": [],
   "source": [
    "# >>> algoritmo_genetico_t(m1g,3,max,100,50,0.8,0.05)\n",
    "# ([1, 1, 1, 1, 0, 1, 0, 0, 0, 0], 309)\n",
    "\n",
    "# >>> algoritmo_genetico_t(m2g,3,max,100,50,0.8,0.05)\n",
    "# ([1, 1, 1, 0, 0, 0, 0, 1, 1, 0, 1, 1, 1, 0, 0], 1444)\n",
    "# >>> algoritmo_genetico_t(m2g,3,max,200,100,0.8,0.05)\n",
    "# ([0, 0, 1, 0, 1, 1, 1, 1, 1, 1, 0, 0, 1, 0, 0], 1439)\n",
    "# >>> algoritmo_genetico_t(m2g,3,max,200,100,0.8,0.05)\n",
    "# ([1, 0, 1, 0, 1, 0, 1, 1, 1, 0, 0, 0, 0, 1, 1], 1458)\n",
    "\n",
    "# >>> algoritmo_genetico_t(m3g,5,max,400,200,0.75,0.1)\n",
    "# ([1, 1, 0, 1, 0, 1, 1, 0, 1, 1, 1, 0, 1, 0, 0, 1, 0, 0, 0, 0, 0, 1, 0, 0], 13518963)\n",
    "# >>> algoritmo_genetico_t(m3g,4,max,600,200,0.75,0.1)\n",
    "# ([1, 1, 0, 1, 1, 1, 1, 0, 0, 1, 1, 0, 1, 0, 0, 1, 1, 0, 0, 1, 0, 1, 0, 0], 13524340)\n",
    "# >>> algoritmo_genetico_t(m3g,4,max,1000,200,0.75,0.1)\n",
    "# ([1, 1, 0, 1, 0, 0, 0, 0, 1, 1, 1, 0, 1, 0, 0, 1, 1, 0, 0, 0, 0, 0, 0, 0], 13449995)\n",
    "# >>> algoritmo_genetico_t(m3g,3,max,1000,100,0.75,0.1)\n",
    "# ([1, 1, 0, 0, 0, 1, 1, 0, 1, 1, 1, 0, 1, 1, 0, 1, 1, 0, 0, 0, 0, 0, 0, 0], 13412953)\n",
    "# >>> algoritmo_genetico_t(m3g,3,max,2000,100,0.75,0.1)\n",
    "# ([0, 1, 0, 1, 0, 1, 0, 0, 1, 1, 1, 0, 1, 1, 0, 1, 0, 0, 0, 0, 0, 0, 0, 0], 13366296)\n",
    "# >>> algoritmo_genetico_t(m3g,6,max,2000,100,0.75,0.1)\n",
    "# ([1, 1, 0, 1, 1, 1, 0, 0, 0, 1, 1, 0, 1, 0, 0, 1, 0, 0, 0, 0, 0, 1, 1, 1], 13549094)"
   ]
  },
  {
   "cell_type": "code",
   "execution_count": 119,
   "metadata": {},
   "outputs": [],
   "source": [
    "\n",
    "def fitness_mochila_1(cromosoma):\n",
    "    v = fitness_mochila(cromosoma, 10, pesos1, 165, valores1)\n",
    "    return v\n",
    "def decodifica_mochila_1(cromosoma):\n",
    "    v = decodifica_mochila(cromosoma, 10, pesos1, 165)\n",
    "    return v\n",
    "m1g = ProblemaGenetico([0,1], decodifica_mochila_1, fun_mutar, fun_cruzar, fitness_mochila_1,10)\n",
    "\n",
    "def fitness_mochila_2(cromosoma):\n",
    "    v = fitness_mochila(cromosoma, 15, pesos2, 750, valores2)\n",
    "    return v\n",
    "def decodifica_mochila_2(cromosoma):\n",
    "    v = decodifica_mochila(cromosoma, 14, pesos2, 750)\n",
    "    return v\n",
    "m2g = ProblemaGenetico([0,1], decodifica_mochila_2, fun_mutar, fun_cruzar, fitness_mochila_2,15)\n",
    "\n",
    "def fitness_mochila_3(cromosoma):\n",
    "    v = fitness_mochila(cromosoma, 24, pesos3,6404180 , valores3)\n",
    "    return v\n",
    "def decodifica_mochila_3(cromosoma):\n",
    "    v = decodifica_mochila(cromosoma, 24, pesos3, 6404180)\n",
    "    return v\n",
    "m3g = ProblemaGenetico([0,1], decodifica_mochila_3, fun_mutar, fun_cruzar, fitness_mochila_3,24)\n"
   ]
  },
  {
   "cell_type": "markdown",
   "metadata": {},
   "source": [
    "Para cada mochila, vamos a ejecutar el algoritmo una serie de veces y ver el valor promedio que obtenemos en esas iteraciones, de modo que tengamos una visión clara de en qué condiciones nos acercamos en general más a la solución óptima."
   ]
  },
  {
   "cell_type": "markdown",
   "metadata": {},
   "source": [
    "### m1g"
   ]
  },
  {
   "cell_type": "code",
   "execution_count": 137,
   "metadata": {},
   "outputs": [
    {
     "name": "stdout",
     "output_type": "stream",
     "text": [
      "308.11\n"
     ]
    }
   ],
   "source": [
    "sol = 0\n",
    "for i in range(100):\n",
    "    sol += algoritmo_genetico(m1g,3,max,100,50,0.8,0.05)[1]\n",
    "\n",
    "print(sol/100)"
   ]
  },
  {
   "cell_type": "code",
   "execution_count": 138,
   "metadata": {},
   "outputs": [
    {
     "name": "stdout",
     "output_type": "stream",
     "text": [
      "307.5\n"
     ]
    }
   ],
   "source": [
    "#Disminuimos el número de generaciones a 50\n",
    "sol = 0\n",
    "for i in range(100):\n",
    "    sol += algoritmo_genetico(m1g,3,max,50,50,0.8,0.05)[1]\n",
    "\n",
    "print(sol/100)"
   ]
  },
  {
   "cell_type": "code",
   "execution_count": 139,
   "metadata": {},
   "outputs": [
    {
     "name": "stdout",
     "output_type": "stream",
     "text": [
      "307.5\n"
     ]
    }
   ],
   "source": [
    "#Disminuimos el número de generaciones a 20\n",
    "sol = 0\n",
    "for i in range(100):\n",
    "    sol += algoritmo_genetico(m1g,3,max,20,50,0.8,0.05)[1]\n",
    "\n",
    "print(sol/100)"
   ]
  },
  {
   "cell_type": "markdown",
   "metadata": {},
   "source": [
    "Como vemos, modificar el número de generaciones no afecta considerablemente el resultado, ya que en los tres obtenemos valores buenos. Hay que tener en cuenta que estos resultados dependen mucho del caso particular, por lo que la conclusión que debemos sacar es simplemente que nos sigue dando buenas soluciones. Obviamente si nos vamos a un número muy pequeño de generaciones el resultado empeorará."
   ]
  },
  {
   "cell_type": "code",
   "execution_count": 143,
   "metadata": {},
   "outputs": [
    {
     "name": "stdout",
     "output_type": "stream",
     "text": [
      "270.14\n"
     ]
    }
   ],
   "source": [
    "#Presión de selección 1\n",
    "sol = 0\n",
    "for i in range(100):\n",
    "    sol += algoritmo_genetico(m1g,1,max,100,50,0.8,0.05)[1]\n",
    "\n",
    "print(sol/100)"
   ]
  },
  {
   "cell_type": "code",
   "execution_count": 144,
   "metadata": {},
   "outputs": [
    {
     "name": "stdout",
     "output_type": "stream",
     "text": [
      "271.52\n"
     ]
    }
   ],
   "source": [
    "#Presión de selección 10\n",
    "sol = 0\n",
    "for i in range(100):\n",
    "    sol += algoritmo_genetico(m1g,1,max,100,50,0.8,0.05)[1]\n",
    "\n",
    "print(sol/100)"
   ]
  },
  {
   "cell_type": "markdown",
   "metadata": {},
   "source": [
    "Reducir la presión de selección nos da peores resultados, como ya hemos comentado anteriormente, pero como también podemos ver que incrementarlo demasiado nos empeora el resultado. Esto puede deberse a que, a pesar de quedarse con individuos muy buenos, puede dar lugar a poca variabilidad genética."
   ]
  },
  {
   "cell_type": "code",
   "execution_count": 147,
   "metadata": {},
   "outputs": [
    {
     "name": "stdout",
     "output_type": "stream",
     "text": [
      "307.75\n"
     ]
    }
   ],
   "source": [
    "#Proporción de cruce 0.4\n",
    "sol = 0\n",
    "for i in range(100):\n",
    "    sol += algoritmo_genetico(m1g,3,max,100,50,0.4,0.05)[1]\n",
    "\n",
    "print(sol/100)"
   ]
  },
  {
   "cell_type": "code",
   "execution_count": 148,
   "metadata": {},
   "outputs": [
    {
     "name": "stdout",
     "output_type": "stream",
     "text": [
      "308.5\n"
     ]
    }
   ],
   "source": [
    "#Proporción de cruce 0.1\n",
    "sol = 0\n",
    "for i in range(100):\n",
    "    sol += algoritmo_genetico(m1g,3,max,100,50,0.1,0.05)[1]\n",
    "\n",
    "print(sol/100)"
   ]
  },
  {
   "cell_type": "markdown",
   "metadata": {},
   "source": [
    "En el caso de modificar la proporción de cruce no se ha producido ningún cambio considerable."
   ]
  },
  {
   "cell_type": "code",
   "execution_count": 149,
   "metadata": {},
   "outputs": [
    {
     "name": "stdout",
     "output_type": "stream",
     "text": [
      "307.75\n"
     ]
    }
   ],
   "source": [
    "#Probabilidad de mutación 0.1\n",
    "sol = 0\n",
    "for i in range(100):\n",
    "    sol += algoritmo_genetico(m1g,3,max,100,50,0.8,0.1)[1]\n",
    "\n",
    "print(sol/100)"
   ]
  },
  {
   "cell_type": "code",
   "execution_count": 150,
   "metadata": {},
   "outputs": [
    {
     "name": "stdout",
     "output_type": "stream",
     "text": [
      "309.0\n"
     ]
    }
   ],
   "source": [
    "#Probabilidad de mutación 0.5\n",
    "sol = 0\n",
    "for i in range(100):\n",
    "    sol += algoritmo_genetico(m1g,3,max,100,50,0.8,0.5)[1]\n",
    "\n",
    "print(sol/100)"
   ]
  },
  {
   "cell_type": "markdown",
   "metadata": {},
   "source": [
    "Aumentar la probabilidad de mutación nos ha dado mejores resulados, especialmente el caso 0.5 en el que las 100 llamadas al algoritmo genético han dado el valor óptimo."
   ]
  },
  {
   "cell_type": "markdown",
   "metadata": {},
   "source": [
    "### m2g\n",
    "A partir de aquí vamos a reducir el número de llamadas al algoritmo con el fin de reducir el tiempo de espera a que cada llamada termine."
   ]
  },
  {
   "cell_type": "code",
   "execution_count": 151,
   "metadata": {},
   "outputs": [
    {
     "name": "stdout",
     "output_type": "stream",
     "text": [
      "1442.1\n"
     ]
    }
   ],
   "source": [
    "sol = 0\n",
    "for i in range(50):\n",
    "    sol += algoritmo_genetico(m2g,3,max,100,50,0.8,0.05)[1]\n",
    "\n",
    "print(sol/50)"
   ]
  },
  {
   "cell_type": "code",
   "execution_count": 152,
   "metadata": {},
   "outputs": [
    {
     "name": "stdout",
     "output_type": "stream",
     "text": [
      "1444.24\n"
     ]
    }
   ],
   "source": [
    "sol = 0\n",
    "for i in range(50):\n",
    "    sol += algoritmo_genetico(m2g,3,max,200,100,0.8,0.05)[1]\n",
    "\n",
    "print(sol/50)"
   ]
  },
  {
   "cell_type": "code",
   "execution_count": 153,
   "metadata": {},
   "outputs": [
    {
     "name": "stdout",
     "output_type": "stream",
     "text": [
      "1447.5\n"
     ]
    }
   ],
   "source": [
    "sol = 0\n",
    "for i in range(50): \n",
    "    sol += algoritmo_genetico(m2g,3,max,200,100,0.8,0.2)[1]\n",
    "    \n",
    "print(sol/50)"
   ]
  },
  {
   "cell_type": "code",
   "execution_count": 154,
   "metadata": {},
   "outputs": [
    {
     "name": "stdout",
     "output_type": "stream",
     "text": [
      "1450.64\n"
     ]
    }
   ],
   "source": [
    "sol = 0\n",
    "for i in range(50): \n",
    "    sol += algoritmo_genetico(m2g,3,max,200,100,0.8,0.4)[1]\n",
    "    \n",
    "print(sol/50)"
   ]
  },
  {
   "cell_type": "markdown",
   "metadata": {},
   "source": [
    "De nuevo, al igual que en la configuración de problema anterior, se puede apreciar cómo apenas varía el promedio si modificamos el número de generaciones o el tamaño de la población. Lo que sí mejora el promedio es el incremento de la probabilidad de mutación."
   ]
  },
  {
   "cell_type": "markdown",
   "metadata": {},
   "source": [
    "### m3g"
   ]
  },
  {
   "cell_type": "code",
   "execution_count": 159,
   "metadata": {},
   "outputs": [
    {
     "data": {
      "text/plain": [
       "([1, 1, 0, 1, 1, 1, 1, 0, 1, 0, 1, 0, 1, 0, 0, 1, 0, 0, 0, 1, 0, 1, 1, 1],\n",
       " 13461188)"
      ]
     },
     "execution_count": 159,
     "metadata": {},
     "output_type": "execute_result"
    }
   ],
   "source": [
    "algoritmo_genetico(m3g,5,max,400,200,0.75,0.1)"
   ]
  },
  {
   "cell_type": "code",
   "execution_count": 160,
   "metadata": {},
   "outputs": [
    {
     "data": {
      "text/plain": [
       "([1, 1, 0, 1, 0, 1, 0, 0, 1, 1, 1, 0, 1, 0, 0, 1, 0, 0, 0, 1, 0, 1, 0, 0],\n",
       " 13515028)"
      ]
     },
     "execution_count": 160,
     "metadata": {},
     "output_type": "execute_result"
    }
   ],
   "source": [
    "algoritmo_genetico(m3g,4,max,600,200,0.75,0.1)"
   ]
  },
  {
   "cell_type": "code",
   "execution_count": 161,
   "metadata": {},
   "outputs": [
    {
     "data": {
      "text/plain": [
       "([1, 1, 0, 1, 0, 1, 1, 0, 1, 1, 1, 0, 1, 0, 0, 1, 0, 0, 0, 0, 0, 1, 0, 0],\n",
       " 13518963)"
      ]
     },
     "execution_count": 161,
     "metadata": {},
     "output_type": "execute_result"
    }
   ],
   "source": [
    "algoritmo_genetico(m3g,4,max,1000,200,0.75,0.1)"
   ]
  },
  {
   "cell_type": "code",
   "execution_count": 162,
   "metadata": {},
   "outputs": [
    {
     "data": {
      "text/plain": [
       "([1, 1, 0, 1, 0, 1, 0, 0, 1, 1, 1, 0, 1, 0, 0, 1, 0, 0, 0, 1, 0, 1, 0, 0],\n",
       " 13515028)"
      ]
     },
     "execution_count": 162,
     "metadata": {},
     "output_type": "execute_result"
    }
   ],
   "source": [
    "algoritmo_genetico(m3g,3,max,1000,100,0.75,0.1)"
   ]
  },
  {
   "cell_type": "code",
   "execution_count": 163,
   "metadata": {},
   "outputs": [
    {
     "data": {
      "text/plain": [
       "([1, 1, 0, 1, 1, 1, 1, 0, 0, 1, 1, 0, 1, 0, 0, 1, 1, 0, 0, 1, 0, 1, 0, 0],\n",
       " 13524340)"
      ]
     },
     "execution_count": 163,
     "metadata": {},
     "output_type": "execute_result"
    }
   ],
   "source": [
    "algoritmo_genetico(m3g,3,max,2000,100,0.75,0.1)"
   ]
  },
  {
   "cell_type": "code",
   "execution_count": 164,
   "metadata": {},
   "outputs": [
    {
     "data": {
      "text/plain": [
       "([1, 1, 0, 1, 0, 0, 1, 0, 0, 1, 1, 0, 1, 0, 0, 1, 0, 1, 0, 1, 0, 1, 1, 1],\n",
       " 13496748)"
      ]
     },
     "execution_count": 164,
     "metadata": {},
     "output_type": "execute_result"
    }
   ],
   "source": [
    "algoritmo_genetico(m3g,6,max,2000,100,0.75,0.1)"
   ]
  },
  {
   "cell_type": "markdown",
   "metadata": {},
   "source": [
    "### Ejercicio 8\n",
    "Resolver mediante una configuración de un algoritmo genético el problema del cuadrado mágico que consiste en colocar en un cuadrado n × n los números naturales de 1 a n^2, \n",
    "de tal manera que las filas, las columnas y las diagonales principales sumen los mismo. \n",
    "Ejemplo: una solucion para n= 3\n",
    "    \n",
    "    4 3 8\n",
    "    9 5 1\n",
    "    2 7 6\n",
    "    \n",
    "- Dimensionn del cuadrado: N\n",
    "- Suma común: SUMA=(N·(N^2 + 1))/2\n",
    "    \n",
    "    Comenta el resultado y el rendimiento del algoritmo para distintos parámetros.\n",
    "    \n",
    "\n",
    "    \n",
    "    "
   ]
  },
  {
   "cell_type": "markdown",
   "metadata": {},
   "source": [
    "### Representación del problema\n",
    "Del mismo modo que en el problema del 8-puzzle, en este problema cada cromosoma va a ser una lista de tamaño n·n, formada por números del 1 a n·n sin repetir ninguno. Utilizaremos la clase ProblemaGenético ya definida más arriba."
   ]
  },
  {
   "cell_type": "markdown",
   "metadata": {},
   "source": [
    "### Definición de funciones de cruce, mutación y fitness"
   ]
  },
  {
   "cell_type": "code",
   "execution_count": 102,
   "metadata": {},
   "outputs": [],
   "source": [
    "import math\n",
    "\n",
    "def cruce_de_orden(cromosoma1, cromosoma2, c1, c2):\n",
    "    #Dados dos cromosomas, realiza el cruce de orden\n",
    "    l = len(cromosoma1)\n",
    "    cadena_central = cromosoma1[c1:c2]\n",
    "    cadena_aux = list()\n",
    "    j = c2\n",
    "    for i in range(l):\n",
    "        if j==l:\n",
    "            j = 0\n",
    "        if cromosoma2[j] not in cadena_central:\n",
    "            cadena_aux.append(cromosoma2[j])\n",
    "        j += 1\n",
    "    \n",
    "    l_aux = len(cadena_aux)\n",
    "    return cadena_aux[l-c2:l_aux] + cadena_central + cadena_aux[0:l-c2]\n",
    "\n",
    "def fun_cruzar_cuadrado(cromosoma1, cromosoma2):\n",
    "    \"\"\"Cruce de orden\"\"\"\n",
    "    #Elegimos sección aleatoria de cromosoma1 desde c1 a c2-1, recorremos cromosoma2 desde c2 llenando primero la \n",
    "    #cadena derecha, y luego la izquierda de los elementos de cromosoma2 que no están en la sección escogida de cromosoma1\n",
    "    l = len(cromosoma1)\n",
    "    c1 = random.randint(0,l-1)\n",
    "    c2 = random.randint(0,l-1)\n",
    "    if c2 < c1:\n",
    "        temp = c2\n",
    "        c2 = c1\n",
    "        c1 = temp\n",
    "    c2 += 1\n",
    "    cruce1 = cruce_de_orden(cromosoma1, cromosoma2, c1, c2)\n",
    "    cruce2 = cruce_de_orden(cromosoma2, cromosoma1, c1, c2)\n",
    "    \n",
    "    return [cruce1,cruce2]\n",
    "\n",
    "def fun_mutar_cuadrado(cromosoma,prob):\n",
    "    \"\"\"Elige una sección al azar del cromosoma y la revuelve\"\"\"\n",
    "    l = len(cromosoma)\n",
    "    c1 = random.randint(0,l-1)\n",
    "    c2 = random.randint(0,l-1)\n",
    "    if c2 < c1:\n",
    "        temp = c2\n",
    "        c2 = c1\n",
    "        c1 = temp\n",
    "    c2 += 1\n",
    "    if prob > random.uniform(0,1):\n",
    "        cromosoma[c1:c2] =  random.sample(cromosoma[c1:c2],c2-c1)\n",
    "        \n",
    "    return cromosoma\n",
    "\n",
    "def fun_fitness_cuadrado(cromosoma):\n",
    "    \"\"\"Calculamos la suma de los elementos de cada fila/columna/diagonal, y calculamos el módulo entre ese valor y \n",
    "    el valor suma buscado. El valor fitness será la suma de todas esas diferencias, valiendo 0 si todos coinciden\n",
    "    en suma, y más valor cuanto más alejado de la solución se encuentre el tablero. Así el problema consiste en minimizar\n",
    "    el valor de la función de fitness.\"\"\"\n",
    "    \n",
    "    N = int(math.sqrt(len(cromosoma)))\n",
    "    valor_magico = (N*(N**2 + 1))//2\n",
    "    fitness_val = 0\n",
    "    for i in range(N):\n",
    "        fitness_fila = valor_magico\n",
    "        fitness_columna = valor_magico\n",
    "        for j in range(N):\n",
    "            fitness_fila -= cromosoma[N*i+j]\n",
    "            fitness_columna -= cromosoma[N*j+i]\n",
    "        fitness_val += abs(fitness_fila)\n",
    "        fitness_val += abs(fitness_columna)\n",
    "        \n",
    "    fitness_diag1 = valor_magico\n",
    "    fitness_diag2 = valor_magico        \n",
    "    for i in range(N):\n",
    "        fitness_diag1 -= cromosoma[N*i+i]\n",
    "        fitness_diag2 -= cromosoma[N*(i+1)-(i+1)]\n",
    "    fitness_val += abs(fitness_diag1)\n",
    "    fitness_val += abs(fitness_diag2)\n",
    "    \n",
    "    return fitness_val"
   ]
  },
  {
   "cell_type": "code",
   "execution_count": 99,
   "metadata": {},
   "outputs": [
    {
     "data": {
      "text/plain": [
       "8"
      ]
     },
     "execution_count": 99,
     "metadata": {},
     "output_type": "execute_result"
    }
   ],
   "source": [
    "fun_fitness_cuadrado([4,1,8,9,5,3,2,7,6])"
   ]
  },
  {
   "cell_type": "code",
   "execution_count": 100,
   "metadata": {},
   "outputs": [
    {
     "data": {
      "text/plain": [
       "0"
      ]
     },
     "execution_count": 100,
     "metadata": {},
     "output_type": "execute_result"
    }
   ],
   "source": [
    "fun_fitness_cuadrado([4,3,8,9,5,1,2,7,6])"
   ]
  },
  {
   "cell_type": "code",
   "execution_count": 67,
   "metadata": {},
   "outputs": [
    {
     "data": {
      "text/plain": [
       "[1, 2, 3, 4, 12, 8, 9, 5, 7, 6, 11, 14, 13, 10, 15]"
      ]
     },
     "execution_count": 67,
     "metadata": {},
     "output_type": "execute_result"
    }
   ],
   "source": [
    "fun_mutar_cuadrado([1,2,3,4,5,6,7,8,9,10,11,12,13,14,15], 0.99)"
   ]
  },
  {
   "cell_type": "code",
   "execution_count": 109,
   "metadata": {},
   "outputs": [
    {
     "data": {
      "text/plain": [
       "[[1, 2, 3, 4, 5, 6, 9, 8, 7], [1, 2, 4, 3, 8, 7, 9, 5, 6]]"
      ]
     },
     "execution_count": 109,
     "metadata": {},
     "output_type": "execute_result"
    }
   ],
   "source": [
    "fun_cruzar_cuadrado([1,2,3,4,5,6,7,8,9], [1,2,4,3,8,7,6,5,9])"
   ]
  },
  {
   "cell_type": "markdown",
   "metadata": {},
   "source": [
    "### Definimos la función de población inicial, decodificación y algoritmo genético"
   ]
  },
  {
   "cell_type": "code",
   "execution_count": 130,
   "metadata": {},
   "outputs": [],
   "source": [
    "def poblacion_inicial_perm(problema_genetico, size):\n",
    "    \"\"\"Dadas las dimensiones del cuadrado, nos da una permutación aleatoria de los valores\"\"\"\n",
    "    l = list()\n",
    "    for i in range(size):\n",
    "        N = problema_genetico.longitud_individuos**2\n",
    "        indv = random.sample(list(range(1,N+1)),N)\n",
    "        l.append(indv)\n",
    "        \n",
    "    return l"
   ]
  },
  {
   "cell_type": "code",
   "execution_count": 131,
   "metadata": {},
   "outputs": [],
   "source": [
    "def decodifica_cuadrado(cromosoma):\n",
    "    \"\"\"Con nuestra representación no hay que hacer nada\"\"\"\n",
    "    return cromosoma"
   ]
  },
  {
   "cell_type": "code",
   "execution_count": 132,
   "metadata": {},
   "outputs": [],
   "source": [
    "def algoritmo_genetico_cuadrado(problema_genetico,k,opt,ngen,size,prop_cruces,prob_mutar):\n",
    "    poblacion= poblacion_inicial_perm(problema_genetico,size)\n",
    "    n_padres=round(size*prop_cruces)\n",
    "    n_padres= int (n_padres if n_padres%2==0 else n_padres-1)\n",
    "    n_directos = size-n_padres\n",
    "    for _ in range(ngen):\n",
    "        poblacion= nueva_generacion(problema_genetico,k,opt,poblacion,n_padres, n_directos,prob_mutar)\n",
    "\n",
    "    mejor_cr= opt(poblacion, key=problema_genetico.fitness)\n",
    "    mejor=problema_genetico.decodifica(mejor_cr)\n",
    "    return (mejor,problema_genetico.fitness(mejor_cr)) "
   ]
  },
  {
   "cell_type": "markdown",
   "metadata": {},
   "source": [
    "### Vamos a ver 2 ejemplos de este problema"
   ]
  },
  {
   "cell_type": "code",
   "execution_count": 133,
   "metadata": {},
   "outputs": [],
   "source": [
    "cuadrado3 = ProblemaGenetico(list(range(1,3**2)), decodifica_cuadrado, fun_mutar_cuadrado, fun_cruzar_cuadrado, fun_fitness_cuadrado,3)\n",
    "cuadrado10 = ProblemaGenetico(list(range(1,10**2)), decodifica_cuadrado, fun_mutar_cuadrado, fun_cruzar_cuadrado, fun_fitness_cuadrado,10)"
   ]
  },
  {
   "cell_type": "code",
   "execution_count": 143,
   "metadata": {},
   "outputs": [
    {
     "data": {
      "text/plain": [
       "([4, 3, 8, 9, 5, 1, 2, 7, 6], 0)"
      ]
     },
     "execution_count": 143,
     "metadata": {},
     "output_type": "execute_result"
    }
   ],
   "source": [
    "algoritmo_genetico_cuadrado(cuadrado3,3,min,100,50,0.8,0.05)"
   ]
  },
  {
   "cell_type": "code",
   "execution_count": 150,
   "metadata": {},
   "outputs": [
    {
     "name": "stdout",
     "output_type": "stream",
     "text": [
      "[9, 6, 9, 2, 6, 5, 5, 6, 7, 5, 0, 0, 6, 6, 8, 9, 0, 8, 3, 0, 6, 0, 2, 6, 8, 0, 6, 6, 8, 6, 3, 2, 3, 7, 7, 10, 6, 9, 14, 6, 7, 7, 5, 0, 0, 8, 8, 7, 5, 6]\n",
      "Promedio: 5.36\n"
     ]
    }
   ],
   "source": [
    "soluciones = list()\n",
    "suma = 0\n",
    "for i in range(50):\n",
    "    solucion = algoritmo_genetico_cuadrado(cuadrado3,3,min,100,50,0.8,0.05)[1]\n",
    "    suma += solucion\n",
    "    soluciones.append(solucion)\n",
    "print(soluciones)\n",
    "print(\"Promedio: \" + str(suma/50))"
   ]
  },
  {
   "cell_type": "code",
   "execution_count": 151,
   "metadata": {},
   "outputs": [
    {
     "name": "stdout",
     "output_type": "stream",
     "text": [
      "[5, 6, 5, 0, 7, 5, 3, 7, 7, 7, 5, 7, 5, 9, 7, 6, 6, 5, 10, 7, 0, 6, 5, 11, 3, 8, 7, 7, 3, 5, 6, 6, 5, 11, 6, 5, 9, 9, 2, 0, 9, 7, 6, 0, 5, 6, 2, 5, 6, 6]\n",
      "Promedio: 5.7\n"
     ]
    }
   ],
   "source": [
    "soluciones = list()\n",
    "suma = 0\n",
    "for i in range(50):\n",
    "    solucion = algoritmo_genetico_cuadrado(cuadrado3,3,min,200,50,0.8,0.05)[1]\n",
    "    suma += solucion\n",
    "    soluciones.append(solucion)\n",
    "print(soluciones)\n",
    "print(\"Promedio: \" + str(suma/50))"
   ]
  },
  {
   "cell_type": "code",
   "execution_count": 153,
   "metadata": {},
   "outputs": [
    {
     "name": "stdout",
     "output_type": "stream",
     "text": [
      "[6, 6, 6, 6, 6, 6, 6, 6, 6, 6, 6, 6, 6, 6, 6, 6, 6, 6, 6, 6, 6, 6, 6, 6, 6, 6, 6, 6, 6, 6, 6, 6, 6, 6, 6, 6, 6, 6, 6, 6, 6, 6, 6, 6, 6, 6, 6, 6, 6, 6]\n",
      "Promedio: 6.0\n"
     ]
    }
   ],
   "source": [
    "soluciones = list()\n",
    "suma = 0\n",
    "for i in range(50):\n",
    "    solucio = algoritmo_genetico_cuadrado(cuadrado3,10,min,200,50,0.8,0.05)[1]\n",
    "    suma += solucion\n",
    "    soluciones.append(solucion)\n",
    "print(soluciones)\n",
    "print(\"Promedio: \" + str(suma/50))"
   ]
  },
  {
   "cell_type": "code",
   "execution_count": 154,
   "metadata": {},
   "outputs": [
    {
     "name": "stdout",
     "output_type": "stream",
     "text": [
      "[3, 2, 0, 5, 3, 3, 3, 0, 8, 8, 6, 6, 7, 7, 0, 2, 5, 5, 6, 5, 2, 0, 5, 3, 0, 5, 3, 5, 6, 6, 5, 5, 2, 3, 5, 7, 0, 5, 3, 0, 0, 0, 7, 3, 5, 5, 6, 6, 0, 6]\n",
      "Promedio: 3.84\n"
     ]
    }
   ],
   "source": [
    "soluciones = list()\n",
    "suma = 0\n",
    "for i in range(50):\n",
    "    solucion = algoritmo_genetico_cuadrado(cuadrado3,10,min,200,50,0.8,0.2)[1]\n",
    "    suma += solucion\n",
    "    soluciones.append(solucion)\n",
    "print(soluciones)\n",
    "print(\"Promedio: \" + str(suma/50))"
   ]
  },
  {
   "cell_type": "code",
   "execution_count": 155,
   "metadata": {},
   "outputs": [
    {
     "name": "stdout",
     "output_type": "stream",
     "text": [
      "[3, 3, 5, 0, 7, 6, 6, 2, 2, 6, 2, 0, 0, 2, 7, 5, 2, 3, 5, 0, 7, 6, 2, 3, 2, 0, 3, 5, 3, 3, 0, 3, 2, 5, 0, 5, 8, 8, 6, 0, 0, 5, 0, 6, 5, 0, 0, 3, 0, 0]\n",
      "Promedio: 3.12\n"
     ]
    }
   ],
   "source": [
    "soluciones = list()\n",
    "suma = 0\n",
    "for i in range(50):\n",
    "    solucion = algoritmo_genetico_cuadrado(cuadrado3,10,min,200,50,0.8,0.5)[1]\n",
    "    suma += solucion\n",
    "    soluciones.append(solucion)\n",
    "print(soluciones)\n",
    "print(\"Promedio: \" + str(suma/50))"
   ]
  },
  {
   "cell_type": "code",
   "execution_count": 162,
   "metadata": {},
   "outputs": [
    {
     "name": "stdout",
     "output_type": "stream",
     "text": [
      "[572, 465, 536, 584, 641, 404, 535, 616, 623, 521, 516, 512, 549, 427, 568, 482, 584, 543, 507, 622, 622, 537, 670, 543, 603, 532, 620, 570, 428, 501, 497, 494, 472, 559, 446, 543, 612, 523, 473, 413, 425, 518, 651, 524, 567, 690, 565, 583, 578, 429]\n",
      "Promedio: 539.9\n"
     ]
    }
   ],
   "source": [
    "soluciones = list()\n",
    "suma = 0\n",
    "for i in range(50):\n",
    "    solucion = algoritmo_genetico_cuadrado(cuadrado10,3,min,100,50,0.8,0.05)[1]\n",
    "    suma += solucion\n",
    "    soluciones.append(solucion)\n",
    "print(soluciones)\n",
    "print(\"Promedio: \" + str(suma/50))"
   ]
  },
  {
   "cell_type": "code",
   "execution_count": 161,
   "metadata": {},
   "outputs": [
    {
     "name": "stdout",
     "output_type": "stream",
     "text": [
      "[500, 302, 413, 405, 461, 454, 355, 504, 294, 466, 481, 319, 353, 377, 440, 307, 384, 527, 375, 345, 301, 367, 304, 270, 382, 495, 523, 391, 432, 306, 292, 402, 385, 418, 284, 351, 368, 418, 341, 382, 471, 327, 350, 445, 484, 365, 348, 613, 452, 437]\n",
      "Promedio: 395.32\n"
     ]
    }
   ],
   "source": [
    "soluciones = list()\n",
    "suma = 0\n",
    "for i in range(50):\n",
    "    solucion = algoritmo_genetico_cuadrado(cuadrado10,3,min,200,100,0.8,0.05)[1]\n",
    "    suma += solucion\n",
    "    soluciones.append(solucion)\n",
    "print(soluciones)\n",
    "print(\"Promedio: \" + str(suma/50))"
   ]
  },
  {
   "cell_type": "code",
   "execution_count": 159,
   "metadata": {},
   "outputs": [
    {
     "name": "stdout",
     "output_type": "stream",
     "text": [
      "[418, 418, 418, 418, 418, 418, 418, 418, 418, 418, 418, 418, 418, 418, 418, 418, 418, 418, 418, 418, 418, 418, 418, 418, 418, 418, 418, 418, 418, 418, 418, 418, 418, 418, 418, 418, 418, 418, 418, 418, 418, 418, 418, 418, 418, 418, 418, 418, 418, 418]\n",
      "Promedio: 418.0\n"
     ]
    }
   ],
   "source": [
    "soluciones = list()\n",
    "suma = 0\n",
    "for i in range(50):\n",
    "    solucio = algoritmo_genetico_cuadrado(cuadrado3,10,min,100,50,0.8,0.05)[1]\n",
    "    suma += solucion\n",
    "    soluciones.append(solucion)\n",
    "print(soluciones)\n",
    "print(\"Promedio: \" + str(suma/50))"
   ]
  },
  {
   "cell_type": "code",
   "execution_count": 160,
   "metadata": {},
   "outputs": [
    {
     "name": "stdout",
     "output_type": "stream",
     "text": [
      "[487, 482, 323, 458, 510, 470, 426, 524, 487, 551, 510, 537, 379, 471, 376, 671, 575, 511, 429, 450, 634, 453, 422, 471, 533, 469, 367, 436, 453, 500, 407, 515, 450, 321, 525, 571, 329, 334, 490, 594, 382, 379, 465, 438, 725, 438, 493, 509, 381, 593]\n",
      "Promedio: 474.08\n"
     ]
    }
   ],
   "source": [
    "soluciones = list()\n",
    "suma = 0\n",
    "for i in range(50):\n",
    "    solucion = algoritmo_genetico_cuadrado(cuadrado10,3,min,100,50,0.8,0.2)[1]\n",
    "    suma += solucion\n",
    "    soluciones.append(solucion)\n",
    "print(soluciones)\n",
    "print(\"Promedio: \" + str(suma/50))"
   ]
  },
  {
   "cell_type": "markdown",
   "metadata": {},
   "source": [
    "Se puede apreciar que a mayor dimensión del cuadrado, más se nos complica la solución, en el sentido de que el promedio se nos aleja bastante de lo buscado. Esto puede deberse a que las pruebas se han hecho con un número de generaciones y de población bajo, ya que de lo contrario el algoritmo tardaría demasiado. \n",
    "\n",
    "Además hay que tener en cuenta la naturaleza del problema, en el hecho de que que una fila/columna/diagonal no sea correcta afecta a todas las demás, dando lugar a que el valor de fitness sea elevado muy fácilmente. Por esto mismo, además cualquier mutación o cruce afectarán en gran medida este valor."
   ]
  },
  {
   "cell_type": "markdown",
   "metadata": {},
   "source": [
    "### Ejercicio 9\n",
    "Se quiere organizar una **jornada de la informática** en la Facultad. \n",
    "El Vicedecano necesita organizar el horario y la asignación de profesores para n actividades temáticas, a_1, . . . , a_n.  Dispone de m profesores p_1, . . . , p_m con distintos niveles de cualificación. \n",
    "No todos los profesores tienen los conocimientos para encargarse de todas las actividades. \n",
    "El mismo profesor pi puede encargarse de distintas actividades (que se le remunerarán convenientemente) pero no podemos asignar al mismo profesor dos actividades que se impartan simultáneamente. \n",
    "Cada actividad puede durar un tiempo diferente dependiendo del profesor que la organice. Si un profesor p_i puede realizar la actividad a_j, entonces denotaremos por t_ij el tiempo que pi tardará en realizar la actividad a_j. \n",
    "Existen dependencias entre los contenidos de las actividades lo que obliga a incluir algunas restricciones temporales, es decir, algunas actividades hay que realizarlas cuando otras ya hayan terminado. Esto es, tenemos un conjunto de restricciones que indican que ai se debe realizar antes de a_j. Por ejemplo, El taller de iniciación a Scratch se debe realizar antes que el laboratorio de desarrollo de videojuegos con Scratch.   \n",
    "Se pide dar una solución al problema de decidir, para cada actividad, qué profesor la realizará y en qué momento se debe ofertar la actividad para que, al ﬁnal de la jornada, se puedan realizar todas las actividades con cuidado de cumplir los prerrequisitos (restricciones temporales) y el conjunto de actividades se realice en el menor tiempo posible."
   ]
  },
  {
   "cell_type": "markdown",
   "metadata": {},
   "source": [
    "### Representación del problema"
   ]
  },
  {
   "cell_type": "markdown",
   "metadata": {},
   "source": [
    "Para la representación del problema, lo resolveremos con un algoritmo genético, usando valores enteros en lugar de codificación 0-1. Esto nos simplifica los cáluclos en el problema, ya que no hay mucha diferencia tanto en el cruce como en las mutaciones el hacerlo con una codificación u otra. Por ejemplo, es muy similar cambiar un bit aleatorio de 0 a 1 que cambiar de forma aleatoria el profesor asignado a una actividad (también en ambos casos habría que comprobar que el nuevo profesor puede realizar la actividad). \n",
    "\n",
    "Podemos considerar que un cromosoma está dividido en dos partes, ambas de longitud igual al número de actividades. La primera representa para actividad el profesor que se encarga de ella. La segunda representa el orden en el que se deben realizar las actividades sin romper ninguna de las restricciones de dependencia. Así tenemos un cromosoma cuyo tamaño es el doble de la cantidad de actividades a repartir. De este modo haremos que todas las operaciones de cruce y mutación solo afecten a la primera mitad de la cadena, por lo que siempre darán lugar a un individuo válido (ya que el orden de las actividades seguirá siendo válido). \n",
    "\n",
    "Por ejemplo, para n=4 y m=3 podemos tener el cromosoma: [0,1,0,2,3,1,0,2]\n",
    "\n",
    "    - La tarea 0 la realiza la persona 0.\n",
    "    - La tarea 1 la realiza la persona 1.\n",
    "    - La tarea 2 la realiza la persona 0.\n",
    "    - La tarea 3 la realiza la persona 2.\n",
    "    - Las tareas se realizan en orden 3 -> 1 -> 0 -> 2\n",
    "                 "
   ]
  },
  {
   "cell_type": "code",
   "execution_count": 24,
   "metadata": {},
   "outputs": [],
   "source": [
    "# Definimos una clase para los datos de la entrada.\n",
    "# - n_actividades: número de actividades a realizar.\n",
    "# - n_profesores: número de profesores que se van a repartir las actividades.\n",
    "# - cualif_actividades: lista de listas de profesores que pueden realizar cada actividad.\n",
    "# - tiempo_actividades: lista de listas en la que para cada profesor se indica el tiempo que tarda en realizar cada actividad.\n",
    "#   (Por simplicidad, vamos a suponer que aunque un profesor no esté cualificado para realizar una actividad, tiene igualmente \n",
    "#   un tiempo asignado para ella).\n",
    "# - dependencia_actividades: lista de listas en la que para cada actividad se indica las actividades que deben realizarse \n",
    "#   después de ella (como si fuera la lista de adyacencia de un grafo).\n",
    "\n",
    "class DatosActividades():\n",
    "    def __init__(self, n_actividades, n_profesores, cualif_actividades, tiempo_actividades, dependencia_actividades):\n",
    "        self.n_actividades = n_actividades\n",
    "        self.n_profesores = n_profesores\n",
    "        self.cualif_actividades = cualif_actividades\n",
    "        self.tiempo_actividades = tiempo_actividades\n",
    "        self.dependencia_actividades = dependencia_actividades\n",
    "    \n",
    "class ProblemaGenetico(object):\n",
    "        def __init__(self, fun_dec, fun_muta , fun_cruza, fun_fitness, datos_actividades):\n",
    "            self.fun_dec = fun_dec\n",
    "            self.fun_cruza = fun_cruza\n",
    "            self.fun_muta = fun_muta\n",
    "            self.fun_fitness = fun_fitness\n",
    "            self.datos_actividades = datos_actividades\n",
    "            \"\"\"Constructor de la clase\"\"\"\n",
    "                \n",
    "        def decodifica(self, genotipo):\n",
    "            \"\"\"Devuelve el fenotipo a partir del genotipo\"\"\"\n",
    "            fenotipo = self.fun_dec(genotipo)\n",
    "            return fenotipo\n",
    "        def muta(self, cromosoma,prob):\n",
    "            \"\"\"Devuelve el cromosoma mutado\"\"\"   \n",
    "            mutante = self.fun_muta(cromosoma,prob,self.datos_actividades.cualif_actividades)\n",
    "            return mutante\n",
    "        def cruza(self, cromosoma1, cromosoma2):         \n",
    "            \"\"\"Devuelve el cruce de un par de cromosomas\"\"\"\n",
    "            cruce = self.fun_cruza(cromosoma1,cromosoma2)\n",
    "            return cruce \n",
    "        def fitness(self, cromosoma):    \n",
    "            \"\"\"Función de valoración\"\"\"\n",
    "            valoracion = self.fun_fitness(cromosoma, self.datos_actividades.dependencia_actividades, self.datos_actividades.tiempo_actividades)\n",
    "            return valoracion"
   ]
  },
  {
   "cell_type": "code",
   "execution_count": 25,
   "metadata": {},
   "outputs": [],
   "source": [
    "import random\n",
    "# Para obtener el orden en el que se deben realizar las actividades, hacemos un topological sort (Algoritmo de Kahn).\n",
    "def topological_sort(dependencia_actividades):\n",
    "    queue = list()\n",
    "    in_degree = list()\n",
    "    actividades_ordenadas = list()\n",
    "    for i in range(len(dependencia_actividades)):\n",
    "        in_degree.append(0)\n",
    "    \n",
    "    for i in range(len(dependencia_actividades)):\n",
    "        for j in dependencia_actividades[i]:\n",
    "            in_degree[j] += 1\n",
    "            \n",
    "    for i in range(len(in_degree)):\n",
    "        if in_degree[i] == 0:\n",
    "            queue.append(i)\n",
    "    \n",
    "    while queue:\n",
    "        #Extraemos un elemento aleatorio de la cola para tener distintas soluciones en cada ejecución\n",
    "        random_node = random.randint(0,len(queue)-1)\n",
    "        a = queue.pop(random_node)\n",
    "        actividades_ordenadas.append(a)\n",
    "        for i in dependencia_actividades[a]:\n",
    "            in_degree[i] -= 1\n",
    "            if in_degree[i] == 0:\n",
    "                queue.append(i)\n",
    "    \n",
    "    if len(actividades_ordenadas) != len(dependencia_actividades):\n",
    "        print(\"Hay un ciclo en la dependencia de tareas\")\n",
    "    \n",
    "    return actividades_ordenadas"
   ]
  },
  {
   "cell_type": "code",
   "execution_count": 26,
   "metadata": {},
   "outputs": [
    {
     "name": "stdout",
     "output_type": "stream",
     "text": [
      "[5, 4, 2, 0, 3, 1]\n",
      "[4, 5, 2, 0, 3, 1]\n",
      "[5, 2, 4, 3, 1, 0]\n",
      "[4, 5, 0, 2, 3, 1]\n",
      "[5, 4, 2, 0, 3, 1]\n",
      "[4, 5, 0, 2, 3, 1]\n",
      "[5, 4, 0, 2, 3, 1]\n",
      "[5, 4, 2, 0, 3, 1]\n",
      "[5, 2, 4, 0, 3, 1]\n",
      "[5, 4, 2, 0, 3, 1]\n",
      "[4, 5, 2, 3, 1, 0]\n",
      "[5, 2, 3, 4, 0, 1]\n",
      "[5, 4, 0, 2, 3, 1]\n",
      "[4, 5, 2, 3, 1, 0]\n",
      "[5, 2, 3, 4, 0, 1]\n",
      "[5, 4, 2, 0, 3, 1]\n",
      "[4, 5, 2, 3, 0, 1]\n",
      "[4, 5, 0, 2, 3, 1]\n",
      "[5, 2, 3, 4, 1, 0]\n",
      "[4, 5, 2, 0, 3, 1]\n",
      "[5, 4, 0, 2, 3, 1]\n",
      "[4, 5, 0, 2, 3, 1]\n",
      "[4, 5, 0, 2, 3, 1]\n",
      "[4, 5, 2, 3, 0, 1]\n",
      "[5, 4, 0, 2, 3, 1]\n",
      "[5, 2, 4, 0, 3, 1]\n",
      "[5, 2, 4, 3, 0, 1]\n",
      "[4, 5, 2, 3, 1, 0]\n",
      "[5, 4, 0, 2, 3, 1]\n",
      "[4, 5, 0, 2, 3, 1]\n",
      "[5, 2, 3, 4, 1, 0]\n",
      "[4, 5, 2, 0, 3, 1]\n",
      "[5, 4, 0, 2, 3, 1]\n",
      "[5, 2, 3, 4, 0, 1]\n",
      "[5, 4, 2, 3, 0, 1]\n",
      "[5, 4, 2, 3, 1, 0]\n",
      "[4, 5, 0, 2, 3, 1]\n",
      "[4, 5, 0, 2, 3, 1]\n",
      "[5, 2, 3, 4, 0, 1]\n",
      "[5, 4, 2, 0, 3, 1]\n",
      "[4, 5, 0, 2, 3, 1]\n",
      "[5, 2, 4, 0, 3, 1]\n",
      "[4, 5, 2, 3, 0, 1]\n",
      "[4, 5, 0, 2, 3, 1]\n",
      "[5, 4, 2, 0, 3, 1]\n",
      "[5, 2, 3, 4, 0, 1]\n",
      "[5, 4, 2, 0, 3, 1]\n",
      "[5, 2, 4, 0, 3, 1]\n",
      "[5, 2, 3, 4, 0, 1]\n",
      "[4, 5, 0, 2, 3, 1]\n"
     ]
    }
   ],
   "source": [
    "sort_test = [[],[],[3],[1],[0,1],[2,0]]\n",
    "for i in range(50):\n",
    "    print(topological_sort(sort_test))"
   ]
  },
  {
   "cell_type": "markdown",
   "metadata": {},
   "source": [
    "### Definición de función de cruce, mutación y fitness"
   ]
  },
  {
   "cell_type": "markdown",
   "metadata": {},
   "source": [
    "Para el cruce, elegimos un punto de corte aleatorio y a partir de ahí intercambiamos las secciones entre los dos padres. Pueso que ya tenemos el orden de las tareas establecido, esto no afectará a ninguna de las restricciones de orden.\n",
    "\n",
    "Para la mutación, escogemos de forma aleatoria una actividad. Después cambiamos la persona asignada por otra cualificada para esa tarea, elegida también de forma aleatoria y distinta de la que estaba asignada inicialmente.\n",
    "\n",
    "La función de fitness es el tiempo en el que acaba de realizarse la última actividad dada la distribución y orden en el que se realizan. Inicialmente todas están en el instante 0, y el tiempo que tarda una actividad es el tiempo acumulado más su duración."
   ]
  },
  {
   "cell_type": "code",
   "execution_count": 27,
   "metadata": {},
   "outputs": [],
   "source": [
    "def fun_cruza_actividades(cromosoma1, cromosoma2):\n",
    "    l = len(cromosoma1)\n",
    "    ## Entre 1 y l-1 para que el corte no nos dé secciones vacías\n",
    "    c = random.randint(1,l//2-1)\n",
    "    cruce1 = cromosoma1[0:c] + cromosoma2[c:l//2] + cromosoma1[l//2:l]\n",
    "    cruce2 = cromosoma2[0:c] + cromosoma1[c:l//2] + cromosoma2[l//2:l]\n",
    "    \n",
    "    return [cruce1,cruce2]\n",
    "\n",
    "def muta_actividades(cromosoma, prob, cualif_actividades):\n",
    "    \"\"\"Elige una actividad al azar y cambia la persona asignada por otra aleatoria\"\"\"\n",
    "    l = len(cromosoma)//2\n",
    "    c = random.randint(0,l-1)\n",
    "    if prob > random.uniform(0,1):\n",
    "        #Elige una persona aleatoria de la lista de cualificados para esa actividad\n",
    "        cromosoma[c] =  random.choice(cualif_actividades[c])\n",
    "        \n",
    "    return cromosoma\n",
    "    \n",
    "def fitness_actividades(cromosoma, dependencia_actividades, tiempo_actividades):\n",
    "    tiempo_max = 0\n",
    "    tiempos_actividades = list()\n",
    "    l = len(cromosoma)//2\n",
    "    for i in range(l):\n",
    "        tiempos_actividades.append(0)\n",
    "    dependencia_actividades_rev = [[] for i in range(l)]\n",
    "    \n",
    "    for i in range(l):\n",
    "        for j in range(len(dependencia_actividades[i])):\n",
    "            dependencia_actividades_rev[dependencia_actividades[i][j]].append(i)\n",
    "            \n",
    "    for i in range(l):\n",
    "        cont = i - 1\n",
    "        while cont >= 0 and cromosoma[i] != cromosoma[cont]:\n",
    "            cont -= 1\n",
    "        if cont >= 0:\n",
    "            dependencia_actividades_rev[cromosoma[l+i]].append(cromosoma[l+cont])\n",
    "        \n",
    "    for i in range(l):\n",
    "        actividad_actual = cromosoma[l+i]\n",
    "        for j in range(len(dependencia_actividades_rev[actividad_actual])):\n",
    "            tiempos_actividades[actividad_actual] = max(tiempos_actividades[actividad_actual], tiempos_actividades[dependencia_actividades_rev[actividad_actual][j]])\n",
    "        tiempos_actividades[actividad_actual] += tiempo_actividades[cromosoma[i]][actividad_actual]\n",
    "        tiempo_max = max(tiempo_max, tiempos_actividades[actividad_actual])\n",
    "        \n",
    "    return tiempo_max"
   ]
  },
  {
   "cell_type": "markdown",
   "metadata": {},
   "source": [
    "### Definimos la función de población inicial, decodificación y algoritmo genético"
   ]
  },
  {
   "cell_type": "code",
   "execution_count": 34,
   "metadata": {},
   "outputs": [],
   "source": [
    "def poblacion_inicial_actividades(problema_genetico, size):\n",
    "    l = list()\n",
    "    for i in range(size):\n",
    "        n = problema_genetico.datos_actividades.n_actividades\n",
    "        m = problema_genetico.datos_actividades.n_profesores\n",
    "        random_profesores = list()\n",
    "        for i in range(n):\n",
    "            random_profesores.append(random.choice(problema_genetico.datos_actividades.cualif_actividades[i]))\n",
    "        random_orden_actividades = topological_sort(problema_genetico.datos_actividades.dependencia_actividades)\n",
    "        indv = random_profesores + random_orden_actividades\n",
    "        l.append(indv)\n",
    "        \n",
    "    return l\n",
    "\n",
    "def decodifica_actividades(cromosoma):\n",
    "    \"\"\"Con nuestra representación no hay que hacer nada\"\"\"\n",
    "    return cromosoma\n",
    "\n",
    "def cruza_padres(problema_genetico,padres):\n",
    "    l = list()\n",
    "    for i in range(len(padres)//2):\n",
    "        res_cruce = problema_genetico.cruza(padres[2*i],padres[2*i+1])\n",
    "        l.append(res_cruce[0])\n",
    "        l.append(res_cruce[1])\n",
    "    return l\n",
    "\n",
    "def muta_individuos(problema_genetico, poblacion, prob):\n",
    "    # hay que llamar a  problema_genetico.muta(x,prob) para todos los individuos de la poblacion.\n",
    "    l = list()\n",
    "    for i in range(len(poblacion)):\n",
    "        l.append(problema_genetico.muta(poblacion[i],prob))\n",
    "        \n",
    "    return l\n",
    "\n",
    "def seleccion_por_torneo(problema_genetico, poblacion, n, k, opt):\n",
    "    \"\"\"Selección por torneo de n individuos de una población. Siendo k el nº de participantes\n",
    "        y opt la función max o min.\"\"\"\n",
    "    seleccionados = []\n",
    "    for i in range(n):\n",
    "        participantes = random.sample(poblacion,k)\n",
    "        seleccionado = opt(participantes, key=problema_genetico.fitness)\n",
    "        opt(poblacion, key=problema_genetico.fitness)\n",
    "        seleccionados.append(seleccionado)\n",
    "        # poblacion.remove(seleccionado)\n",
    "    return seleccionados\n",
    "\n",
    "def nueva_generacion(problema_genetico, k,opt, poblacion, n_padres, n_directos, prob_mutar):\n",
    "    padres2 = seleccion_por_torneo(problema_genetico, poblacion, n_directos, k,opt) \n",
    "    padres1 = seleccion_por_torneo(problema_genetico, poblacion, n_padres , k, opt)\n",
    "    cruces =  cruza_padres(problema_genetico,padres1)\n",
    "    generacion = padres2+cruces\n",
    "    resultado_mutaciones = muta_individuos(problema_genetico, generacion, prob_mutar)\n",
    "    return resultado_mutaciones\n",
    "\n",
    "def algoritmo_genetico_actividades(problema_genetico,k,opt,ngen,size,prop_cruces,prob_mutar):\n",
    "    poblacion= poblacion_inicial_actividades(problema_genetico,size)\n",
    "    n_padres=round(size*prop_cruces)\n",
    "    n_padres= int (n_padres if n_padres%2==0 else n_padres-1)\n",
    "    n_directos = size-n_padres\n",
    "    for _ in range(ngen):\n",
    "        poblacion= nueva_generacion(problema_genetico,k,opt,poblacion,n_padres, n_directos,prob_mutar)\n",
    "\n",
    "    mejor_cr= opt(poblacion, key=problema_genetico.fitness)\n",
    "    mejor=problema_genetico.decodifica(mejor_cr)\n",
    "    return (mejor,problema_genetico.fitness(mejor_cr)) "
   ]
  },
  {
   "cell_type": "code",
   "execution_count": 35,
   "metadata": {},
   "outputs": [
    {
     "name": "stdout",
     "output_type": "stream",
     "text": [
      "Tiempo realización actividades:\n",
      "[[59, 87, 61, 94, 75, 54, 82, 94], [91, 59, 100, 82, 93, 65, 83, 54], [84, 89, 52, 86, 93, 96, 67, 53]]\n",
      "Cualificación para realización actividades:\n",
      "[[0, 1], [1], [0], [0, 1], [2], [2], [2], [2]]\n",
      "Dependencia entre actividades:\n",
      "[[2, 5, 3, 4, 6], [2, 6, 3, 5, 4], [4, 5, 6, 3], [5], [], [], [], []]\n"
     ]
    }
   ],
   "source": [
    "import random\n",
    "\n",
    "n = 8\n",
    "m = 3\n",
    "\n",
    "#Tiempo de actividades\n",
    "tiempo_actividades = list()\n",
    "for i in range(m):\n",
    "    t_actividad = list()\n",
    "    for j in range(n):\n",
    "        t_actividad.append(random.randint(50,100))\n",
    "\n",
    "    tiempo_actividades.append(t_actividad)\n",
    "\n",
    "print(\"Tiempo realización actividades:\")\n",
    "print(tiempo_actividades)\n",
    "    \n",
    "#Personas que pueden realizar cada actividad\n",
    "cualif_actividades = list()\n",
    "for i in range(n):\n",
    "    c_actividad = random.sample(list(range(m)),random.randint(1,m-1))\n",
    "    cualif_actividades.append(c_actividad)\n",
    "\n",
    "print(\"Cualificación para realización actividades:\")    \n",
    "print(cualif_actividades)\n",
    "\n",
    "#Dependencia entre actividades\n",
    "dependencia_actividades = list()\n",
    "for i in range(n-1):\n",
    "    d_actividad = random.sample(list(range(i+1,n-1)),random.randint(0,n-1-i-1))    \n",
    "    dependencia_actividades.append(d_actividad)\n",
    "dependencia_actividades.append([])\n",
    "\n",
    "print(\"Dependencia entre actividades:\")\n",
    "print(dependencia_actividades)\n",
    "\n",
    "datos = DatosActividades(n, m, cualif_actividades, tiempo_actividades, dependencia_actividades)\n",
    "\n",
    "problema_actividades = ProblemaGenetico(decodifica_actividades, muta_actividades, fun_cruza_actividades, fitness_actividades, datos)\n"
   ]
  },
  {
   "cell_type": "code",
   "execution_count": 36,
   "metadata": {},
   "outputs": [
    {
     "data": {
      "text/plain": [
       "([0, 1, 0, 1, 2, 2, 2, 2, 0, 1, 2, 6, 7, 3, 5, 4], 395)"
      ]
     },
     "execution_count": 36,
     "metadata": {},
     "output_type": "execute_result"
    }
   ],
   "source": [
    "algoritmo_genetico_actividades(problema_actividades,3,min,100,50,0.8,0.05)"
   ]
  },
  {
   "cell_type": "code",
   "execution_count": 37,
   "metadata": {},
   "outputs": [
    {
     "name": "stdout",
     "output_type": "stream",
     "text": [
      "([0, 1, 0, 0, 2, 2, 2, 2, 0, 1, 2, 6, 3, 5, 4, 7], 448)\n",
      "([0, 1, 0, 1, 2, 2, 2, 2, 0, 1, 2, 4, 6, 3, 7, 5], 422)\n",
      "([0, 1, 0, 1, 2, 2, 2, 2, 0, 1, 2, 4, 7, 6, 3, 5], 369)\n",
      "([0, 1, 0, 1, 2, 2, 2, 2, 1, 0, 2, 4, 7, 6, 3, 5], 401)\n",
      "([0, 1, 0, 0, 2, 2, 2, 2, 0, 1, 2, 4, 6, 7, 3, 5], 422)\n",
      "([1, 1, 0, 0, 2, 2, 2, 2, 1, 7, 0, 2, 6, 4, 3, 5], 462)\n",
      "([0, 1, 0, 1, 2, 2, 2, 2, 1, 0, 2, 3, 4, 5, 7, 6], 461)\n",
      "([0, 1, 0, 0, 2, 2, 2, 2, 1, 0, 2, 4, 7, 3, 5, 6], 401)\n",
      "([0, 1, 0, 0, 2, 2, 2, 2, 1, 0, 2, 4, 7, 3, 6, 5], 401)\n",
      "([0, 1, 0, 0, 2, 2, 2, 2, 0, 1, 2, 4, 7, 6, 3, 5], 369)\n",
      "([0, 1, 0, 1, 2, 2, 2, 2, 0, 1, 2, 4, 3, 6, 5, 7], 422)\n",
      "([0, 1, 0, 0, 2, 2, 2, 2, 1, 0, 2, 6, 7, 3, 4, 5], 427)\n",
      "([0, 1, 0, 1, 2, 2, 2, 2, 0, 1, 2, 7, 3, 5, 6, 4], 462)\n",
      "([0, 1, 0, 1, 2, 2, 2, 2, 1, 0, 2, 4, 7, 3, 6, 5], 401)\n",
      "([0, 1, 0, 0, 2, 2, 2, 2, 0, 1, 2, 3, 4, 7, 6, 5], 429)\n",
      "([1, 1, 0, 0, 2, 2, 2, 2, 1, 7, 0, 2, 3, 6, 4, 5], 462)\n",
      "([0, 1, 0, 0, 2, 2, 2, 2, 0, 1, 2, 4, 7, 6, 3, 5], 369)\n",
      "([0, 1, 0, 1, 2, 2, 2, 2, 0, 1, 2, 3, 7, 5, 4, 6], 458)\n",
      "([0, 1, 0, 0, 2, 2, 2, 2, 0, 1, 2, 4, 7, 3, 5, 6], 369)\n",
      "([0, 1, 0, 1, 2, 2, 2, 2, 1, 0, 2, 3, 4, 6, 7, 5], 461)\n",
      "([0, 1, 0, 1, 2, 2, 2, 2, 1, 0, 2, 4, 7, 6, 3, 5], 401)\n",
      "([0, 1, 0, 0, 2, 2, 2, 2, 0, 1, 2, 3, 6, 4, 7, 5], 429)\n",
      "([0, 1, 0, 1, 2, 2, 2, 2, 0, 1, 2, 3, 4, 5, 6, 7], 429)\n",
      "([0, 1, 0, 0, 2, 2, 2, 2, 0, 1, 2, 6, 7, 4, 3, 5], 395)\n",
      "([0, 1, 0, 0, 2, 2, 2, 2, 1, 0, 2, 4, 7, 3, 6, 5], 401)\n",
      "([0, 1, 0, 0, 2, 2, 2, 2, 1, 0, 2, 4, 7, 3, 5, 6], 401)\n",
      "([0, 1, 0, 1, 2, 2, 2, 2, 0, 1, 2, 4, 6, 3, 5, 7], 422)\n",
      "([0, 1, 0, 1, 2, 2, 2, 2, 0, 1, 2, 4, 6, 7, 3, 5], 422)\n",
      "([0, 1, 0, 1, 2, 2, 2, 2, 0, 1, 2, 3, 4, 5, 6, 7], 429)\n",
      "([0, 1, 0, 1, 2, 2, 2, 2, 0, 1, 2, 3, 4, 5, 7, 6], 429)\n",
      "([0, 1, 0, 0, 2, 2, 2, 2, 1, 0, 2, 3, 4, 6, 5, 7], 461)\n",
      "([0, 1, 0, 1, 2, 2, 2, 2, 0, 1, 2, 4, 7, 6, 3, 5], 369)\n",
      "([0, 1, 0, 0, 2, 2, 2, 2, 0, 1, 2, 3, 4, 6, 7, 5], 429)\n",
      "([0, 1, 0, 0, 2, 2, 2, 2, 0, 1, 2, 3, 7, 6, 4, 5], 376)\n",
      "([0, 1, 0, 0, 2, 2, 2, 2, 1, 0, 2, 3, 7, 4, 6, 5], 408)\n",
      "([0, 1, 0, 1, 2, 2, 2, 2, 1, 0, 2, 4, 7, 6, 3, 5], 401)\n",
      "([0, 1, 0, 1, 2, 2, 2, 2, 0, 1, 2, 6, 3, 7, 4, 5], 448)\n",
      "([0, 1, 0, 1, 2, 2, 2, 2, 0, 1, 2, 6, 7, 4, 3, 5], 395)\n",
      "([0, 1, 0, 0, 2, 2, 2, 2, 0, 1, 2, 4, 7, 6, 3, 5], 369)\n",
      "([0, 1, 0, 0, 2, 2, 2, 2, 0, 1, 2, 6, 4, 3, 7, 5], 448)\n",
      "([0, 1, 0, 0, 2, 2, 2, 2, 0, 1, 2, 7, 3, 5, 6, 4], 462)\n",
      "([1, 1, 0, 0, 2, 2, 2, 2, 1, 7, 0, 2, 6, 3, 5, 4], 462)\n",
      "([0, 1, 0, 1, 2, 2, 2, 2, 0, 1, 2, 4, 6, 7, 3, 5], 422)\n",
      "([0, 1, 0, 0, 2, 2, 2, 2, 0, 1, 2, 6, 7, 4, 3, 5], 395)\n",
      "([0, 1, 0, 0, 2, 2, 2, 2, 1, 0, 2, 4, 7, 3, 5, 6], 401)\n",
      "([0, 1, 0, 1, 2, 2, 2, 2, 0, 1, 2, 6, 7, 3, 4, 5], 395)\n",
      "([0, 1, 0, 1, 2, 2, 2, 2, 1, 0, 2, 4, 7, 3, 5, 6], 401)\n",
      "([0, 1, 0, 0, 2, 2, 2, 2, 0, 1, 2, 4, 7, 3, 6, 5], 369)\n",
      "([0, 1, 0, 1, 2, 2, 2, 2, 0, 1, 2, 6, 7, 3, 5, 4], 395)\n",
      "([0, 1, 0, 0, 2, 2, 2, 2, 1, 0, 2, 4, 7, 6, 3, 5], 401)\n"
     ]
    }
   ],
   "source": [
    "for i in range(50):\n",
    "    solucion = algoritmo_genetico_actividades(problema_actividades,3,min,100,50,0.8,0.05)\n",
    "    print(solucion)"
   ]
  },
  {
   "cell_type": "markdown",
   "metadata": {},
   "source": [
    "### Comentarios"
   ]
  },
  {
   "cell_type": "markdown",
   "metadata": {},
   "source": [
    "Puesto que ya se han hecho muchas pruebas del algoritmo genético variando parámetros en los problemas de la mochila y del cuadrado mágico, no vamos a entrar de nuevo en tanto detalle. Un aspecto interesante de este problema es el cómo afecta al resultado no solo la asignación de tareas, sino también el el orden en que se realicen. Por esto, como para cada individuo de la población inicial se le asocia una ordenación válida aleatoria, tendremos individuos muy variados, que aunque coincidan en asignación (o en ordenación), pueden diferir en la ordenación (o asignación respectivamente), dando lugar a un coste distinto."
   ]
  },
  {
   "cell_type": "code",
   "execution_count": null,
   "metadata": {},
   "outputs": [],
   "source": []
  },
  {
   "cell_type": "code",
   "execution_count": null,
   "metadata": {},
   "outputs": [],
   "source": []
  }
 ],
 "metadata": {
  "kernelspec": {
   "display_name": "Python 3",
   "language": "python",
   "name": "python3"
  },
  "language_info": {
   "codemirror_mode": {
    "name": "ipython",
    "version": 3
   },
   "file_extension": ".py",
   "mimetype": "text/x-python",
   "name": "python",
   "nbconvert_exporter": "python",
   "pygments_lexer": "ipython3",
   "version": "3.8.3"
  }
 },
 "nbformat": 4,
 "nbformat_minor": 2
}
