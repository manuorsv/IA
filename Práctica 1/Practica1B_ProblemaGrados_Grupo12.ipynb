{
 "cells": [
  {
   "cell_type": "markdown",
   "metadata": {},
   "source": [
    "Grupo 12\n",
    "\n",
    "Francisco de Borja Lozano del Moral\n",
    "\n",
    "Manuel Ortega Salvador"
   ]
  },
  {
   "cell_type": "markdown",
   "metadata": {},
   "source": [
    "# Código para el problema 4 - Grados de separación entre actores\n",
    "## Definición del problema\n",
    "Explicamos la elección de la representación de estados:\n",
    "Únicamente necesitamos conocer el id de la persona, ya que a raíz de ese id podemos obtener el id de las películas en las que participó, y con ello todos los actores con los que ha trabajado (neighbors_for_person), obteniendo así el grafo de exploración. De esta manera los estados son los id de los actores y las acciones son, de nuevo, los vecinos de los actores.\n",
    "\n",
    "De esta manera, el problema se vuelve la búsqueda del camino más corto entre dos nodos en un grafo, donde cada arista tiene el mismo peso. Por esto, el algoritmo que más cuadra para este problema es Dijkstra's (breadth_first_graph_search). Va a haber ciclos por todo el grafo, luego cabe esperar que breadth_first_tree_search sea más lento y además, si no hay solución, se quede atascado.\n",
    "\n",
    "No hay ninguna razón para creer que depth_first_graph_search vaya a funcionar bien, ya que no solo queremos llegar al nodo buscado, también lograr el camino más corto, lo cual no tiene por que ser cierto ni para DFS ni para A* con heurísticas que el primer nodo camino al objetivo encontrado sea el óptimo. \n",
    "\n",
    "Con A* algunas heurísticas aseguran que se preserva la optimalidad de la primera solución encontrada, pero en este caso, no hay manera de estimar la distancia entre dos nodos del grafo de alguna manera que no requiera la exploración del grafo.\n",
    "\n",
    "Si lo que se quisiera fuera encontrar *cualquier* solución, entonces tendría sentido probar DFS o A*, con una heurística como la cantidad de películas hechas por el nodo, ya que los actores más activos son los que más probablemente han colaborado con otros actores.\n",
    "\n",
    "Pero esto no es lo que se ha pedido en este ejercicio, luego no vamos a explorar estas opciones."
   ]
  },
  {
   "cell_type": "markdown",
   "metadata": {},
   "source": [
    "### Ánalisis de la complejidad\n",
    "Resolveremos el problema empleando la búsqueda en anchura, puesto que queremos encontrar el camino más corto. Como sabemos, tiene una complejidad O(r^p), siendo r el número de hijos para un nodo y p la profundidad de la solución.\n",
    "\n",
    "El caso mejor sería encontrar la solución a profundidad 1, luego sería lineal respecto al número de hijos de la raíz."
   ]
  },
  {
   "cell_type": "code",
   "execution_count": 1,
   "metadata": {},
   "outputs": [],
   "source": [
    "## grados.py\n",
    "import csv\n",
    "import sys\n",
    "\n",
    "# diccionario de nombres de personas con ids \n",
    "names = {}\n",
    "# diccionario: name, birth, movies (conjunto de movie_ids)\n",
    "people = {}\n",
    "# movie_ids to a dictionary of: title, year, stars (a set of person_ids)\n",
    "movies = {}\n",
    "\n",
    "def load_data(directory):\n",
    "    \"\"\"\n",
    "    Load data from CSV files into memory.\n",
    "    \"\"\"\n",
    "    # Cargamos el archivo people\n",
    "    with open(f\"{directory}/people.csv\", encoding=\"utf-8\") as f:\n",
    "        reader = csv.DictReader(f)\n",
    "        for row in reader:\n",
    "            people[row[\"id\"]] = {\n",
    "                \"name\": row[\"name\"],\n",
    "                \"birth\": row[\"birth\"],\n",
    "                \"movies\": set()\n",
    "            }\n",
    "            if row[\"name\"].lower() not in names:\n",
    "                names[row[\"name\"].lower()] = {row[\"id\"]}\n",
    "            else:\n",
    "                names[row[\"name\"].lower()].add(row[\"id\"])\n",
    "\n",
    "    # cargamos el archivo movies\n",
    "    with open(f\"{directory}/movies.csv\", encoding=\"utf-8\") as f:\n",
    "        reader = csv.DictReader(f)\n",
    "        for row in reader:\n",
    "            movies[row[\"id\"]] = {\n",
    "                \"title\": row[\"title\"],\n",
    "                \"year\": row[\"year\"],\n",
    "                \"stars\": set()\n",
    "            }\n",
    "\n",
    "    # cargamos el archivo stars\n",
    "    with open(f\"{directory}/stars.csv\", encoding=\"utf-8\") as f:\n",
    "        reader = csv.DictReader(f)\n",
    "        for row in reader:\n",
    "            try:\n",
    "                people[row[\"person_id\"]][\"movies\"].add(row[\"movie_id\"])\n",
    "                movies[row[\"movie_id\"]][\"stars\"].add(row[\"person_id\"])\n",
    "            except KeyError:\n",
    "                pass\n",
    "\n",
    "\n",
    "def shortest_path(source, target):\n",
    "    \"\"\"\n",
    "    Devuelve la lista de pares (movie_id, person_id) que conectan source y target o None si hay conexion.\n",
    "    \"\"\"\n",
    "    p = ProblemaGrado(source, target)\n",
    "    path = breadth_first_tree_search(p).solution()\n",
    "    \n",
    "    if len(path) == 0:\n",
    "        return None\n",
    "    else:\n",
    "        return path\n",
    "\n",
    "def person_id_for_name(name):\n",
    "    \"\"\"\n",
    "    Returns the IMDB id for a person's name,\n",
    "    resolving ambiguities as needed.\n",
    "    \"\"\"\n",
    "    person_ids = list(names.get(name.lower(), set()))\n",
    "    if len(person_ids) == 0:\n",
    "        return None\n",
    "    elif len(person_ids) > 1:\n",
    "        print(f\"Which '{name}'?\")\n",
    "        for person_id in person_ids:\n",
    "            person = people[person_id]\n",
    "            name = person[\"name\"]\n",
    "            birth = person[\"birth\"]\n",
    "            print(f\"ID: {person_id}, Name: {name}, Birth: {birth}\")\n",
    "        try:\n",
    "            person_id = input(\"Intended Person ID: \")\n",
    "            if person_id in person_ids:\n",
    "                return person_id\n",
    "        except ValueError:\n",
    "            pass\n",
    "        return None\n",
    "    else:\n",
    "        return person_ids[0]\n",
    "\n",
    "\n",
    "def neighbors_for_person(person_id):\n",
    "    \"\"\"\n",
    "    Returns (movie_id, person_id) pairs for people who starred with a given person.\n",
    "    \"\"\"\n",
    "    movie_ids = people[person_id][\"movies\"]\n",
    "    neighbors = set()\n",
    "    for movie_id in movie_ids:\n",
    "        for person_id in movies[movie_id][\"stars\"]:\n",
    "            neighbors.add((movie_id, person_id))\n",
    "    return neighbors"
   ]
  },
  {
   "cell_type": "code",
   "execution_count": 40,
   "metadata": {},
   "outputs": [],
   "source": [
    "#cargamos los datos\n",
    "load_data(\"small\")"
   ]
  },
  {
   "cell_type": "code",
   "execution_count": 41,
   "metadata": {},
   "outputs": [],
   "source": [
    "load_data(\"large\") "
   ]
  },
  {
   "cell_type": "code",
   "execution_count": 42,
   "metadata": {},
   "outputs": [],
   "source": [
    "## Tests\n",
    "# name=\"Emma Watson\"\n",
    "# person_id=person_id_for_name(name)\n",
    "# print(person_id_for_name(\"Daniel Radcliffe\"))\n",
    "# neighbors_for_person(person_id)"
   ]
  },
  {
   "cell_type": "markdown",
   "metadata": {},
   "source": [
    "## Definimos la clase Problema"
   ]
  },
  {
   "cell_type": "code",
   "execution_count": 45,
   "metadata": {},
   "outputs": [],
   "source": [
    "from search import *"
   ]
  },
  {
   "cell_type": "code",
   "execution_count": 46,
   "metadata": {},
   "outputs": [],
   "source": [
    "class ProblemaGrado(Problem):\n",
    "    def _init_(self, initial, goal):\n",
    "        Problem._init(self,initial,goal)\n",
    "    \n",
    "    def actions(self, state):\n",
    "        return neighbors_for_person(state)\n",
    "    \n",
    "    def result(self, state, action):\n",
    "        return action[1]\n",
    "    "
   ]
  },
  {
   "cell_type": "code",
   "execution_count": 47,
   "metadata": {},
   "outputs": [],
   "source": [
    "class Problema_con_Analizados(Problem):\n",
    "\n",
    "    \"\"\"Es un problema que se comporta exactamente igual que el que recibe al\n",
    "       inicializarse, y además incorpora unos atributos nuevos para almacenar el\n",
    "       número de nodos analizados durante la búsqueda. De esta manera, no\n",
    "       tenemos que modificar el código del algoritmo de búsqueda.\"\"\" \n",
    "         \n",
    "    def __init__(self, problem):\n",
    "        self.initial = problem.initial\n",
    "        self.problem = problem\n",
    "        self.analizados  = 0\n",
    "\n",
    "    def actions(self, estado):\n",
    "        return self.problem.actions(estado)\n",
    "\n",
    "    def result(self, estado, accion):\n",
    "        return self.problem.result(estado, accion)\n",
    "\n",
    "    def goal_test(self, estado):\n",
    "        self.analizados += 1\n",
    "        return self.problem.goal_test(estado)\n",
    "\n",
    "    def coste_de_aplicar_accion(self, estado, accion):\n",
    "        return self.problem.coste_de_aplicar_accion(estado,accion)\n",
    "    \n",
    "def resuelve_grado(source, target, algoritmo, h=None):\n",
    "    p_analizado = Problema_con_Analizados(ProblemaGrado(source, target))\n",
    "    if h: \n",
    "        sol= algoritmo(p_analizado,h).solution()\n",
    "    else: \n",
    "        sol= algoritmo(p_analizado).solution()\n",
    "    print(\"Solución: {0}\".format(sol))\n",
    "    print(\"Algoritmo: {0}\".format(algoritmo.__name__))\n",
    "    if h: \n",
    "        print(\"Heurística: {0}\".format(h.__name__))\n",
    "    else:\n",
    "        pass\n",
    "    print(\"Longitud de la solución: {0}. Nodos analizados: {1}\".format(len(sol),p_analizado.analizados))"
   ]
  },
  {
   "cell_type": "code",
   "execution_count": 48,
   "metadata": {},
   "outputs": [],
   "source": [
    "source = person_id_for_name(\"Emma Watson\")\n",
    "target = person_id_for_name(\"Jennifer Lawrence\")"
   ]
  },
  {
   "cell_type": "code",
   "execution_count": 63,
   "metadata": {},
   "outputs": [
    {
     "name": "stdout",
     "output_type": "stream",
     "text": [
      "Solución: [('373889', '705356'), ('1976009', '564215'), ('6565702', '2225369')]\n",
      "Algoritmo: breadth_first_graph_search\n",
      "Longitud de la solución: 3. Nodos analizados: 2226\n"
     ]
    }
   ],
   "source": [
    "resuelve_grado(source1,target1,breadth_first_graph_search)"
   ]
  },
  {
   "cell_type": "markdown",
   "metadata": {},
   "source": [
    "## Para ejecutar el main"
   ]
  },
  {
   "cell_type": "code",
   "execution_count": null,
   "metadata": {},
   "outputs": [
    {
     "name": "stdout",
     "output_type": "stream",
     "text": [
      "Nombre: Kevin Bacon\n",
      "Which 'Kevin Bacon'?\n",
      "ID: 9323132, Name: Kevin Bacon, Birth: \n",
      "ID: 102, Name: Kevin Bacon, Birth: 1958\n",
      "Intended Person ID: 102\n",
      "Nombre: Tommy Wiseau\n"
     ]
    }
   ],
   "source": [
    "source = person_id_for_name(input(\"Nombre: \"))\n",
    "if source is None:\n",
    "    sys.exit(\"Esa persona no se encuentra.\")\n",
    "target = person_id_for_name(input(\"Nombre: \"))\n",
    "if target is None:\n",
    "    sys.exit(\"Esa persona no se encuentra.\")\n",
    "\n",
    "path = shortest_path(source, target)\n",
    "\n",
    "if path is None:\n",
    "    print(\"No están conectados.\")\n",
    "else:\n",
    "    degrees = len(path)\n",
    "    print(f\"{degrees} grados de separacion.\")\n",
    "    path = [(None, source)] + path\n",
    "    for i in range(degrees):\n",
    "        person1 = people[path[i][1]][\"name\"]\n",
    "        person2 = people[path[i + 1][1]][\"name\"]\n",
    "        movie = movies[path[i + 1][0]][\"title\"]\n",
    "        print(f\"{i + 1}: {person1} y {person2} participaron en {movie}\")"
   ]
  }
 ],
 "metadata": {
  "kernelspec": {
   "display_name": "Python 3",
   "language": "python",
   "name": "python3"
  },
  "language_info": {
   "codemirror_mode": {
    "name": "ipython",
    "version": 3
   },
   "file_extension": ".py",
   "mimetype": "text/x-python",
   "name": "python",
   "nbconvert_exporter": "python",
   "pygments_lexer": "ipython3",
   "version": "3.8.3"
  }
 },
 "nbformat": 4,
 "nbformat_minor": 4
}
