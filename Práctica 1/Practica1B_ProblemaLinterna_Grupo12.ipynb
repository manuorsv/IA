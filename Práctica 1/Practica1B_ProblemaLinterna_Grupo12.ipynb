{
 "cells": [
  {
   "cell_type": "markdown",
   "metadata": {},
   "source": [
    "Grupo 12\n",
    "\n",
    "Francisco de Borja Lozano del Moral\n",
    "\n",
    "Manuel Ortega Salvador"
   ]
  },
  {
   "cell_type": "markdown",
   "metadata": {},
   "source": [
    "# Código para el problema 1 - Linterna"
   ]
  },
  {
   "cell_type": "markdown",
   "metadata": {},
   "source": [
    "## Definición del problema\n",
    "El problema es expresado como una tupla, donde:\n",
    "\n",
    "    [0] == vector de personas, donde cada persona contiene su velocidad y si debe cruzar,\n",
    "        ej. ((10,0), (30,0), (60,0), (80,0), (120,0)) nadie ha cruzado aún\n",
    "\n",
    "    [1] == la linterna está en el origen (izquierda)\n",
    "\n",
    "    [2] == cantidad de tiempo que queda\n",
    "\n",
    "Al expresarlo como una tupla, tiene hash y se puede comparar a otras tuplas. Esto hace que se pueda meter en el\n",
    "bin. heap más adelante."
   ]
  },
  {
   "cell_type": "markdown",
   "metadata": {},
   "source": [
    "## Elección del algoritmo\n",
    "\n",
    "Los algoritmos probados son:\n",
    "\n",
    "    1. A* con varias heurísticas: astar_search  \n",
    "    2. Dijkstra's (árbol): breadth_first_tree_search"
   ]
  },
  {
   "cell_type": "markdown",
   "metadata": {},
   "source": [
    "## Complejidad del algoritmo\n",
    "\n",
    "Los algoritmos tienen siempre como complejidad en caso peor o mejor $O(n) = D(n)^{B(n)}$ donde D es la profundidad de la solución y B es el número de ramas por nodo.\n",
    "\n",
    "Para ver el numero de acciones posibles, sea $i$ la cantidad de personas que quedan por cruzar y sea $n-i$ los que ya han cruzado.\n",
    "\n",
    "Entonces, hay en la ida tantas posibles acciones como parejas posibles si hay más de dos personas que quedan por cruzar y una en caso contrario.\n",
    "\n",
    "Por esto, en la ida hay ${i \\choose 2} = i(i-1)\\frac{1}{2} = \\frac{1}{2} (i^2 - i)$ si $i \\geq 2$ y 1 en caso contrario. \n",
    "\n",
    "En la vuelta hay tantas posibles acciones personas quedan a la vuelta, lo limitamos a que solo una persona puede volver porque nunca vale la pena que vuelvan dos personas con la linterna.\n",
    "\n",
    "Por esto, en la vuelta hay $n-i$ posibles acciones.\n",
    "\n",
    "Y por lo tanto, en una ida y vuelta hay $b = {i \\choose 2}(n-i-2)$ acciones posibles, tras lo cual $i$ incrementa en 1.\n",
    "\n",
    "Por ello tenemos que hay en una ida y vuelta ${i \\choose 2}(n-i-2) = \\frac{1}{2}i(i-1)(n-i-2)$ ramas.\n",
    "\n",
    "Para concluir, como va a haber en torno a $n$ viajes de ida y vuelta, tenemos que se van a visitar en el peor caso\n",
    "$$C(n) =\\prod_{i=1}^n \\frac{1}{2}i(i-1)(n-i-2))$$ nodos.\n",
    "\n",
    "$$C(n) \\subset O(\\prod_{i=1}^n \\frac{1}{2}i(i-1)(n-i-2)) \\subset O( \\frac{1}{2^n}\\prod_{i=2}^n i^2n - i^3 - 2i^2 + i^2- in +2i) \\subset O(\\frac{1}{2^n}\\prod_{i=2}^n i^2n - i^3) \\subset O((\\frac{n}{2})^n (n^3)^n) \\subset O((\\frac{1}{2})^n (n^3)^n) \\subset O((\\frac{n^3}{2})^n)\\subset O(0.5^n n^{3n})\\subset O(n^{3n})$$\n",
    "\n",
    "Este resultado parece correcto, ya que si se cambia la estructura del grafo y la representacion del problema para tratar en vez de trayectos, idas y vueltas, en cada nivel del arbol se abren $n^3$ ramas y tendría una profundidad lineal respecto a $n$."
   ]
  },
  {
   "cell_type": "code",
   "execution_count": 2,
   "metadata": {},
   "outputs": [],
   "source": [
    "from search import *"
   ]
  },
  {
   "cell_type": "code",
   "execution_count": 3,
   "metadata": {},
   "outputs": [],
   "source": [
    "class FlashAndBridge(Problem):\n",
    "    \"\"\"\n",
    "    El problema es expresado como un tuple, donde:\n",
    "    [0] == vector de personas, donde cada persona contiene su velocidad y si debe cruzar,\n",
    "        ej. ((10,0), (30,0), (60,0), (80,0), (120,0)) nadie ha cruzado aún\n",
    "    [1] == la linterna está en el origen (izquierda)\n",
    "    [2] == cantidad de tiempo que queda\n",
    "\n",
    "    Al expresarlo como una tupla, tiene hash y se puede comparar a otras tuplas. Esto hace que se pueda meter en el\n",
    "    bin. heap más adelante.\n",
    "    \"\"\"\n",
    "    def __init__(self, speeds, time):\n",
    "        self.initial = (\n",
    "            tuple([(speed, 0) for speed in speeds]),\n",
    "            True,\n",
    "            time\n",
    "        )\n",
    "\n",
    "    def actions(self, state):\n",
    "        \"\"\"\n",
    "        Devuelve la cantidad de acciones posibles en este turno. No admite como posibles acciones que dejan\n",
    "        tiempo negativo.\n",
    "\n",
    "        Las acciones van a estar expresadas como tuplas de personas que cruzan, que pueden tener tamaño 1 o 2.\n",
    "        \"\"\"\n",
    "        actions = []\n",
    "        time = state[2]\n",
    "        light_left = state[1]\n",
    "        people = state[0]\n",
    "\n",
    "        if light_left:\n",
    "            \"\"\"\n",
    "            Si la linterna está en el lado izquierdo puede cruzar una o dos personas.\n",
    "            \"\"\"\n",
    "            valid_indexes = [i for i in range(len(people)) if people[i][0] <= time and people[i][1] == 0]\n",
    "            N = len(valid_indexes)\n",
    "            if len(valid_indexes) == 1:\n",
    "                actions.append((valid_indexes[0],))\n",
    "            else:\n",
    "                for i in range(N):\n",
    "                    for j in range(i + 1, N):\n",
    "                        actions.append((valid_indexes[i], valid_indexes[j]))\n",
    "        else:\n",
    "            \"\"\"\n",
    "            Si la linterna está en el lado derecho solo conviene que cruze de vuelta una persona\n",
    "            \"\"\"\n",
    "            actions = [(i,) for i in range(len(people)) if people[i][0] <= time and people[i][1] == 1]\n",
    "        return actions\n",
    "\n",
    "    def result(self, state, action):\n",
    "        \"\"\"\n",
    "        Realiza la acción. Cruza o una o dos personas de un lado al otro.\n",
    "        \"\"\"\n",
    "        people = list(state[0])\n",
    "        light = state[1]\n",
    "        time = state[2]\n",
    "\n",
    "        if light and len(action) > 1:\n",
    "            x, y = action\n",
    "            xs, ys = people[x][0], people[y][0]\n",
    "            time -= max(xs, ys)\n",
    "            people[x] = people[x][0], 1\n",
    "            people[y] = people[y][0], 1\n",
    "        else:\n",
    "            action = action[0]\n",
    "            time -= people[action][0]\n",
    "            people[action] = people[action][0], 1 - people[action][1]\n",
    "\n",
    "        return tuple(people), not light, time\n",
    "\n",
    "    def goal_test(self, state):\n",
    "        \"\"\"\n",
    "        Devuelve verdadero si todos han cruzado.\n",
    "        \"\"\"\n",
    "        for speed, position in state[0]:\n",
    "            if position == 0:\n",
    "                return False\n",
    "        return True\n",
    "\n",
    "\n",
    "class Problema_con_Analizados(Problem):\n",
    "   \"\"\"Es un problema que se comporta exactamente igual que el que recibe al\n",
    "      inicializarse, y además incorpora unos atributos nuevos para almacenar el\n",
    "      número de nodos analizados durante la búsqueda. De esta manera, no\n",
    "      tenemos que modificar el código del algoritmo de búsqueda.\"\"\"\n",
    "\n",
    "   def __init__(self, problem):\n",
    "       self.initial = problem.initial\n",
    "       self.problem = problem\n",
    "       self.analizados = 0\n",
    "\n",
    "   def actions(self, estado):\n",
    "       return self.problem.actions(estado)\n",
    "\n",
    "   def result(self, estado, accion):\n",
    "       return self.problem.result(estado, accion)\n",
    "\n",
    "   def goal_test(self, estado):\n",
    "       self.analizados += 1\n",
    "       b = self.problem.goal_test(estado)\n",
    "#        if b:\n",
    "#            print(\"\\nTiempo: {}/{}\".format(self.initial[2]-estado[2], self.initial[2]))\n",
    "       return b\n",
    "\n",
    "   def coste_de_aplicar_accion(self, estado, accion):\n",
    "       return self.problem.coste_de_aplicar_accion(estado,accion)\n",
    "\n",
    "\n",
    "def resuelve_problema(estado_inicial, algoritmo, h=None, printing=True):\n",
    "        p=Problema_con_Analizados(FlashAndBridge(*estado_inicial))\n",
    "        if h:\n",
    "            sol= algoritmo(p,h).solution()\n",
    "        else:\n",
    "            sol= algoritmo(p).solution()\n",
    "        \n",
    "        if printing:\n",
    "            print(\"Solución: {0}\".format(sol))\n",
    "            print(\"Algoritmo: {0}\".format(algoritmo.__name__))\n",
    "            if h:\n",
    "                print(\"Heurística: {0}\".format(h.__name__))\n",
    "            else:\n",
    "                pass\n",
    "            print(\"Longitud de la solución: {0}. Nodos analizados: {1}\".format(len(sol), p.analizados))\n",
    "\n",
    "\n"
   ]
  },
  {
   "cell_type": "markdown",
   "metadata": {},
   "source": [
    "## Definimos ahora alguna heurística\n",
    "Como heurística básica, usamos la cantidad de personas que quedan por cruzar.\n",
    "\n",
    "Como segunda heurística, usamos la cantidad de tiempo que llevamos, esto hace que el problema se vuelva Dijkstra's y encuentre la solución óptima.\n",
    "\n",
    "estimation_h es una estimación simple tiempo que va a llevar cruzar a todo el mundo.\n",
    "\n",
    "En h2, suponemos que la linterna no se queda sin batería, por lo que el tiempo que tarda cada persona en cruzar no importa."
   ]
  },
  {
   "cell_type": "code",
   "execution_count": 4,
   "metadata": {},
   "outputs": [],
   "source": [
    "def basic_h(node):\n",
    "    state = node.state\n",
    "    total = 0\n",
    "    for (speed, pos) in state[0]:\n",
    "        total += 1-pos\n",
    "    total += 1 if state[1] else 0\n",
    "    return total\n",
    "\n",
    "\n",
    "def time_h(node):\n",
    "    return node.state[2]\n",
    "\n",
    "\n",
    "def estimation_h(node):\n",
    "    state = node.state\n",
    "    total = state[2]\n",
    "    left = 0\n",
    "    q = 0\n",
    "    min_right = 0\n",
    "\n",
    "    for (speed, pos) in state[0]:\n",
    "        if pos == 0:\n",
    "            left += speed\n",
    "            q += 1\n",
    "        else:\n",
    "            if min_right == 0 or speed < min_right:\n",
    "                min_right = speed\n",
    "    left = left/q if q > 0 else 0\n",
    "    return total - left - min_right\n",
    "\n",
    "def h2(node):\n",
    "    state = node.state\n",
    "    num = 0\n",
    "    for (speed, pos) in state[0]:\n",
    "        num += 1-pos\n",
    "    return 2*(num-state[2])-state[2]"
   ]
  },
  {
   "cell_type": "code",
   "execution_count": 5,
   "metadata": {},
   "outputs": [],
   "source": [
    "inicial = ((10, 30, 60, 80, 120), 5 * 60)\n",
    "problema = FlashAndBridge(*inicial)"
   ]
  },
  {
   "cell_type": "code",
   "execution_count": 6,
   "metadata": {},
   "outputs": [
    {
     "name": "stdout",
     "output_type": "stream",
     "text": [
      "3.81 ms ± 665 µs per loop (mean ± std. dev. of 7 runs, 100 loops each)\n"
     ]
    }
   ],
   "source": [
    "%%timeit\n",
    "astar_search(problema, time_h)"
   ]
  },
  {
   "cell_type": "code",
   "execution_count": 7,
   "metadata": {
    "scrolled": true
   },
   "outputs": [
    {
     "name": "stdout",
     "output_type": "stream",
     "text": [
      "Solución: [(0, 2), (0,), (0, 1), (1,), (3, 4), (0,), (0, 1)]\n",
      "Algoritmo: astar_search\n",
      "Heurística: time_h\n",
      "Longitud de la solución: 7. Nodos analizados: 249\n"
     ]
    }
   ],
   "source": [
    "resuelve_problema(inicial, astar_search, time_h)"
   ]
  },
  {
   "cell_type": "code",
   "execution_count": 8,
   "metadata": {},
   "outputs": [
    {
     "name": "stdout",
     "output_type": "stream",
     "text": [
      "14.9 ms ± 2.74 ms per loop (mean ± std. dev. of 7 runs, 100 loops each)\n"
     ]
    }
   ],
   "source": [
    "%%timeit\n",
    "astar_search(problema, basic_h)"
   ]
  },
  {
   "cell_type": "code",
   "execution_count": 9,
   "metadata": {},
   "outputs": [
    {
     "name": "stdout",
     "output_type": "stream",
     "text": [
      "Solución: [(0, 1), (0,), (3, 4), (1,), (0, 2), (0,), (0, 1)]\n",
      "Algoritmo: astar_search\n",
      "Heurística: basic_h\n",
      "Longitud de la solución: 7. Nodos analizados: 218\n"
     ]
    }
   ],
   "source": [
    "resuelve_problema(inicial, astar_search, basic_h)"
   ]
  },
  {
   "cell_type": "code",
   "execution_count": 61,
   "metadata": {},
   "outputs": [
    {
     "name": "stdout",
     "output_type": "stream",
     "text": [
      "3.2 ms ± 119 µs per loop (mean ± std. dev. of 7 runs, 100 loops each)\n"
     ]
    }
   ],
   "source": [
    "%%timeit\n",
    "astar_search(problema, estimation_h)"
   ]
  },
  {
   "cell_type": "code",
   "execution_count": 62,
   "metadata": {
    "scrolled": true
   },
   "outputs": [
    {
     "name": "stdout",
     "output_type": "stream",
     "text": [
      "Solución: [(0, 2), (0,), (0, 1), (1,), (3, 4), (0,), (0, 1)]\n",
      "Algoritmo: astar_search\n",
      "Heurística: estimation_h\n",
      "Longitud de la solución: 7. Nodos analizados: 249\n"
     ]
    }
   ],
   "source": [
    "resuelve_problema(inicial, astar_search, estimation_h)"
   ]
  },
  {
   "cell_type": "code",
   "execution_count": 63,
   "metadata": {},
   "outputs": [
    {
     "name": "stdout",
     "output_type": "stream",
     "text": [
      "22.8 ms ± 887 µs per loop (mean ± std. dev. of 7 runs, 10 loops each)\n"
     ]
    }
   ],
   "source": [
    "%%timeit\n",
    "astar_search(problema, h2)"
   ]
  },
  {
   "cell_type": "code",
   "execution_count": 64,
   "metadata": {},
   "outputs": [
    {
     "name": "stdout",
     "output_type": "stream",
     "text": [
      "Solución: [(0, 1), (0,), (3, 4), (1,), (0, 1), (0,), (0, 2)]\n",
      "Algoritmo: astar_search\n",
      "Heurística: h2\n",
      "Longitud de la solución: 7. Nodos analizados: 242\n"
     ]
    }
   ],
   "source": [
    "resuelve_problema(inicial, astar_search, h2)"
   ]
  },
  {
   "cell_type": "code",
   "execution_count": 65,
   "metadata": {},
   "outputs": [
    {
     "name": "stdout",
     "output_type": "stream",
     "text": [
      "16.6 ms ± 1.28 ms per loop (mean ± std. dev. of 7 runs, 100 loops each)\n"
     ]
    }
   ],
   "source": [
    "%%timeit\n",
    "uniform_cost_search(problema)"
   ]
  },
  {
   "cell_type": "code",
   "execution_count": 66,
   "metadata": {},
   "outputs": [
    {
     "name": "stdout",
     "output_type": "stream",
     "text": [
      "Solución: [(0, 2), (0,), (0, 1), (0,), (3, 4), (1,), (0, 1)]\n",
      "Algoritmo: uniform_cost_search\n",
      "Longitud de la solución: 7. Nodos analizados: 274\n"
     ]
    }
   ],
   "source": [
    "resuelve_problema(inicial, uniform_cost_search)"
   ]
  },
  {
   "cell_type": "code",
   "execution_count": 67,
   "metadata": {},
   "outputs": [
    {
     "name": "stdout",
     "output_type": "stream",
     "text": [
      "7.31 ms ± 477 µs per loop (mean ± std. dev. of 7 runs, 100 loops each)\n"
     ]
    }
   ],
   "source": [
    "%%timeit\n",
    "breadth_first_graph_search(problema)"
   ]
  },
  {
   "cell_type": "code",
   "execution_count": 68,
   "metadata": {},
   "outputs": [
    {
     "name": "stdout",
     "output_type": "stream",
     "text": [
      "Solución: [(0, 1), (0,), (0, 2), (0,), (3, 4), (1,), (0, 1)]\n",
      "Algoritmo: breadth_first_graph_search\n",
      "Longitud de la solución: 7. Nodos analizados: 271\n"
     ]
    }
   ],
   "source": [
    "resuelve_problema(inicial, breadth_first_graph_search)"
   ]
  },
  {
   "cell_type": "code",
   "execution_count": 69,
   "metadata": {},
   "outputs": [
    {
     "name": "stdout",
     "output_type": "stream",
     "text": [
      "2.09 ms ± 49.8 µs per loop (mean ± std. dev. of 7 runs, 1000 loops each)\n"
     ]
    }
   ],
   "source": [
    "%%timeit\n",
    "\n",
    "depth_first_graph_search(problema)"
   ]
  },
  {
   "cell_type": "code",
   "execution_count": 70,
   "metadata": {},
   "outputs": [
    {
     "name": "stdout",
     "output_type": "stream",
     "text": [
      "Solución: [(0, 2), (0,), (0, 1), (1,), (3, 4), (0,), (0, 1)]\n",
      "Algoritmo: depth_first_graph_search\n",
      "Longitud de la solución: 7. Nodos analizados: 249\n"
     ]
    }
   ],
   "source": [
    "resuelve_problema(inicial, depth_first_graph_search)"
   ]
  },
  {
   "cell_type": "code",
   "execution_count": 71,
   "metadata": {},
   "outputs": [
    {
     "name": "stdout",
     "output_type": "stream",
     "text": [
      "5.18 ms ± 484 µs per loop (mean ± std. dev. of 7 runs, 100 loops each)\n"
     ]
    }
   ],
   "source": [
    "%%timeit\n",
    "depth_first_tree_search(problema)"
   ]
  },
  {
   "cell_type": "code",
   "execution_count": 72,
   "metadata": {
    "scrolled": true
   },
   "outputs": [
    {
     "name": "stdout",
     "output_type": "stream",
     "text": [
      "Solución: [(0, 2), (0,), (0, 1), (1,), (3, 4), (0,), (0, 1)]\n",
      "Algoritmo: depth_first_tree_search\n",
      "Longitud de la solución: 7. Nodos analizados: 1250\n"
     ]
    }
   ],
   "source": [
    "resuelve_problema(inicial, depth_first_tree_search)"
   ]
  },
  {
   "cell_type": "code",
   "execution_count": 73,
   "metadata": {},
   "outputs": [
    {
     "name": "stdout",
     "output_type": "stream",
     "text": [
      "4.61 ms ± 193 µs per loop (mean ± std. dev. of 7 runs, 100 loops each)\n"
     ]
    }
   ],
   "source": [
    "%%timeit\n",
    "breadth_first_tree_search(problema)"
   ]
  },
  {
   "cell_type": "code",
   "execution_count": 74,
   "metadata": {},
   "outputs": [
    {
     "name": "stdout",
     "output_type": "stream",
     "text": [
      "Solución: [(0, 1), (0,), (0, 2), (0,), (3, 4), (1,), (0, 1)]\n",
      "Algoritmo: breadth_first_tree_search\n",
      "Longitud de la solución: 7. Nodos analizados: 994\n"
     ]
    }
   ],
   "source": [
    "resuelve_problema(inicial, breadth_first_tree_search)"
   ]
  },
  {
   "cell_type": "markdown",
   "metadata": {},
   "source": [
    "## Tabla de resultados\n",
    "\n",
    "| Algorithm \t| H \t| Nodes \t| Time | Solution \t|  \t\n",
    "|:-:\t|:-:\t|:-:\t|:-:\t|:-:\t|\n",
    "| A* \t| time_h \t| 249 \t|   3.26 ms ± 244 µs\t|  [(0, 2), (0,), (0, 1), (1,), (3, 4), (0,), (0, 1)]\t|\n",
    "| A* \t| estimation_h \t| 249 \t| 3.2 ms ± 119 µs\t| [(0, 2), (0,), (0, 1), (1,), (3, 4), (0,), (0, 1)] \t|\n",
    "| A* \t| basic_h \t| 218 | 13.1 ms ± 365 µs \t| [(0, 1), (0,), (3, 4), (1,), (0, 2), (0,), (0, 1)] \t|\n",
    "| A* \t| h2 \t| 242 \t| 22.8 ms ± 887 | [(0, 1), (0,), (3, 4), (1,), (0, 1), (0,), (0, 2)]  \t|\n",
    "| BFTS \t| - \t| 994 \t| 4.61 ms ± 193 µs \t| [(0, 1), (0,), (0, 2), (0,), (3, 4), (1,), (0, 1)] \t|\n",
    "| BFGS \t| - \t| 271 \t| 7.31 ms ± 477 µs  |  [(0, 1), (0,), (0, 2), (0,), (3, 4), (1,), (0, 1)]\t|\n",
    "| DFTS \t| - \t| 1250 \t| 5.18 ms ± 484 µs \t|  [(0, 2), (0,), (0, 1), (1,), (3, 4), (0,), (0, 1)]\t|\n",
    "| DFGS\t| -\t    | 249 \t| 2.09 ms ± 49.8 µs\t| [(0, 2), (0,), (0, 1), (1,), (3, 4), (0,), (0, 1)] \t|\n"
   ]
  },
  {
   "cell_type": "markdown",
   "metadata": {},
   "source": [
    "Como podemos observar, depth first graph search es el algoritmo más rápido en este caso, pero apenas es mejor que A* usando time_h o estimation_h. Podemos ahora compararlos en otros casos más complejos:"
   ]
  },
  {
   "cell_type": "code",
   "execution_count": 75,
   "metadata": {},
   "outputs": [],
   "source": [
    "inicial = ((10, 30, 60, 80, 120, 10, 50), 6 * 60)\n",
    "problema = FlashAndBridge(*inicial)"
   ]
  },
  {
   "cell_type": "code",
   "execution_count": 76,
   "metadata": {},
   "outputs": [
    {
     "name": "stdout",
     "output_type": "stream",
     "text": [
      "16.6 ms ± 679 µs per loop (mean ± std. dev. of 7 runs, 100 loops each)\n"
     ]
    }
   ],
   "source": [
    "%%timeit\n",
    "astar_search(problema, time_h)"
   ]
  },
  {
   "cell_type": "code",
   "execution_count": 77,
   "metadata": {
    "scrolled": true
   },
   "outputs": [
    {
     "name": "stdout",
     "output_type": "stream",
     "text": [
      "Solución: [(4, 5), (5,), (3, 5), (5,), (1, 5), (5,), (0, 5), (0,), (2, 6), (5,), (0, 5)]\n",
      "Algoritmo: astar_search\n",
      "Heurística: time_h\n",
      "Longitud de la solución: 11. Nodos analizados: 603\n"
     ]
    }
   ],
   "source": [
    "resuelve_problema(inicial, astar_search, time_h)"
   ]
  },
  {
   "cell_type": "code",
   "execution_count": 80,
   "metadata": {},
   "outputs": [
    {
     "name": "stdout",
     "output_type": "stream",
     "text": [
      "37.7 ms ± 2.08 ms per loop (mean ± std. dev. of 7 runs, 10 loops each)\n"
     ]
    }
   ],
   "source": [
    "%%timeit\n",
    "astar_search(problema, estimation_h)"
   ]
  },
  {
   "cell_type": "code",
   "execution_count": 81,
   "metadata": {
    "scrolled": true
   },
   "outputs": [
    {
     "name": "stdout",
     "output_type": "stream",
     "text": [
      "Solución: [(1, 4), (1,), (0, 5), (0,), (1, 3), (5,), (0, 5), (0,), (2, 6), (5,), (0, 5)]\n",
      "Algoritmo: astar_search\n",
      "Heurística: estimation_h\n",
      "Longitud de la solución: 11. Nodos analizados: 1215\n"
     ]
    }
   ],
   "source": [
    "resuelve_problema(inicial, astar_search, estimation_h)"
   ]
  },
  {
   "cell_type": "code",
   "execution_count": 82,
   "metadata": {},
   "outputs": [
    {
     "name": "stdout",
     "output_type": "stream",
     "text": [
      "18.4 ms ± 513 µs per loop (mean ± std. dev. of 7 runs, 100 loops each)\n"
     ]
    }
   ],
   "source": [
    "%%timeit\n",
    "\n",
    "depth_first_graph_search(problema)"
   ]
  },
  {
   "cell_type": "code",
   "execution_count": 83,
   "metadata": {},
   "outputs": [
    {
     "name": "stdout",
     "output_type": "stream",
     "text": [
      "Solución: [(5, 6), (5,), (4, 5), (5,), (1, 5), (5,), (0, 5), (5,), (2, 3), (0,), (0, 5)]\n",
      "Algoritmo: depth_first_graph_search\n",
      "Longitud de la solución: 11. Nodos analizados: 1038\n"
     ]
    }
   ],
   "source": [
    "resuelve_problema(inicial, depth_first_graph_search)"
   ]
  },
  {
   "cell_type": "code",
   "execution_count": 84,
   "metadata": {},
   "outputs": [
    {
     "name": "stdout",
     "output_type": "stream",
     "text": [
      "116 ms ± 4.51 ms per loop (mean ± std. dev. of 7 runs, 10 loops each)\n"
     ]
    }
   ],
   "source": [
    "%%timeit\n",
    "depth_first_tree_search(problema)"
   ]
  },
  {
   "cell_type": "code",
   "execution_count": 85,
   "metadata": {
    "scrolled": true
   },
   "outputs": [
    {
     "name": "stdout",
     "output_type": "stream",
     "text": [
      "Solución: [(5, 6), (5,), (4, 5), (5,), (1, 5), (5,), (0, 5), (5,), (2, 3), (0,), (0, 5)]\n",
      "Algoritmo: depth_first_tree_search\n",
      "Longitud de la solución: 11. Nodos analizados: 30835\n"
     ]
    }
   ],
   "source": [
    "resuelve_problema(inicial, depth_first_tree_search)"
   ]
  },
  {
   "cell_type": "markdown",
   "metadata": {},
   "source": [
    "Como se podía preveer, A* supera a DFS cuando el número de ramas que tiene que explorar DFS aumenta. Otra cosa que conviene comentar es que no solo es A* más rápido con time_h que las otras opciones, sino que además devuelve la solución que usa el menor tiempo posible."
   ]
  },
  {
   "cell_type": "code",
   "execution_count": null,
   "metadata": {},
   "outputs": [],
   "source": []
  }
 ],
 "metadata": {
  "kernelspec": {
   "display_name": "Python 3",
   "language": "python",
   "name": "python3"
  },
  "language_info": {
   "codemirror_mode": {
    "name": "ipython",
    "version": 3
   },
   "file_extension": ".py",
   "mimetype": "text/x-python",
   "name": "python",
   "nbconvert_exporter": "python",
   "pygments_lexer": "ipython3",
   "version": "3.8.3"
  }
 },
 "nbformat": 4,
 "nbformat_minor": 4
}
